{
 "cells": [
  {
   "cell_type": "markdown",
   "id": "97862367",
   "metadata": {},
   "source": [
    "# 2018 Stack Flow Developer Survey Data Set "
   ]
  },
  {
   "cell_type": "markdown",
   "id": "5a852d5f",
   "metadata": {},
   "source": [
    "### Import Dependencies "
   ]
  },
  {
   "cell_type": "code",
   "execution_count": 2,
   "id": "d47eb0b4",
   "metadata": {},
   "outputs": [],
   "source": [
    "import pandas as pd "
   ]
  },
  {
   "cell_type": "code",
   "execution_count": 19,
   "id": "dea71916",
   "metadata": {},
   "outputs": [],
   "source": [
    "#filepath = \"./ResourcesFiles/2018survey_results_public.csv\" # Load the dataset.\n",
    "#alldata= pd.read_csv(filepath)#, index_col=0)\n",
    "#alldata.head(2)\n",
    "#alldata.columns.tolist()"
   ]
  },
  {
   "cell_type": "markdown",
   "id": "ae337f27",
   "metadata": {},
   "source": [
    "#### Load Kaggle Data for Comparison"
   ]
  },
  {
   "cell_type": "code",
   "execution_count": 4,
   "id": "c750a171",
   "metadata": {},
   "outputs": [
    {
     "data": {
      "text/html": [
       "<div>\n",
       "<style scoped>\n",
       "    .dataframe tbody tr th:only-of-type {\n",
       "        vertical-align: middle;\n",
       "    }\n",
       "\n",
       "    .dataframe tbody tr th {\n",
       "        vertical-align: top;\n",
       "    }\n",
       "\n",
       "    .dataframe thead th {\n",
       "        text-align: right;\n",
       "    }\n",
       "</style>\n",
       "<table border=\"1\" class=\"dataframe\">\n",
       "  <thead>\n",
       "    <tr style=\"text-align: right;\">\n",
       "      <th></th>\n",
       "      <th>Age</th>\n",
       "      <th>Gender</th>\n",
       "      <th>Country</th>\n",
       "      <th>Formal Education</th>\n",
       "      <th>Position</th>\n",
       "      <th>Year Coding</th>\n",
       "      <th>Salary</th>\n",
       "    </tr>\n",
       "  </thead>\n",
       "  <tbody>\n",
       "    <tr>\n",
       "      <th>2</th>\n",
       "      <td>30-34</td>\n",
       "      <td>Man</td>\n",
       "      <td>United States of America</td>\n",
       "      <td>Master’s degree</td>\n",
       "      <td>Data Engineer</td>\n",
       "      <td>5-10 years</td>\n",
       "      <td>100,000-124,999</td>\n",
       "    </tr>\n",
       "  </tbody>\n",
       "</table>\n",
       "</div>"
      ],
      "text/plain": [
       "     Age Gender                   Country Formal Education       Position  \\\n",
       "2  30-34    Man  United States of America  Master’s degree  Data Engineer   \n",
       "\n",
       "  Year Coding           Salary  \n",
       "2  5-10 years  100,000-124,999  "
      ]
     },
     "execution_count": 4,
     "metadata": {},
     "output_type": "execute_result"
    }
   ],
   "source": [
    "filepath = \"../Gender_Gap_In_Tech_Survery_Data/kaggle_survey_2020_responses.csv\" # Load the dataset.\n",
    "kaggledata= pd.read_csv(filepath, usecols=[ 'Q1','Q2','Q3','Q4','Q5','Q6', 'Q24',]) #Read the Data as a Panda Dataframe \n",
    "header = [ 'Age','Gender','Country','Formal Education','Position','Year Coding', 'Salary',]# Set headers NAme \n",
    "kaggledata = kaggledata[1:] #take the data less the header row\n",
    "kaggledata.columns = header #set the header row with header variable we created\n",
    "kaggledf = kaggledata[(kaggledata['Country'] == 'United States of America')].dropna()#take only values with US & drop null values\n",
    "# ReOrderheader = [ 'Country', 'Gender', 'Age','Formal Education','Position','Year Coding','Org Size', 'Salary',]\n",
    "kaggledf.head(1)"
   ]
  },
  {
   "cell_type": "markdown",
   "id": "2d4552de",
   "metadata": {},
   "source": [
    "# STACK OVER FLOW DATA "
   ]
  },
  {
   "cell_type": "code",
   "execution_count": 9,
   "id": "3c32fd1c",
   "metadata": {},
   "outputs": [
    {
     "name": "stderr",
     "output_type": "stream",
     "text": [
      "/opt/anaconda3/lib/python3.8/site-packages/IPython/core/interactiveshell.py:3165: DtypeWarning: Columns (52,120,124) have mixed types.Specify dtype option on import or set low_memory=False.\n",
      "  has_raised = await self.run_ast_nodes(code_ast.body, cell_name,\n"
     ]
    },
    {
     "data": {
      "text/html": [
       "<div>\n",
       "<style scoped>\n",
       "    .dataframe tbody tr th:only-of-type {\n",
       "        vertical-align: middle;\n",
       "    }\n",
       "\n",
       "    .dataframe tbody tr th {\n",
       "        vertical-align: top;\n",
       "    }\n",
       "\n",
       "    .dataframe thead th {\n",
       "        text-align: right;\n",
       "    }\n",
       "</style>\n",
       "<table border=\"1\" class=\"dataframe\">\n",
       "  <thead>\n",
       "    <tr style=\"text-align: right;\">\n",
       "      <th></th>\n",
       "      <th>Country</th>\n",
       "      <th>FormalEducation</th>\n",
       "      <th>YearsCoding</th>\n",
       "      <th>Salary</th>\n",
       "      <th>Gender</th>\n",
       "      <th>Age</th>\n",
       "    </tr>\n",
       "  </thead>\n",
       "  <tbody>\n",
       "    <tr>\n",
       "      <th>6</th>\n",
       "      <td>United States</td>\n",
       "      <td>Some college/university study without earning ...</td>\n",
       "      <td>9-11 years</td>\n",
       "      <td>120000</td>\n",
       "      <td>Male</td>\n",
       "      <td>18 - 24 years old</td>\n",
       "    </tr>\n",
       "    <tr>\n",
       "      <th>8</th>\n",
       "      <td>United States</td>\n",
       "      <td>Some college/university study without earning ...</td>\n",
       "      <td>30 or more years</td>\n",
       "      <td>250000</td>\n",
       "      <td>Male</td>\n",
       "      <td>35 - 44 years old</td>\n",
       "    </tr>\n",
       "    <tr>\n",
       "      <th>23</th>\n",
       "      <td>United States</td>\n",
       "      <td>Some college/university study without earning ...</td>\n",
       "      <td>18-20 years</td>\n",
       "      <td>75000</td>\n",
       "      <td>Female;Male;Transgender;Non-binary, genderquee...</td>\n",
       "      <td>45 - 54 years old</td>\n",
       "    </tr>\n",
       "    <tr>\n",
       "      <th>27</th>\n",
       "      <td>United States</td>\n",
       "      <td>Bachelor’s degree (BA, BS, B.Eng., etc.)</td>\n",
       "      <td>3-5 years</td>\n",
       "      <td>75000</td>\n",
       "      <td>Male</td>\n",
       "      <td>25 - 34 years old</td>\n",
       "    </tr>\n",
       "    <tr>\n",
       "      <th>32</th>\n",
       "      <td>United States</td>\n",
       "      <td>Bachelor’s degree (BA, BS, B.Eng., etc.)</td>\n",
       "      <td>6-8 years</td>\n",
       "      <td>44000</td>\n",
       "      <td>Female</td>\n",
       "      <td>18 - 24 years old</td>\n",
       "    </tr>\n",
       "  </tbody>\n",
       "</table>\n",
       "</div>"
      ],
      "text/plain": [
       "          Country                                    FormalEducation  \\\n",
       "6   United States  Some college/university study without earning ...   \n",
       "8   United States  Some college/university study without earning ...   \n",
       "23  United States  Some college/university study without earning ...   \n",
       "27  United States           Bachelor’s degree (BA, BS, B.Eng., etc.)   \n",
       "32  United States           Bachelor’s degree (BA, BS, B.Eng., etc.)   \n",
       "\n",
       "         YearsCoding  Salary  \\\n",
       "6         9-11 years  120000   \n",
       "8   30 or more years  250000   \n",
       "23       18-20 years   75000   \n",
       "27         3-5 years   75000   \n",
       "32         6-8 years   44000   \n",
       "\n",
       "                                               Gender                Age  \n",
       "6                                                Male  18 - 24 years old  \n",
       "8                                                Male  35 - 44 years old  \n",
       "23  Female;Male;Transgender;Non-binary, genderquee...  45 - 54 years old  \n",
       "27                                               Male  25 - 34 years old  \n",
       "32                                             Female  18 - 24 years old  "
      ]
     },
     "execution_count": 9,
     "metadata": {},
     "output_type": "execute_result"
    }
   ],
   "source": [
    "#data= pd.read_csv(filepath, index_col=0)\n",
    "filepath = \"./ResourcesFiles/2018survey_results_public.csv\" # Load the dataset.\n",
    "stackdata= pd.read_csv(filepath, usecols=[ 'Age','Gender','Country','FormalEducation','YearsCoding','Salary',])#Read the Data as a Panda Dataframe\n",
    "stack_df = stackdata[(stackdata['Country'] == 'United States')].dropna()#take only values with US & drop null values\n",
    "#header =  ['Age','Gender','Country','Formal Education','Year Coding', 'Salary',] #Reindex/Rename Columns \n",
    "stack_df.head()"
   ]
  },
  {
   "cell_type": "code",
   "execution_count": 10,
   "id": "9bf58e31",
   "metadata": {},
   "outputs": [
    {
     "data": {
      "text/plain": [
       "Index(['Country', 'FormalEducation', 'YearsCoding', 'Salary', 'Gender', 'Age'], dtype='object')"
      ]
     },
     "execution_count": 10,
     "metadata": {},
     "output_type": "execute_result"
    }
   ],
   "source": [
    "stack_df.columns # Print Column Name "
   ]
  },
  {
   "cell_type": "code",
   "execution_count": 11,
   "id": "291867fc",
   "metadata": {},
   "outputs": [
    {
     "data": {
      "text/plain": [
       "Country            object\n",
       "FormalEducation    object\n",
       "YearsCoding        object\n",
       "Salary             object\n",
       "Gender             object\n",
       "Age                object\n",
       "dtype: object"
      ]
     },
     "execution_count": 11,
     "metadata": {},
     "output_type": "execute_result"
    }
   ],
   "source": [
    "stack_df.dtypes # Print DataTypes "
   ]
  },
  {
   "cell_type": "code",
   "execution_count": 12,
   "id": "aff24807",
   "metadata": {},
   "outputs": [
    {
     "name": "stdout",
     "output_type": "stream",
     "text": [
      "Column Country has 0 null values\n",
      "Column FormalEducation has 0 null values\n",
      "Column YearsCoding has 0 null values\n",
      "Column Salary has 0 null values\n",
      "Column Gender has 0 null values\n",
      "Column Age has 0 null values\n"
     ]
    }
   ],
   "source": [
    "#Check for Null Values\n",
    "for column in stack_df.columns:\n",
    "    print(f\"Column {column} has {stack_df[column].isnull().sum()} null values\")"
   ]
  },
  {
   "cell_type": "markdown",
   "id": "5b3ebe2c",
   "metadata": {},
   "source": [
    "#### Job Satisfaction Data Set"
   ]
  },
  {
   "cell_type": "code",
   "execution_count": 14,
   "id": "17ecaa44",
   "metadata": {},
   "outputs": [
    {
     "name": "stderr",
     "output_type": "stream",
     "text": [
      "/opt/anaconda3/lib/python3.8/site-packages/IPython/core/interactiveshell.py:3165: DtypeWarning: Columns (12,120) have mixed types.Specify dtype option on import or set low_memory=False.\n",
      "  has_raised = await self.run_ast_nodes(code_ast.body, cell_name,\n"
     ]
    },
    {
     "data": {
      "text/html": [
       "<div>\n",
       "<style scoped>\n",
       "    .dataframe tbody tr th:only-of-type {\n",
       "        vertical-align: middle;\n",
       "    }\n",
       "\n",
       "    .dataframe tbody tr th {\n",
       "        vertical-align: top;\n",
       "    }\n",
       "\n",
       "    .dataframe thead th {\n",
       "        text-align: right;\n",
       "    }\n",
       "</style>\n",
       "<table border=\"1\" class=\"dataframe\">\n",
       "  <thead>\n",
       "    <tr style=\"text-align: right;\">\n",
       "      <th></th>\n",
       "      <th>Country</th>\n",
       "      <th>UndergradMajor</th>\n",
       "      <th>JobSatisfaction</th>\n",
       "      <th>Gender</th>\n",
       "    </tr>\n",
       "  </thead>\n",
       "  <tbody>\n",
       "    <tr>\n",
       "      <th>3</th>\n",
       "      <td>United States</td>\n",
       "      <td>Computer science, computer engineering, or sof...</td>\n",
       "      <td>Neither satisfied nor dissatisfied</td>\n",
       "      <td>Male</td>\n",
       "    </tr>\n",
       "  </tbody>\n",
       "</table>\n",
       "</div>"
      ],
      "text/plain": [
       "         Country                                     UndergradMajor  \\\n",
       "3  United States  Computer science, computer engineering, or sof...   \n",
       "\n",
       "                      JobSatisfaction Gender  \n",
       "3  Neither satisfied nor dissatisfied   Male  "
      ]
     },
     "execution_count": 14,
     "metadata": {},
     "output_type": "execute_result"
    }
   ],
   "source": [
    "#Load the data set \n",
    "filepath = \"./ResourcesFiles/2018survey_results_public.csv\" # Load the dataset.\n",
    "JobSatData= pd.read_csv(filepath, usecols=[ 'Gender','Country', 'JobSatisfaction','UndergradMajor',])\n",
    "Job_sat_df = JobSatData[(JobSatData['Country'] == 'United States')].dropna()#take only values with US & drop null values\n",
    "Job_sat_df.head(1)"
   ]
  },
  {
   "cell_type": "markdown",
   "id": "79aac2e0",
   "metadata": {},
   "source": [
    "### Women only DataFrame "
   ]
  },
  {
   "cell_type": "code",
   "execution_count": 17,
   "id": "a0c7f9de",
   "metadata": {},
   "outputs": [
    {
     "data": {
      "text/html": [
       "<div>\n",
       "<style scoped>\n",
       "    .dataframe tbody tr th:only-of-type {\n",
       "        vertical-align: middle;\n",
       "    }\n",
       "\n",
       "    .dataframe tbody tr th {\n",
       "        vertical-align: top;\n",
       "    }\n",
       "\n",
       "    .dataframe thead th {\n",
       "        text-align: right;\n",
       "    }\n",
       "</style>\n",
       "<table border=\"1\" class=\"dataframe\">\n",
       "  <thead>\n",
       "    <tr style=\"text-align: right;\">\n",
       "      <th></th>\n",
       "      <th>Country</th>\n",
       "      <th>FormalEducation</th>\n",
       "      <th>YearsCoding</th>\n",
       "      <th>Salary</th>\n",
       "      <th>Gender</th>\n",
       "      <th>Age</th>\n",
       "    </tr>\n",
       "  </thead>\n",
       "  <tbody>\n",
       "    <tr>\n",
       "      <th>32</th>\n",
       "      <td>United States</td>\n",
       "      <td>Bachelor’s degree (BA, BS, B.Eng., etc.)</td>\n",
       "      <td>6-8 years</td>\n",
       "      <td>44000</td>\n",
       "      <td>Female</td>\n",
       "      <td>18 - 24 years old</td>\n",
       "    </tr>\n",
       "    <tr>\n",
       "      <th>33</th>\n",
       "      <td>United States</td>\n",
       "      <td>Bachelor’s degree (BA, BS, B.Eng., etc.)</td>\n",
       "      <td>3-5 years</td>\n",
       "      <td>60000</td>\n",
       "      <td>Female</td>\n",
       "      <td>25 - 34 years old</td>\n",
       "    </tr>\n",
       "    <tr>\n",
       "      <th>242</th>\n",
       "      <td>United States</td>\n",
       "      <td>Bachelor’s degree (BA, BS, B.Eng., etc.)</td>\n",
       "      <td>3-5 years</td>\n",
       "      <td>65000</td>\n",
       "      <td>Female</td>\n",
       "      <td>25 - 34 years old</td>\n",
       "    </tr>\n",
       "    <tr>\n",
       "      <th>269</th>\n",
       "      <td>United States</td>\n",
       "      <td>Some college/university study without earning ...</td>\n",
       "      <td>3-5 years</td>\n",
       "      <td>52000</td>\n",
       "      <td>Female</td>\n",
       "      <td>18 - 24 years old</td>\n",
       "    </tr>\n",
       "    <tr>\n",
       "      <th>347</th>\n",
       "      <td>United States</td>\n",
       "      <td>Other doctoral degree (Ph.D, Ed.D., etc.)</td>\n",
       "      <td>15-17 years</td>\n",
       "      <td>113000</td>\n",
       "      <td>Female</td>\n",
       "      <td>35 - 44 years old</td>\n",
       "    </tr>\n",
       "  </tbody>\n",
       "</table>\n",
       "</div>"
      ],
      "text/plain": [
       "           Country                                    FormalEducation  \\\n",
       "32   United States           Bachelor’s degree (BA, BS, B.Eng., etc.)   \n",
       "33   United States           Bachelor’s degree (BA, BS, B.Eng., etc.)   \n",
       "242  United States           Bachelor’s degree (BA, BS, B.Eng., etc.)   \n",
       "269  United States  Some college/university study without earning ...   \n",
       "347  United States          Other doctoral degree (Ph.D, Ed.D., etc.)   \n",
       "\n",
       "     YearsCoding  Salary  Gender                Age  \n",
       "32     6-8 years   44000  Female  18 - 24 years old  \n",
       "33     3-5 years   60000  Female  25 - 34 years old  \n",
       "242    3-5 years   65000  Female  25 - 34 years old  \n",
       "269    3-5 years   52000  Female  18 - 24 years old  \n",
       "347  15-17 years  113000  Female  35 - 44 years old  "
      ]
     },
     "execution_count": 17,
     "metadata": {},
     "output_type": "execute_result"
    }
   ],
   "source": [
    "### Select gender equal to women Column \n",
    "stack_women_df= stack_df[(stack_df ['Gender'] == 'Female')]\n",
    "stack_women_df.head()"
   ]
  },
  {
   "cell_type": "markdown",
   "id": "7fe863ee",
   "metadata": {},
   "source": [
    "### Man Only DataFrame "
   ]
  },
  {
   "cell_type": "code",
   "execution_count": 18,
   "id": "ec277916",
   "metadata": {},
   "outputs": [
    {
     "data": {
      "text/html": [
       "<div>\n",
       "<style scoped>\n",
       "    .dataframe tbody tr th:only-of-type {\n",
       "        vertical-align: middle;\n",
       "    }\n",
       "\n",
       "    .dataframe tbody tr th {\n",
       "        vertical-align: top;\n",
       "    }\n",
       "\n",
       "    .dataframe thead th {\n",
       "        text-align: right;\n",
       "    }\n",
       "</style>\n",
       "<table border=\"1\" class=\"dataframe\">\n",
       "  <thead>\n",
       "    <tr style=\"text-align: right;\">\n",
       "      <th></th>\n",
       "      <th>Country</th>\n",
       "      <th>FormalEducation</th>\n",
       "      <th>YearsCoding</th>\n",
       "      <th>Salary</th>\n",
       "      <th>Gender</th>\n",
       "      <th>Age</th>\n",
       "    </tr>\n",
       "  </thead>\n",
       "  <tbody>\n",
       "    <tr>\n",
       "      <th>6</th>\n",
       "      <td>United States</td>\n",
       "      <td>Some college/university study without earning ...</td>\n",
       "      <td>9-11 years</td>\n",
       "      <td>120000</td>\n",
       "      <td>Male</td>\n",
       "      <td>18 - 24 years old</td>\n",
       "    </tr>\n",
       "    <tr>\n",
       "      <th>8</th>\n",
       "      <td>United States</td>\n",
       "      <td>Some college/university study without earning ...</td>\n",
       "      <td>30 or more years</td>\n",
       "      <td>250000</td>\n",
       "      <td>Male</td>\n",
       "      <td>35 - 44 years old</td>\n",
       "    </tr>\n",
       "    <tr>\n",
       "      <th>27</th>\n",
       "      <td>United States</td>\n",
       "      <td>Bachelor’s degree (BA, BS, B.Eng., etc.)</td>\n",
       "      <td>3-5 years</td>\n",
       "      <td>75000</td>\n",
       "      <td>Male</td>\n",
       "      <td>25 - 34 years old</td>\n",
       "    </tr>\n",
       "    <tr>\n",
       "      <th>35</th>\n",
       "      <td>United States</td>\n",
       "      <td>Bachelor’s degree (BA, BS, B.Eng., etc.)</td>\n",
       "      <td>12-14 years</td>\n",
       "      <td>80000</td>\n",
       "      <td>Male</td>\n",
       "      <td>25 - 34 years old</td>\n",
       "    </tr>\n",
       "    <tr>\n",
       "      <th>43</th>\n",
       "      <td>United States</td>\n",
       "      <td>Bachelor’s degree (BA, BS, B.Eng., etc.)</td>\n",
       "      <td>9-11 years</td>\n",
       "      <td>74000</td>\n",
       "      <td>Male</td>\n",
       "      <td>25 - 34 years old</td>\n",
       "    </tr>\n",
       "  </tbody>\n",
       "</table>\n",
       "</div>"
      ],
      "text/plain": [
       "          Country                                    FormalEducation  \\\n",
       "6   United States  Some college/university study without earning ...   \n",
       "8   United States  Some college/university study without earning ...   \n",
       "27  United States           Bachelor’s degree (BA, BS, B.Eng., etc.)   \n",
       "35  United States           Bachelor’s degree (BA, BS, B.Eng., etc.)   \n",
       "43  United States           Bachelor’s degree (BA, BS, B.Eng., etc.)   \n",
       "\n",
       "         YearsCoding  Salary Gender                Age  \n",
       "6         9-11 years  120000   Male  18 - 24 years old  \n",
       "8   30 or more years  250000   Male  35 - 44 years old  \n",
       "27         3-5 years   75000   Male  25 - 34 years old  \n",
       "35       12-14 years   80000   Male  25 - 34 years old  \n",
       "43        9-11 years   74000   Male  25 - 34 years old  "
      ]
     },
     "execution_count": 18,
     "metadata": {},
     "output_type": "execute_result"
    }
   ],
   "source": [
    "# Select only the data with the gender equal to \"Man\"\n",
    "stack_men_df= stack_df[(stack_df ['Gender'] == 'Male')]\n",
    "stack_men_df.head()"
   ]
  },
  {
   "cell_type": "code",
   "execution_count": null,
   "id": "a18fe566",
   "metadata": {},
   "outputs": [],
   "source": [
    "# Save New cleaned File \n",
    "#output_file_path = \"../Resources/2020StackOverFlow_DevSurvey/clean_survey_results_public.csv\"\"]\n",
    "#us_df.to_csv(output_file_path, index=False)"
   ]
  },
  {
   "cell_type": "code",
   "execution_count": null,
   "id": "e2a26fa8",
   "metadata": {},
   "outputs": [],
   "source": []
  }
 ],
 "metadata": {
  "kernelspec": {
   "display_name": "Python 3",
   "language": "python",
   "name": "python3"
  },
  "language_info": {
   "codemirror_mode": {
    "name": "ipython",
    "version": 3
   },
   "file_extension": ".py",
   "mimetype": "text/x-python",
   "name": "python",
   "nbconvert_exporter": "python",
   "pygments_lexer": "ipython3",
   "version": "3.8.8"
  }
 },
 "nbformat": 4,
 "nbformat_minor": 5
}
