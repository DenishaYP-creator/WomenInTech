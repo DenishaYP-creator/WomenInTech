{
 "cells": [
  {
   "cell_type": "markdown",
   "id": "97862367",
   "metadata": {},
   "source": [
    "# 2020 Stack Flow Developer Survey Data Set "
   ]
  },
  {
   "cell_type": "markdown",
   "id": "5a852d5f",
   "metadata": {},
   "source": [
    "### Import Dependencies "
   ]
  },
  {
   "cell_type": "code",
   "execution_count": 3,
   "id": "d47eb0b4",
   "metadata": {},
   "outputs": [],
   "source": [
    "import pandas as pd "
   ]
  },
  {
   "cell_type": "code",
   "execution_count": 4,
   "id": "56976d50",
   "metadata": {},
   "outputs": [
    {
     "data": {
      "text/html": [
       "<div>\n",
       "<style scoped>\n",
       "    .dataframe tbody tr th:only-of-type {\n",
       "        vertical-align: middle;\n",
       "    }\n",
       "\n",
       "    .dataframe tbody tr th {\n",
       "        vertical-align: top;\n",
       "    }\n",
       "\n",
       "    .dataframe thead th {\n",
       "        text-align: right;\n",
       "    }\n",
       "</style>\n",
       "<table border=\"1\" class=\"dataframe\">\n",
       "  <thead>\n",
       "    <tr style=\"text-align: right;\">\n",
       "      <th></th>\n",
       "      <th>Respondent</th>\n",
       "      <th>MainBranch</th>\n",
       "      <th>Hobbyist</th>\n",
       "      <th>Age</th>\n",
       "      <th>Age1stCode</th>\n",
       "      <th>CompFreq</th>\n",
       "      <th>CompTotal</th>\n",
       "      <th>ConvertedComp</th>\n",
       "      <th>Country</th>\n",
       "      <th>CurrencyDesc</th>\n",
       "      <th>...</th>\n",
       "      <th>SurveyEase</th>\n",
       "      <th>SurveyLength</th>\n",
       "      <th>Trans</th>\n",
       "      <th>UndergradMajor</th>\n",
       "      <th>WebframeDesireNextYear</th>\n",
       "      <th>WebframeWorkedWith</th>\n",
       "      <th>WelcomeChange</th>\n",
       "      <th>WorkWeekHrs</th>\n",
       "      <th>YearsCode</th>\n",
       "      <th>YearsCodePro</th>\n",
       "    </tr>\n",
       "  </thead>\n",
       "  <tbody>\n",
       "    <tr>\n",
       "      <th>0</th>\n",
       "      <td>1</td>\n",
       "      <td>I am a developer by profession</td>\n",
       "      <td>Yes</td>\n",
       "      <td>NaN</td>\n",
       "      <td>13</td>\n",
       "      <td>Monthly</td>\n",
       "      <td>NaN</td>\n",
       "      <td>NaN</td>\n",
       "      <td>Germany</td>\n",
       "      <td>European Euro</td>\n",
       "      <td>...</td>\n",
       "      <td>Neither easy nor difficult</td>\n",
       "      <td>Appropriate in length</td>\n",
       "      <td>No</td>\n",
       "      <td>Computer science, computer engineering, or sof...</td>\n",
       "      <td>ASP.NET Core</td>\n",
       "      <td>ASP.NET;ASP.NET Core</td>\n",
       "      <td>Just as welcome now as I felt last year</td>\n",
       "      <td>50.0</td>\n",
       "      <td>36</td>\n",
       "      <td>27</td>\n",
       "    </tr>\n",
       "    <tr>\n",
       "      <th>1</th>\n",
       "      <td>2</td>\n",
       "      <td>I am a developer by profession</td>\n",
       "      <td>No</td>\n",
       "      <td>NaN</td>\n",
       "      <td>19</td>\n",
       "      <td>NaN</td>\n",
       "      <td>NaN</td>\n",
       "      <td>NaN</td>\n",
       "      <td>United Kingdom</td>\n",
       "      <td>Pound sterling</td>\n",
       "      <td>...</td>\n",
       "      <td>NaN</td>\n",
       "      <td>NaN</td>\n",
       "      <td>NaN</td>\n",
       "      <td>Computer science, computer engineering, or sof...</td>\n",
       "      <td>NaN</td>\n",
       "      <td>NaN</td>\n",
       "      <td>Somewhat more welcome now than last year</td>\n",
       "      <td>NaN</td>\n",
       "      <td>7</td>\n",
       "      <td>4</td>\n",
       "    </tr>\n",
       "  </tbody>\n",
       "</table>\n",
       "<p>2 rows × 61 columns</p>\n",
       "</div>"
      ],
      "text/plain": [
       "   Respondent                      MainBranch Hobbyist  Age Age1stCode  \\\n",
       "0           1  I am a developer by profession      Yes  NaN         13   \n",
       "1           2  I am a developer by profession       No  NaN         19   \n",
       "\n",
       "  CompFreq  CompTotal  ConvertedComp         Country    CurrencyDesc  ...  \\\n",
       "0  Monthly        NaN            NaN         Germany   European Euro  ...   \n",
       "1      NaN        NaN            NaN  United Kingdom  Pound sterling  ...   \n",
       "\n",
       "                   SurveyEase           SurveyLength Trans  \\\n",
       "0  Neither easy nor difficult  Appropriate in length    No   \n",
       "1                         NaN                    NaN   NaN   \n",
       "\n",
       "                                      UndergradMajor WebframeDesireNextYear  \\\n",
       "0  Computer science, computer engineering, or sof...           ASP.NET Core   \n",
       "1  Computer science, computer engineering, or sof...                    NaN   \n",
       "\n",
       "     WebframeWorkedWith                             WelcomeChange WorkWeekHrs  \\\n",
       "0  ASP.NET;ASP.NET Core   Just as welcome now as I felt last year        50.0   \n",
       "1                   NaN  Somewhat more welcome now than last year         NaN   \n",
       "\n",
       "  YearsCode YearsCodePro  \n",
       "0        36           27  \n",
       "1         7            4  \n",
       "\n",
       "[2 rows x 61 columns]"
      ]
     },
     "execution_count": 4,
     "metadata": {},
     "output_type": "execute_result"
    }
   ],
   "source": [
    "filepath = \"./ResourcesFiles/2020SurveyResultsPublic.csv\" # Load the dataset.\n",
    "alldata= pd.read_csv(filepath)#, index_col=0)\n",
    "alldata.head(2)"
   ]
  },
  {
   "cell_type": "markdown",
   "id": "ae337f27",
   "metadata": {},
   "source": [
    "#### Load Kaggle Data for Comparison"
   ]
  },
  {
   "cell_type": "code",
   "execution_count": 5,
   "id": "c750a171",
   "metadata": {},
   "outputs": [
    {
     "data": {
      "text/html": [
       "<div>\n",
       "<style scoped>\n",
       "    .dataframe tbody tr th:only-of-type {\n",
       "        vertical-align: middle;\n",
       "    }\n",
       "\n",
       "    .dataframe tbody tr th {\n",
       "        vertical-align: top;\n",
       "    }\n",
       "\n",
       "    .dataframe thead th {\n",
       "        text-align: right;\n",
       "    }\n",
       "</style>\n",
       "<table border=\"1\" class=\"dataframe\">\n",
       "  <thead>\n",
       "    <tr style=\"text-align: right;\">\n",
       "      <th></th>\n",
       "      <th>Age</th>\n",
       "      <th>Gender</th>\n",
       "      <th>Country</th>\n",
       "      <th>Formal Education</th>\n",
       "      <th>Position</th>\n",
       "      <th>Year Coding</th>\n",
       "      <th>Salary</th>\n",
       "    </tr>\n",
       "  </thead>\n",
       "  <tbody>\n",
       "    <tr>\n",
       "      <th>2</th>\n",
       "      <td>30-34</td>\n",
       "      <td>Man</td>\n",
       "      <td>United States of America</td>\n",
       "      <td>Master’s degree</td>\n",
       "      <td>Data Engineer</td>\n",
       "      <td>5-10 years</td>\n",
       "      <td>100,000-124,999</td>\n",
       "    </tr>\n",
       "  </tbody>\n",
       "</table>\n",
       "</div>"
      ],
      "text/plain": [
       "     Age Gender                   Country Formal Education       Position  \\\n",
       "2  30-34    Man  United States of America  Master’s degree  Data Engineer   \n",
       "\n",
       "  Year Coding           Salary  \n",
       "2  5-10 years  100,000-124,999  "
      ]
     },
     "execution_count": 5,
     "metadata": {},
     "output_type": "execute_result"
    }
   ],
   "source": [
    "kagglefilepath = \"../Gender_Gap_In_Tech_Survery_Data/kaggle_survey_2020_responses.csv\" # Load the dataset.\n",
    "kaggledata= pd.read_csv(kagglefilepath, usecols=[ 'Q1','Q2','Q3','Q4','Q5','Q6', 'Q24',]) #Read the Data as a Panda Dataframe \n",
    "header = [ 'Age','Gender','Country','Formal Education','Position','Year Coding', 'Salary',]# Set headers NAme \n",
    "kaggledata = kaggledata[1:] #take the data less the header row\n",
    "kaggledata.columns = header #set the header row with header variable we created\n",
    "kaggledf = kaggledata[(kaggledata['Country'] == 'United States of America')].dropna()#take only values with US & drop null values\n",
    "# ReOrderheader = [ 'Country', 'Gender', 'Age','Formal Education','Position','Year Coding','Org Size', 'Salary',]\n",
    "kaggledf.head(1)"
   ]
  },
  {
   "cell_type": "markdown",
   "id": "2d4552de",
   "metadata": {},
   "source": [
    "# STACK OVER FLOW DATA "
   ]
  },
  {
   "cell_type": "code",
   "execution_count": 6,
   "id": "3c32fd1c",
   "metadata": {},
   "outputs": [
    {
     "data": {
      "text/html": [
       "<div>\n",
       "<style scoped>\n",
       "    .dataframe tbody tr th:only-of-type {\n",
       "        vertical-align: middle;\n",
       "    }\n",
       "\n",
       "    .dataframe tbody tr th {\n",
       "        vertical-align: top;\n",
       "    }\n",
       "\n",
       "    .dataframe thead th {\n",
       "        text-align: right;\n",
       "    }\n",
       "</style>\n",
       "<table border=\"1\" class=\"dataframe\">\n",
       "  <thead>\n",
       "    <tr style=\"text-align: right;\">\n",
       "      <th></th>\n",
       "      <th>Age</th>\n",
       "      <th>ConvertedComp</th>\n",
       "      <th>Country</th>\n",
       "      <th>EdLevel</th>\n",
       "      <th>Gender</th>\n",
       "      <th>YearsCode</th>\n",
       "    </tr>\n",
       "  </thead>\n",
       "  <tbody>\n",
       "    <tr>\n",
       "      <th>7</th>\n",
       "      <td>36.0</td>\n",
       "      <td>116000.0</td>\n",
       "      <td>United States</td>\n",
       "      <td>Bachelor’s degree (B.A., B.S., B.Eng., etc.)</td>\n",
       "      <td>Man</td>\n",
       "      <td>17</td>\n",
       "    </tr>\n",
       "    <tr>\n",
       "      <th>13</th>\n",
       "      <td>27.0</td>\n",
       "      <td>66000.0</td>\n",
       "      <td>United States</td>\n",
       "      <td>Associate degree (A.A., A.S., etc.)</td>\n",
       "      <td>Man</td>\n",
       "      <td>5</td>\n",
       "    </tr>\n",
       "    <tr>\n",
       "      <th>16</th>\n",
       "      <td>25.0</td>\n",
       "      <td>79000.0</td>\n",
       "      <td>United States</td>\n",
       "      <td>Bachelor’s degree (B.A., B.S., B.Eng., etc.)</td>\n",
       "      <td>Man</td>\n",
       "      <td>7</td>\n",
       "    </tr>\n",
       "    <tr>\n",
       "      <th>17</th>\n",
       "      <td>32.0</td>\n",
       "      <td>1260000.0</td>\n",
       "      <td>United States</td>\n",
       "      <td>Bachelor’s degree (B.A., B.S., B.Eng., etc.)</td>\n",
       "      <td>Man</td>\n",
       "      <td>19</td>\n",
       "    </tr>\n",
       "    <tr>\n",
       "      <th>18</th>\n",
       "      <td>24.0</td>\n",
       "      <td>83400.0</td>\n",
       "      <td>United States</td>\n",
       "      <td>Bachelor’s degree (B.A., B.S., B.Eng., etc.)</td>\n",
       "      <td>Man</td>\n",
       "      <td>9</td>\n",
       "    </tr>\n",
       "  </tbody>\n",
       "</table>\n",
       "</div>"
      ],
      "text/plain": [
       "     Age  ConvertedComp        Country  \\\n",
       "7   36.0       116000.0  United States   \n",
       "13  27.0        66000.0  United States   \n",
       "16  25.0        79000.0  United States   \n",
       "17  32.0      1260000.0  United States   \n",
       "18  24.0        83400.0  United States   \n",
       "\n",
       "                                         EdLevel Gender YearsCode  \n",
       "7   Bachelor’s degree (B.A., B.S., B.Eng., etc.)    Man        17  \n",
       "13           Associate degree (A.A., A.S., etc.)    Man         5  \n",
       "16  Bachelor’s degree (B.A., B.S., B.Eng., etc.)    Man         7  \n",
       "17  Bachelor’s degree (B.A., B.S., B.Eng., etc.)    Man        19  \n",
       "18  Bachelor’s degree (B.A., B.S., B.Eng., etc.)    Man         9  "
      ]
     },
     "execution_count": 6,
     "metadata": {},
     "output_type": "execute_result"
    }
   ],
   "source": [
    "filepath = \"./ResourcesFiles/2020SurveyResultsPublic.csv\"  # Load the dataset.\n",
    "stackdata= pd.read_csv(filepath, usecols=[ 'Age','Gender','Country','EdLevel','YearsCode','ConvertedComp',])#Read the Data as a Panda Dataframe\n",
    "stack_df = stackdata[(stackdata['Country'] == 'United States')].dropna()#take only values with US & drop null values\n",
    "#header =  ['Age','Gender','Country','Formal Education','Year Coding', 'Salary',] #Reindex/Rename Columns \n",
    "stack_df.head()"
   ]
  },
  {
   "cell_type": "code",
   "execution_count": 7,
   "id": "9bf58e31",
   "metadata": {},
   "outputs": [
    {
     "data": {
      "text/plain": [
       "Index(['Age', 'ConvertedComp', 'Country', 'EdLevel', 'Gender', 'YearsCode'], dtype='object')"
      ]
     },
     "execution_count": 7,
     "metadata": {},
     "output_type": "execute_result"
    }
   ],
   "source": [
    "stack_df.columns # Print Column Name "
   ]
  },
  {
   "cell_type": "code",
   "execution_count": 8,
   "id": "291867fc",
   "metadata": {},
   "outputs": [
    {
     "data": {
      "text/plain": [
       "Age              float64\n",
       "ConvertedComp    float64\n",
       "Country           object\n",
       "EdLevel           object\n",
       "Gender            object\n",
       "YearsCode         object\n",
       "dtype: object"
      ]
     },
     "execution_count": 8,
     "metadata": {},
     "output_type": "execute_result"
    }
   ],
   "source": [
    "stack_df.dtypes # Print DataTypes "
   ]
  },
  {
   "cell_type": "code",
   "execution_count": 9,
   "id": "aff24807",
   "metadata": {},
   "outputs": [
    {
     "name": "stdout",
     "output_type": "stream",
     "text": [
      "Column Age has 0 null values\n",
      "Column ConvertedComp has 0 null values\n",
      "Column Country has 0 null values\n",
      "Column EdLevel has 0 null values\n",
      "Column Gender has 0 null values\n",
      "Column YearsCode has 0 null values\n"
     ]
    }
   ],
   "source": [
    "#Check for Null Values\n",
    "for column in stack_df.columns:\n",
    "    print(f\"Column {column} has {stack_df[column].isnull().sum()} null values\")"
   ]
  },
  {
   "cell_type": "markdown",
   "id": "5b3ebe2c",
   "metadata": {},
   "source": [
    "#### Job Satisfaction Data Set"
   ]
  },
  {
   "cell_type": "code",
   "execution_count": 11,
   "id": "17ecaa44",
   "metadata": {},
   "outputs": [
    {
     "data": {
      "text/html": [
       "<div>\n",
       "<style scoped>\n",
       "    .dataframe tbody tr th:only-of-type {\n",
       "        vertical-align: middle;\n",
       "    }\n",
       "\n",
       "    .dataframe tbody tr th {\n",
       "        vertical-align: top;\n",
       "    }\n",
       "\n",
       "    .dataframe thead th {\n",
       "        text-align: right;\n",
       "    }\n",
       "</style>\n",
       "<table border=\"1\" class=\"dataframe\">\n",
       "  <thead>\n",
       "    <tr style=\"text-align: right;\">\n",
       "      <th></th>\n",
       "      <th>Country</th>\n",
       "      <th>Gender</th>\n",
       "      <th>JobSat</th>\n",
       "      <th>UndergradMajor</th>\n",
       "    </tr>\n",
       "  </thead>\n",
       "  <tbody>\n",
       "    <tr>\n",
       "      <th>7</th>\n",
       "      <td>United States</td>\n",
       "      <td>Man</td>\n",
       "      <td>Slightly dissatisfied</td>\n",
       "      <td>Computer science, computer engineering, or sof...</td>\n",
       "    </tr>\n",
       "  </tbody>\n",
       "</table>\n",
       "</div>"
      ],
      "text/plain": [
       "         Country Gender                 JobSat  \\\n",
       "7  United States    Man  Slightly dissatisfied   \n",
       "\n",
       "                                      UndergradMajor  \n",
       "7  Computer science, computer engineering, or sof...  "
      ]
     },
     "execution_count": 11,
     "metadata": {},
     "output_type": "execute_result"
    }
   ],
   "source": [
    "filepath = \"./ResourcesFiles/2020SurveyResultsPublic.csv\"  # Load the dataset.\n",
    "JobSatData= pd.read_csv(filepath, usecols=[ 'Gender','Country','JobSat','UndergradMajor',])\n",
    "Job_sat_df = JobSatData[(JobSatData['Country'] == 'United States')].dropna()#take only values with US & drop null values\n",
    "Job_sat_df.head(1)"
   ]
  },
  {
   "cell_type": "markdown",
   "id": "79aac2e0",
   "metadata": {},
   "source": [
    "### Women only DataFrame "
   ]
  },
  {
   "cell_type": "code",
   "execution_count": 12,
   "id": "a0c7f9de",
   "metadata": {},
   "outputs": [
    {
     "data": {
      "text/html": [
       "<div>\n",
       "<style scoped>\n",
       "    .dataframe tbody tr th:only-of-type {\n",
       "        vertical-align: middle;\n",
       "    }\n",
       "\n",
       "    .dataframe tbody tr th {\n",
       "        vertical-align: top;\n",
       "    }\n",
       "\n",
       "    .dataframe thead th {\n",
       "        text-align: right;\n",
       "    }\n",
       "</style>\n",
       "<table border=\"1\" class=\"dataframe\">\n",
       "  <thead>\n",
       "    <tr style=\"text-align: right;\">\n",
       "      <th></th>\n",
       "      <th>Age</th>\n",
       "      <th>ConvertedComp</th>\n",
       "      <th>Country</th>\n",
       "      <th>EdLevel</th>\n",
       "      <th>Gender</th>\n",
       "      <th>YearsCode</th>\n",
       "    </tr>\n",
       "  </thead>\n",
       "  <tbody>\n",
       "    <tr>\n",
       "      <th>88</th>\n",
       "      <td>28.0</td>\n",
       "      <td>130000.0</td>\n",
       "      <td>United States</td>\n",
       "      <td>Bachelor’s degree (B.A., B.S., B.Eng., etc.)</td>\n",
       "      <td>Woman</td>\n",
       "      <td>6</td>\n",
       "    </tr>\n",
       "    <tr>\n",
       "      <th>105</th>\n",
       "      <td>29.0</td>\n",
       "      <td>148000.0</td>\n",
       "      <td>United States</td>\n",
       "      <td>Bachelor’s degree (B.A., B.S., B.Eng., etc.)</td>\n",
       "      <td>Woman</td>\n",
       "      <td>5</td>\n",
       "    </tr>\n",
       "    <tr>\n",
       "      <th>126</th>\n",
       "      <td>23.0</td>\n",
       "      <td>80000.0</td>\n",
       "      <td>United States</td>\n",
       "      <td>Some college/university study without earning ...</td>\n",
       "      <td>Woman</td>\n",
       "      <td>5</td>\n",
       "    </tr>\n",
       "    <tr>\n",
       "      <th>137</th>\n",
       "      <td>30.0</td>\n",
       "      <td>45000.0</td>\n",
       "      <td>United States</td>\n",
       "      <td>Bachelor’s degree (B.A., B.S., B.Eng., etc.)</td>\n",
       "      <td>Woman</td>\n",
       "      <td>13</td>\n",
       "    </tr>\n",
       "    <tr>\n",
       "      <th>250</th>\n",
       "      <td>27.0</td>\n",
       "      <td>122780.0</td>\n",
       "      <td>United States</td>\n",
       "      <td>Bachelor’s degree (B.A., B.S., B.Eng., etc.)</td>\n",
       "      <td>Woman</td>\n",
       "      <td>15</td>\n",
       "    </tr>\n",
       "  </tbody>\n",
       "</table>\n",
       "</div>"
      ],
      "text/plain": [
       "      Age  ConvertedComp        Country  \\\n",
       "88   28.0       130000.0  United States   \n",
       "105  29.0       148000.0  United States   \n",
       "126  23.0        80000.0  United States   \n",
       "137  30.0        45000.0  United States   \n",
       "250  27.0       122780.0  United States   \n",
       "\n",
       "                                               EdLevel Gender YearsCode  \n",
       "88        Bachelor’s degree (B.A., B.S., B.Eng., etc.)  Woman         6  \n",
       "105       Bachelor’s degree (B.A., B.S., B.Eng., etc.)  Woman         5  \n",
       "126  Some college/university study without earning ...  Woman         5  \n",
       "137       Bachelor’s degree (B.A., B.S., B.Eng., etc.)  Woman        13  \n",
       "250       Bachelor’s degree (B.A., B.S., B.Eng., etc.)  Woman        15  "
      ]
     },
     "execution_count": 12,
     "metadata": {},
     "output_type": "execute_result"
    }
   ],
   "source": [
    "### Select gender equal to women Column \n",
    "stack_women_df= stack_df[(stack_df ['Gender'] == 'Woman')]\n",
    "stack_women_df.head()"
   ]
  },
  {
   "cell_type": "markdown",
   "id": "7fe863ee",
   "metadata": {},
   "source": [
    "### Man Only DataFrame "
   ]
  },
  {
   "cell_type": "code",
   "execution_count": 13,
   "id": "ec277916",
   "metadata": {},
   "outputs": [
    {
     "data": {
      "text/html": [
       "<div>\n",
       "<style scoped>\n",
       "    .dataframe tbody tr th:only-of-type {\n",
       "        vertical-align: middle;\n",
       "    }\n",
       "\n",
       "    .dataframe tbody tr th {\n",
       "        vertical-align: top;\n",
       "    }\n",
       "\n",
       "    .dataframe thead th {\n",
       "        text-align: right;\n",
       "    }\n",
       "</style>\n",
       "<table border=\"1\" class=\"dataframe\">\n",
       "  <thead>\n",
       "    <tr style=\"text-align: right;\">\n",
       "      <th></th>\n",
       "      <th>Age</th>\n",
       "      <th>ConvertedComp</th>\n",
       "      <th>Country</th>\n",
       "      <th>EdLevel</th>\n",
       "      <th>Gender</th>\n",
       "      <th>YearsCode</th>\n",
       "    </tr>\n",
       "  </thead>\n",
       "  <tbody>\n",
       "    <tr>\n",
       "      <th>7</th>\n",
       "      <td>36.0</td>\n",
       "      <td>116000.0</td>\n",
       "      <td>United States</td>\n",
       "      <td>Bachelor’s degree (B.A., B.S., B.Eng., etc.)</td>\n",
       "      <td>Man</td>\n",
       "      <td>17</td>\n",
       "    </tr>\n",
       "    <tr>\n",
       "      <th>13</th>\n",
       "      <td>27.0</td>\n",
       "      <td>66000.0</td>\n",
       "      <td>United States</td>\n",
       "      <td>Associate degree (A.A., A.S., etc.)</td>\n",
       "      <td>Man</td>\n",
       "      <td>5</td>\n",
       "    </tr>\n",
       "    <tr>\n",
       "      <th>16</th>\n",
       "      <td>25.0</td>\n",
       "      <td>79000.0</td>\n",
       "      <td>United States</td>\n",
       "      <td>Bachelor’s degree (B.A., B.S., B.Eng., etc.)</td>\n",
       "      <td>Man</td>\n",
       "      <td>7</td>\n",
       "    </tr>\n",
       "    <tr>\n",
       "      <th>17</th>\n",
       "      <td>32.0</td>\n",
       "      <td>1260000.0</td>\n",
       "      <td>United States</td>\n",
       "      <td>Bachelor’s degree (B.A., B.S., B.Eng., etc.)</td>\n",
       "      <td>Man</td>\n",
       "      <td>19</td>\n",
       "    </tr>\n",
       "    <tr>\n",
       "      <th>18</th>\n",
       "      <td>24.0</td>\n",
       "      <td>83400.0</td>\n",
       "      <td>United States</td>\n",
       "      <td>Bachelor’s degree (B.A., B.S., B.Eng., etc.)</td>\n",
       "      <td>Man</td>\n",
       "      <td>9</td>\n",
       "    </tr>\n",
       "  </tbody>\n",
       "</table>\n",
       "</div>"
      ],
      "text/plain": [
       "     Age  ConvertedComp        Country  \\\n",
       "7   36.0       116000.0  United States   \n",
       "13  27.0        66000.0  United States   \n",
       "16  25.0        79000.0  United States   \n",
       "17  32.0      1260000.0  United States   \n",
       "18  24.0        83400.0  United States   \n",
       "\n",
       "                                         EdLevel Gender YearsCode  \n",
       "7   Bachelor’s degree (B.A., B.S., B.Eng., etc.)    Man        17  \n",
       "13           Associate degree (A.A., A.S., etc.)    Man         5  \n",
       "16  Bachelor’s degree (B.A., B.S., B.Eng., etc.)    Man         7  \n",
       "17  Bachelor’s degree (B.A., B.S., B.Eng., etc.)    Man        19  \n",
       "18  Bachelor’s degree (B.A., B.S., B.Eng., etc.)    Man         9  "
      ]
     },
     "execution_count": 13,
     "metadata": {},
     "output_type": "execute_result"
    }
   ],
   "source": [
    "# Select only the data with the gender equal to \"Man\"\n",
    "stack_men_df= stack_df[(stack_df ['Gender'] == 'Man')]\n",
    "stack_men_df.head()"
   ]
  },
  {
   "cell_type": "code",
   "execution_count": 14,
   "id": "a18fe566",
   "metadata": {},
   "outputs": [],
   "source": [
    "# Save New cleaned File \n",
    "#output_file_path = \"../Resources/2020StackOverFlow_DevSurvey/clean_survey_results_public.csv\"\"]\n",
    "#us_df.to_csv(output_file_path, index=False)"
   ]
  },
  {
   "cell_type": "code",
   "execution_count": null,
   "id": "e2a26fa8",
   "metadata": {},
   "outputs": [],
   "source": []
  }
 ],
 "metadata": {
  "kernelspec": {
   "display_name": "Python 3",
   "language": "python",
   "name": "python3"
  },
  "language_info": {
   "codemirror_mode": {
    "name": "ipython",
    "version": 3
   },
   "file_extension": ".py",
   "mimetype": "text/x-python",
   "name": "python",
   "nbconvert_exporter": "python",
   "pygments_lexer": "ipython3",
   "version": "3.8.8"
  }
 },
 "nbformat": 4,
 "nbformat_minor": 5
}
