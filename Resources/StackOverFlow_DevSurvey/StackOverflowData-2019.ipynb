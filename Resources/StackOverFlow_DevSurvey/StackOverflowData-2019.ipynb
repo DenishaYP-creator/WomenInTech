{
 "cells": [
  {
   "cell_type": "markdown",
   "id": "97862367",
   "metadata": {},
   "source": [
    "# 2019 Stack Flow Developer Survey Data Set "
   ]
  },
  {
   "cell_type": "markdown",
   "id": "5a852d5f",
   "metadata": {},
   "source": [
    "### Import Dependencies "
   ]
  },
  {
   "cell_type": "code",
   "execution_count": 2,
   "id": "d47eb0b4",
   "metadata": {},
   "outputs": [],
   "source": [
    "import pandas as pd "
   ]
  },
  {
   "cell_type": "code",
   "execution_count": null,
   "id": "56976d50",
   "metadata": {},
   "outputs": [],
   "source": [
    "filepath = \"./ResourcesFiles/2019survey_results_public.csv\" # Load the dataset.\n",
    "alldata= pd.read_csv(filepath)#, index_col=0)\n",
    "alldata.head(2)"
   ]
  },
  {
   "cell_type": "markdown",
   "id": "ae337f27",
   "metadata": {},
   "source": [
    "#### Load Kaggle Data for Comparison"
   ]
  },
  {
   "cell_type": "code",
   "execution_count": 8,
   "id": "c750a171",
   "metadata": {},
   "outputs": [
    {
     "data": {
      "text/html": [
       "<div>\n",
       "<style scoped>\n",
       "    .dataframe tbody tr th:only-of-type {\n",
       "        vertical-align: middle;\n",
       "    }\n",
       "\n",
       "    .dataframe tbody tr th {\n",
       "        vertical-align: top;\n",
       "    }\n",
       "\n",
       "    .dataframe thead th {\n",
       "        text-align: right;\n",
       "    }\n",
       "</style>\n",
       "<table border=\"1\" class=\"dataframe\">\n",
       "  <thead>\n",
       "    <tr style=\"text-align: right;\">\n",
       "      <th></th>\n",
       "      <th>Age</th>\n",
       "      <th>Gender</th>\n",
       "      <th>Country</th>\n",
       "      <th>Formal Education</th>\n",
       "      <th>Position</th>\n",
       "      <th>Year Coding</th>\n",
       "      <th>Salary</th>\n",
       "    </tr>\n",
       "  </thead>\n",
       "  <tbody>\n",
       "    <tr>\n",
       "      <th>2</th>\n",
       "      <td>30-34</td>\n",
       "      <td>Man</td>\n",
       "      <td>United States of America</td>\n",
       "      <td>Master’s degree</td>\n",
       "      <td>Data Engineer</td>\n",
       "      <td>5-10 years</td>\n",
       "      <td>100,000-124,999</td>\n",
       "    </tr>\n",
       "  </tbody>\n",
       "</table>\n",
       "</div>"
      ],
      "text/plain": [
       "     Age Gender                   Country Formal Education       Position  \\\n",
       "2  30-34    Man  United States of America  Master’s degree  Data Engineer   \n",
       "\n",
       "  Year Coding           Salary  \n",
       "2  5-10 years  100,000-124,999  "
      ]
     },
     "execution_count": 8,
     "metadata": {},
     "output_type": "execute_result"
    }
   ],
   "source": [
    "kagglefilepath = \"../Gender_Gap_In_Tech_Survery_Data/kaggle_survey_2020_responses.csv\" # Load the dataset.\n",
    "kaggledata= pd.read_csv(kagglefilepath, usecols=[ 'Q1','Q2','Q3','Q4','Q5','Q6', 'Q24',]) #Read the Data as a Panda Dataframe \n",
    "header = [ 'Age','Gender','Country','Formal Education','Position','Year Coding', 'Salary',]# Set headers NAme \n",
    "kaggledata = kaggledata[1:] #take the data less the header row\n",
    "kaggledata.columns = header #set the header row with header variable we created\n",
    "kaggledf = kaggledata[(kaggledata['Country'] == 'United States of America')].dropna()#take only values with US & drop null values\n",
    "# ReOrderheader = [ 'Country', 'Gender', 'Age','Formal Education','Position','Year Coding','Org Size', 'Salary',]\n",
    "kaggledf.head(1)"
   ]
  },
  {
   "cell_type": "markdown",
   "id": "2d4552de",
   "metadata": {},
   "source": [
    "# STACK OVER FLOW DATA "
   ]
  },
  {
   "cell_type": "code",
   "execution_count": 17,
   "id": "3c32fd1c",
   "metadata": {},
   "outputs": [
    {
     "data": {
      "text/html": [
       "<div>\n",
       "<style scoped>\n",
       "    .dataframe tbody tr th:only-of-type {\n",
       "        vertical-align: middle;\n",
       "    }\n",
       "\n",
       "    .dataframe tbody tr th {\n",
       "        vertical-align: top;\n",
       "    }\n",
       "\n",
       "    .dataframe thead th {\n",
       "        text-align: right;\n",
       "    }\n",
       "</style>\n",
       "<table border=\"1\" class=\"dataframe\">\n",
       "  <thead>\n",
       "    <tr style=\"text-align: right;\">\n",
       "      <th></th>\n",
       "      <th>Country</th>\n",
       "      <th>EdLevel</th>\n",
       "      <th>YearsCode</th>\n",
       "      <th>ConvertedComp</th>\n",
       "      <th>Age</th>\n",
       "      <th>Gender</th>\n",
       "    </tr>\n",
       "  </thead>\n",
       "  <tbody>\n",
       "    <tr>\n",
       "      <th>3</th>\n",
       "      <td>United States</td>\n",
       "      <td>Bachelor’s degree (BA, BS, B.Eng., etc.)</td>\n",
       "      <td>3</td>\n",
       "      <td>61000.0</td>\n",
       "      <td>22.0</td>\n",
       "      <td>Man</td>\n",
       "    </tr>\n",
       "    <tr>\n",
       "      <th>12</th>\n",
       "      <td>United States</td>\n",
       "      <td>Master’s degree (MA, MS, M.Eng., MBA, etc.)</td>\n",
       "      <td>17</td>\n",
       "      <td>90000.0</td>\n",
       "      <td>28.0</td>\n",
       "      <td>Man</td>\n",
       "    </tr>\n",
       "    <tr>\n",
       "      <th>21</th>\n",
       "      <td>United States</td>\n",
       "      <td>Some college/university study without earning ...</td>\n",
       "      <td>35</td>\n",
       "      <td>103000.0</td>\n",
       "      <td>47.0</td>\n",
       "      <td>Man</td>\n",
       "    </tr>\n",
       "    <tr>\n",
       "      <th>22</th>\n",
       "      <td>United States</td>\n",
       "      <td>Bachelor’s degree (BA, BS, B.Eng., etc.)</td>\n",
       "      <td>3</td>\n",
       "      <td>69000.0</td>\n",
       "      <td>22.0</td>\n",
       "      <td>Man</td>\n",
       "    </tr>\n",
       "    <tr>\n",
       "      <th>25</th>\n",
       "      <td>United States</td>\n",
       "      <td>Some college/university study without earning ...</td>\n",
       "      <td>12</td>\n",
       "      <td>114000.0</td>\n",
       "      <td>34.0</td>\n",
       "      <td>Man</td>\n",
       "    </tr>\n",
       "  </tbody>\n",
       "</table>\n",
       "</div>"
      ],
      "text/plain": [
       "          Country                                            EdLevel  \\\n",
       "3   United States           Bachelor’s degree (BA, BS, B.Eng., etc.)   \n",
       "12  United States        Master’s degree (MA, MS, M.Eng., MBA, etc.)   \n",
       "21  United States  Some college/university study without earning ...   \n",
       "22  United States           Bachelor’s degree (BA, BS, B.Eng., etc.)   \n",
       "25  United States  Some college/university study without earning ...   \n",
       "\n",
       "   YearsCode  ConvertedComp   Age Gender  \n",
       "3          3        61000.0  22.0    Man  \n",
       "12        17        90000.0  28.0    Man  \n",
       "21        35       103000.0  47.0    Man  \n",
       "22         3        69000.0  22.0    Man  \n",
       "25        12       114000.0  34.0    Man  "
      ]
     },
     "execution_count": 17,
     "metadata": {},
     "output_type": "execute_result"
    }
   ],
   "source": [
    "filepath = \"./ResourcesFiles/2019survey_results_public.csv\"  # Load the dataset.\n",
    "stackdata= pd.read_csv(filepath, usecols=[ 'Age','Gender','Country','EdLevel','YearsCode','ConvertedComp',])#Read the Data as a Panda Dataframe\n",
    "stack_df = stackdata[(stackdata['Country'] == 'United States')].dropna()#take only values with US & drop null values\n",
    "#header =  ['Age','Gender','Country','Formal Education','Year Coding', 'Salary',] #Reindex/Rename Columns \n",
    "stack_df.head()"
   ]
  },
  {
   "cell_type": "code",
   "execution_count": 11,
   "id": "9bf58e31",
   "metadata": {},
   "outputs": [
    {
     "data": {
      "text/plain": [
       "Index(['Country', 'EdLevel', 'YearsCode', 'ConvertedComp', 'Age', 'Gender'], dtype='object')"
      ]
     },
     "execution_count": 11,
     "metadata": {},
     "output_type": "execute_result"
    }
   ],
   "source": [
    "stack_df.columns # Print Column Name "
   ]
  },
  {
   "cell_type": "code",
   "execution_count": 12,
   "id": "291867fc",
   "metadata": {},
   "outputs": [
    {
     "data": {
      "text/plain": [
       "Country           object\n",
       "EdLevel           object\n",
       "YearsCode         object\n",
       "ConvertedComp    float64\n",
       "Age              float64\n",
       "Gender            object\n",
       "dtype: object"
      ]
     },
     "execution_count": 12,
     "metadata": {},
     "output_type": "execute_result"
    }
   ],
   "source": [
    "stack_df.dtypes # Print DataTypes "
   ]
  },
  {
   "cell_type": "code",
   "execution_count": 13,
   "id": "aff24807",
   "metadata": {},
   "outputs": [
    {
     "name": "stdout",
     "output_type": "stream",
     "text": [
      "Column Country has 0 null values\n",
      "Column EdLevel has 0 null values\n",
      "Column YearsCode has 0 null values\n",
      "Column ConvertedComp has 0 null values\n",
      "Column Age has 0 null values\n",
      "Column Gender has 0 null values\n"
     ]
    }
   ],
   "source": [
    "#Check for Null Values\n",
    "for column in stack_df.columns:\n",
    "    print(f\"Column {column} has {stack_df[column].isnull().sum()} null values\")"
   ]
  },
  {
   "cell_type": "markdown",
   "id": "5b3ebe2c",
   "metadata": {},
   "source": [
    "#### Job Satisfaction Data Set"
   ]
  },
  {
   "cell_type": "code",
   "execution_count": 18,
   "id": "17ecaa44",
   "metadata": {},
   "outputs": [
    {
     "data": {
      "text/html": [
       "<div>\n",
       "<style scoped>\n",
       "    .dataframe tbody tr th:only-of-type {\n",
       "        vertical-align: middle;\n",
       "    }\n",
       "\n",
       "    .dataframe tbody tr th {\n",
       "        vertical-align: top;\n",
       "    }\n",
       "\n",
       "    .dataframe thead th {\n",
       "        text-align: right;\n",
       "    }\n",
       "</style>\n",
       "<table border=\"1\" class=\"dataframe\">\n",
       "  <thead>\n",
       "    <tr style=\"text-align: right;\">\n",
       "      <th></th>\n",
       "      <th>Country</th>\n",
       "      <th>UndergradMajor</th>\n",
       "      <th>JobSat</th>\n",
       "      <th>Gender</th>\n",
       "    </tr>\n",
       "  </thead>\n",
       "  <tbody>\n",
       "    <tr>\n",
       "      <th>3</th>\n",
       "      <td>United States</td>\n",
       "      <td>Computer science, computer engineering, or sof...</td>\n",
       "      <td>Slightly satisfied</td>\n",
       "      <td>Man</td>\n",
       "    </tr>\n",
       "  </tbody>\n",
       "</table>\n",
       "</div>"
      ],
      "text/plain": [
       "         Country                                     UndergradMajor  \\\n",
       "3  United States  Computer science, computer engineering, or sof...   \n",
       "\n",
       "               JobSat Gender  \n",
       "3  Slightly satisfied    Man  "
      ]
     },
     "execution_count": 18,
     "metadata": {},
     "output_type": "execute_result"
    }
   ],
   "source": [
    "#Load the data set \n",
    "filepath = \"./ResourcesFiles/2019survey_results_public.csv\"  # Load the dataset.\n",
    "JobSatData= pd.read_csv(filepath, usecols=[ 'Gender','Country','JobSat','UndergradMajor',])\n",
    "Job_sat_df = JobSatData[(JobSatData['Country'] == 'United States')].dropna()#take only values with US & drop null values\n",
    "Job_sat_df.head(1)"
   ]
  },
  {
   "cell_type": "markdown",
   "id": "79aac2e0",
   "metadata": {},
   "source": [
    "### Women only DataFrame "
   ]
  },
  {
   "cell_type": "code",
   "execution_count": 20,
   "id": "a0c7f9de",
   "metadata": {},
   "outputs": [
    {
     "data": {
      "text/html": [
       "<div>\n",
       "<style scoped>\n",
       "    .dataframe tbody tr th:only-of-type {\n",
       "        vertical-align: middle;\n",
       "    }\n",
       "\n",
       "    .dataframe tbody tr th {\n",
       "        vertical-align: top;\n",
       "    }\n",
       "\n",
       "    .dataframe thead th {\n",
       "        text-align: right;\n",
       "    }\n",
       "</style>\n",
       "<table border=\"1\" class=\"dataframe\">\n",
       "  <thead>\n",
       "    <tr style=\"text-align: right;\">\n",
       "      <th></th>\n",
       "      <th>Country</th>\n",
       "      <th>EdLevel</th>\n",
       "      <th>YearsCode</th>\n",
       "      <th>ConvertedComp</th>\n",
       "      <th>Age</th>\n",
       "      <th>Gender</th>\n",
       "    </tr>\n",
       "  </thead>\n",
       "  <tbody>\n",
       "    <tr>\n",
       "      <th>34</th>\n",
       "      <td>United States</td>\n",
       "      <td>Bachelor’s degree (BA, BS, B.Eng., etc.)</td>\n",
       "      <td>14</td>\n",
       "      <td>80000.0</td>\n",
       "      <td>35.0</td>\n",
       "      <td>Woman</td>\n",
       "    </tr>\n",
       "    <tr>\n",
       "      <th>140</th>\n",
       "      <td>United States</td>\n",
       "      <td>Bachelor’s degree (BA, BS, B.Eng., etc.)</td>\n",
       "      <td>8</td>\n",
       "      <td>180000.0</td>\n",
       "      <td>24.0</td>\n",
       "      <td>Woman</td>\n",
       "    </tr>\n",
       "    <tr>\n",
       "      <th>146</th>\n",
       "      <td>United States</td>\n",
       "      <td>Bachelor’s degree (BA, BS, B.Eng., etc.)</td>\n",
       "      <td>7</td>\n",
       "      <td>135000.0</td>\n",
       "      <td>28.0</td>\n",
       "      <td>Woman</td>\n",
       "    </tr>\n",
       "    <tr>\n",
       "      <th>306</th>\n",
       "      <td>United States</td>\n",
       "      <td>Master’s degree (MA, MS, M.Eng., MBA, etc.)</td>\n",
       "      <td>5</td>\n",
       "      <td>140000.0</td>\n",
       "      <td>36.0</td>\n",
       "      <td>Woman</td>\n",
       "    </tr>\n",
       "    <tr>\n",
       "      <th>314</th>\n",
       "      <td>United States</td>\n",
       "      <td>Some college/university study without earning ...</td>\n",
       "      <td>10</td>\n",
       "      <td>84000.0</td>\n",
       "      <td>22.0</td>\n",
       "      <td>Woman</td>\n",
       "    </tr>\n",
       "  </tbody>\n",
       "</table>\n",
       "</div>"
      ],
      "text/plain": [
       "           Country                                            EdLevel  \\\n",
       "34   United States           Bachelor’s degree (BA, BS, B.Eng., etc.)   \n",
       "140  United States           Bachelor’s degree (BA, BS, B.Eng., etc.)   \n",
       "146  United States           Bachelor’s degree (BA, BS, B.Eng., etc.)   \n",
       "306  United States        Master’s degree (MA, MS, M.Eng., MBA, etc.)   \n",
       "314  United States  Some college/university study without earning ...   \n",
       "\n",
       "    YearsCode  ConvertedComp   Age Gender  \n",
       "34         14        80000.0  35.0  Woman  \n",
       "140         8       180000.0  24.0  Woman  \n",
       "146         7       135000.0  28.0  Woman  \n",
       "306         5       140000.0  36.0  Woman  \n",
       "314        10        84000.0  22.0  Woman  "
      ]
     },
     "execution_count": 20,
     "metadata": {},
     "output_type": "execute_result"
    }
   ],
   "source": [
    "### Select gender equal to women Column \n",
    "stack_women_df= stack_df[(stack_df ['Gender'] == 'Woman')]\n",
    "stack_women_df.head()"
   ]
  },
  {
   "cell_type": "markdown",
   "id": "7fe863ee",
   "metadata": {},
   "source": [
    "### Man Only DataFrame "
   ]
  },
  {
   "cell_type": "code",
   "execution_count": 21,
   "id": "ec277916",
   "metadata": {},
   "outputs": [
    {
     "data": {
      "text/html": [
       "<div>\n",
       "<style scoped>\n",
       "    .dataframe tbody tr th:only-of-type {\n",
       "        vertical-align: middle;\n",
       "    }\n",
       "\n",
       "    .dataframe tbody tr th {\n",
       "        vertical-align: top;\n",
       "    }\n",
       "\n",
       "    .dataframe thead th {\n",
       "        text-align: right;\n",
       "    }\n",
       "</style>\n",
       "<table border=\"1\" class=\"dataframe\">\n",
       "  <thead>\n",
       "    <tr style=\"text-align: right;\">\n",
       "      <th></th>\n",
       "      <th>Country</th>\n",
       "      <th>EdLevel</th>\n",
       "      <th>YearsCode</th>\n",
       "      <th>ConvertedComp</th>\n",
       "      <th>Age</th>\n",
       "      <th>Gender</th>\n",
       "    </tr>\n",
       "  </thead>\n",
       "  <tbody>\n",
       "    <tr>\n",
       "      <th>3</th>\n",
       "      <td>United States</td>\n",
       "      <td>Bachelor’s degree (BA, BS, B.Eng., etc.)</td>\n",
       "      <td>3</td>\n",
       "      <td>61000.0</td>\n",
       "      <td>22.0</td>\n",
       "      <td>Man</td>\n",
       "    </tr>\n",
       "    <tr>\n",
       "      <th>12</th>\n",
       "      <td>United States</td>\n",
       "      <td>Master’s degree (MA, MS, M.Eng., MBA, etc.)</td>\n",
       "      <td>17</td>\n",
       "      <td>90000.0</td>\n",
       "      <td>28.0</td>\n",
       "      <td>Man</td>\n",
       "    </tr>\n",
       "    <tr>\n",
       "      <th>21</th>\n",
       "      <td>United States</td>\n",
       "      <td>Some college/university study without earning ...</td>\n",
       "      <td>35</td>\n",
       "      <td>103000.0</td>\n",
       "      <td>47.0</td>\n",
       "      <td>Man</td>\n",
       "    </tr>\n",
       "    <tr>\n",
       "      <th>22</th>\n",
       "      <td>United States</td>\n",
       "      <td>Bachelor’s degree (BA, BS, B.Eng., etc.)</td>\n",
       "      <td>3</td>\n",
       "      <td>69000.0</td>\n",
       "      <td>22.0</td>\n",
       "      <td>Man</td>\n",
       "    </tr>\n",
       "    <tr>\n",
       "      <th>25</th>\n",
       "      <td>United States</td>\n",
       "      <td>Some college/university study without earning ...</td>\n",
       "      <td>12</td>\n",
       "      <td>114000.0</td>\n",
       "      <td>34.0</td>\n",
       "      <td>Man</td>\n",
       "    </tr>\n",
       "  </tbody>\n",
       "</table>\n",
       "</div>"
      ],
      "text/plain": [
       "          Country                                            EdLevel  \\\n",
       "3   United States           Bachelor’s degree (BA, BS, B.Eng., etc.)   \n",
       "12  United States        Master’s degree (MA, MS, M.Eng., MBA, etc.)   \n",
       "21  United States  Some college/university study without earning ...   \n",
       "22  United States           Bachelor’s degree (BA, BS, B.Eng., etc.)   \n",
       "25  United States  Some college/university study without earning ...   \n",
       "\n",
       "   YearsCode  ConvertedComp   Age Gender  \n",
       "3          3        61000.0  22.0    Man  \n",
       "12        17        90000.0  28.0    Man  \n",
       "21        35       103000.0  47.0    Man  \n",
       "22         3        69000.0  22.0    Man  \n",
       "25        12       114000.0  34.0    Man  "
      ]
     },
     "execution_count": 21,
     "metadata": {},
     "output_type": "execute_result"
    }
   ],
   "source": [
    "# Select only the data with the gender equal to \"Man\"\n",
    "stack_men_df= stack_df[(stack_df ['Gender'] == 'Man')]\n",
    "stack_men_df.head()"
   ]
  },
  {
   "cell_type": "code",
   "execution_count": 22,
   "id": "a18fe566",
   "metadata": {},
   "outputs": [],
   "source": [
    "# Save New cleaned File \n",
    "#output_file_path = \"../Resources/2020StackOverFlow_DevSurvey/clean_survey_results_public.csv\"\"]\n",
    "#us_df.to_csv(output_file_path, index=False)"
   ]
  },
  {
   "cell_type": "code",
   "execution_count": null,
   "id": "e2a26fa8",
   "metadata": {},
   "outputs": [],
   "source": []
  }
 ],
 "metadata": {
  "kernelspec": {
   "display_name": "Python 3",
   "language": "python",
   "name": "python3"
  },
  "language_info": {
   "codemirror_mode": {
    "name": "ipython",
    "version": 3
   },
   "file_extension": ".py",
   "mimetype": "text/x-python",
   "name": "python",
   "nbconvert_exporter": "python",
   "pygments_lexer": "ipython3",
   "version": "3.8.8"
  }
 },
 "nbformat": 4,
 "nbformat_minor": 5
}
