{
 "cells": [
  {
   "cell_type": "markdown",
   "id": "97862367",
   "metadata": {},
   "source": [
    "# 2020 Stack Flow Developer Survey Data Set "
   ]
  },
  {
   "cell_type": "markdown",
   "id": "5a852d5f",
   "metadata": {},
   "source": [
    "### Import Dependencies "
   ]
  },
  {
   "cell_type": "code",
   "execution_count": 36,
   "id": "d47eb0b4",
   "metadata": {},
   "outputs": [],
   "source": [
    "import pandas as pd "
   ]
  },
  {
   "cell_type": "code",
   "execution_count": 37,
   "id": "123cb737",
   "metadata": {},
   "outputs": [
    {
     "data": {
      "text/html": [
       "<div>\n",
       "<style scoped>\n",
       "    .dataframe tbody tr th:only-of-type {\n",
       "        vertical-align: middle;\n",
       "    }\n",
       "\n",
       "    .dataframe tbody tr th {\n",
       "        vertical-align: top;\n",
       "    }\n",
       "\n",
       "    .dataframe thead th {\n",
       "        text-align: right;\n",
       "    }\n",
       "</style>\n",
       "<table border=\"1\" class=\"dataframe\">\n",
       "  <thead>\n",
       "    <tr style=\"text-align: right;\">\n",
       "      <th></th>\n",
       "      <th>Respondent</th>\n",
       "      <th>Professional</th>\n",
       "      <th>ProgramHobby</th>\n",
       "      <th>Country</th>\n",
       "      <th>University</th>\n",
       "      <th>EmploymentStatus</th>\n",
       "      <th>FormalEducation</th>\n",
       "      <th>MajorUndergrad</th>\n",
       "      <th>HomeRemote</th>\n",
       "      <th>CompanySize</th>\n",
       "      <th>...</th>\n",
       "      <th>StackOverflowMakeMoney</th>\n",
       "      <th>Gender</th>\n",
       "      <th>HighestEducationParents</th>\n",
       "      <th>Race</th>\n",
       "      <th>SurveyLong</th>\n",
       "      <th>QuestionsInteresting</th>\n",
       "      <th>QuestionsConfusing</th>\n",
       "      <th>InterestedAnswers</th>\n",
       "      <th>Salary</th>\n",
       "      <th>ExpectedSalary</th>\n",
       "    </tr>\n",
       "  </thead>\n",
       "  <tbody>\n",
       "    <tr>\n",
       "      <th>0</th>\n",
       "      <td>1</td>\n",
       "      <td>Student</td>\n",
       "      <td>Yes, both</td>\n",
       "      <td>United States</td>\n",
       "      <td>No</td>\n",
       "      <td>Not employed, and not looking for work</td>\n",
       "      <td>Secondary school</td>\n",
       "      <td>NaN</td>\n",
       "      <td>NaN</td>\n",
       "      <td>NaN</td>\n",
       "      <td>...</td>\n",
       "      <td>Strongly disagree</td>\n",
       "      <td>Male</td>\n",
       "      <td>High school</td>\n",
       "      <td>White or of European descent</td>\n",
       "      <td>Strongly disagree</td>\n",
       "      <td>Strongly agree</td>\n",
       "      <td>Disagree</td>\n",
       "      <td>Strongly agree</td>\n",
       "      <td>NaN</td>\n",
       "      <td>NaN</td>\n",
       "    </tr>\n",
       "  </tbody>\n",
       "</table>\n",
       "<p>1 rows × 154 columns</p>\n",
       "</div>"
      ],
      "text/plain": [
       "   Respondent Professional ProgramHobby        Country University  \\\n",
       "0           1      Student    Yes, both  United States         No   \n",
       "\n",
       "                         EmploymentStatus   FormalEducation MajorUndergrad  \\\n",
       "0  Not employed, and not looking for work  Secondary school            NaN   \n",
       "\n",
       "  HomeRemote CompanySize  ... StackOverflowMakeMoney Gender  \\\n",
       "0        NaN         NaN  ...      Strongly disagree   Male   \n",
       "\n",
       "  HighestEducationParents                          Race         SurveyLong  \\\n",
       "0             High school  White or of European descent  Strongly disagree   \n",
       "\n",
       "  QuestionsInteresting QuestionsConfusing InterestedAnswers  Salary  \\\n",
       "0       Strongly agree           Disagree    Strongly agree     NaN   \n",
       "\n",
       "   ExpectedSalary  \n",
       "0             NaN  \n",
       "\n",
       "[1 rows x 154 columns]"
      ]
     },
     "execution_count": 37,
     "metadata": {},
     "output_type": "execute_result"
    }
   ],
   "source": [
    "filepath = \"./ResourcesFiles/2017survey_results_public.csv\" # Load the dataset.\n",
    "alldata= pd.read_csv(filepath)#, index_col=0)\n",
    "alldata.head(1)\n",
    "#alldata.columns.tolist()"
   ]
  },
  {
   "cell_type": "markdown",
   "id": "ae337f27",
   "metadata": {},
   "source": [
    "#### Load Kaggle Data for Comparison"
   ]
  },
  {
   "cell_type": "code",
   "execution_count": 38,
   "id": "c750a171",
   "metadata": {},
   "outputs": [
    {
     "data": {
      "text/html": [
       "<div>\n",
       "<style scoped>\n",
       "    .dataframe tbody tr th:only-of-type {\n",
       "        vertical-align: middle;\n",
       "    }\n",
       "\n",
       "    .dataframe tbody tr th {\n",
       "        vertical-align: top;\n",
       "    }\n",
       "\n",
       "    .dataframe thead th {\n",
       "        text-align: right;\n",
       "    }\n",
       "</style>\n",
       "<table border=\"1\" class=\"dataframe\">\n",
       "  <thead>\n",
       "    <tr style=\"text-align: right;\">\n",
       "      <th></th>\n",
       "      <th>Age</th>\n",
       "      <th>Gender</th>\n",
       "      <th>Country</th>\n",
       "      <th>Formal Education</th>\n",
       "      <th>Position</th>\n",
       "      <th>Year Coding</th>\n",
       "      <th>Salary</th>\n",
       "    </tr>\n",
       "  </thead>\n",
       "  <tbody>\n",
       "    <tr>\n",
       "      <th>2</th>\n",
       "      <td>30-34</td>\n",
       "      <td>Man</td>\n",
       "      <td>United States of America</td>\n",
       "      <td>Master’s degree</td>\n",
       "      <td>Data Engineer</td>\n",
       "      <td>5-10 years</td>\n",
       "      <td>100,000-124,999</td>\n",
       "    </tr>\n",
       "  </tbody>\n",
       "</table>\n",
       "</div>"
      ],
      "text/plain": [
       "     Age Gender                   Country Formal Education       Position  \\\n",
       "2  30-34    Man  United States of America  Master’s degree  Data Engineer   \n",
       "\n",
       "  Year Coding           Salary  \n",
       "2  5-10 years  100,000-124,999  "
      ]
     },
     "execution_count": 38,
     "metadata": {},
     "output_type": "execute_result"
    }
   ],
   "source": [
    "filepath = \"../Gender_Gap_In_Tech_Survery_Data/kaggle_survey_2020_responses.csv\" # Load the dataset.\n",
    "kaggledata= pd.read_csv(filepath, usecols=[ 'Q1','Q2','Q3','Q4','Q5','Q6', 'Q24',]) #Read the Data as a Panda Dataframe \n",
    "header = [ 'Age','Gender','Country','Formal Education','Position','Year Coding', 'Salary',]# Set headers NAme \n",
    "kaggledata = kaggledata[1:] #take the data less the header row\n",
    "kaggledata.columns = header #set the header row with header variable we created\n",
    "kaggledf = kaggledata[(kaggledata['Country'] == 'United States of America')].dropna()#take only values with US & drop null values\n",
    "# ReOrderheader = [ 'Country', 'Gender', 'Age','Formal Education','Position','Year Coding','Org Size', 'Salary',]\n",
    "kaggledf.head(1)"
   ]
  },
  {
   "cell_type": "markdown",
   "id": "2d4552de",
   "metadata": {},
   "source": [
    "# STACK OVER FLOW DATA "
   ]
  },
  {
   "cell_type": "code",
   "execution_count": 44,
   "id": "3c32fd1c",
   "metadata": {},
   "outputs": [
    {
     "data": {
      "text/html": [
       "<div>\n",
       "<style scoped>\n",
       "    .dataframe tbody tr th:only-of-type {\n",
       "        vertical-align: middle;\n",
       "    }\n",
       "\n",
       "    .dataframe tbody tr th {\n",
       "        vertical-align: top;\n",
       "    }\n",
       "\n",
       "    .dataframe thead th {\n",
       "        text-align: right;\n",
       "    }\n",
       "</style>\n",
       "<table border=\"1\" class=\"dataframe\">\n",
       "  <thead>\n",
       "    <tr style=\"text-align: right;\">\n",
       "      <th></th>\n",
       "      <th>Country</th>\n",
       "      <th>FormalEducation</th>\n",
       "      <th>DeveloperType</th>\n",
       "      <th>WebDeveloperType</th>\n",
       "      <th>Gender</th>\n",
       "      <th>Salary</th>\n",
       "    </tr>\n",
       "  </thead>\n",
       "  <tbody>\n",
       "    <tr>\n",
       "      <th>25</th>\n",
       "      <td>United States</td>\n",
       "      <td>Master's degree</td>\n",
       "      <td>Web developer</td>\n",
       "      <td>Back-end Web developer</td>\n",
       "      <td>Male</td>\n",
       "      <td>175000.0</td>\n",
       "    </tr>\n",
       "    <tr>\n",
       "      <th>70</th>\n",
       "      <td>United States</td>\n",
       "      <td>Some college/university study without earning ...</td>\n",
       "      <td>Web developer</td>\n",
       "      <td>Full stack Web developer</td>\n",
       "      <td>Male</td>\n",
       "      <td>65000.0</td>\n",
       "    </tr>\n",
       "    <tr>\n",
       "      <th>72</th>\n",
       "      <td>United States</td>\n",
       "      <td>Some college/university study without earning ...</td>\n",
       "      <td>Web developer</td>\n",
       "      <td>Full stack Web developer</td>\n",
       "      <td>Male</td>\n",
       "      <td>120000.0</td>\n",
       "    </tr>\n",
       "    <tr>\n",
       "      <th>76</th>\n",
       "      <td>United States</td>\n",
       "      <td>Some college/university study without earning ...</td>\n",
       "      <td>Web developer</td>\n",
       "      <td>Full stack Web developer</td>\n",
       "      <td>Male</td>\n",
       "      <td>96283.0</td>\n",
       "    </tr>\n",
       "    <tr>\n",
       "      <th>81</th>\n",
       "      <td>United States</td>\n",
       "      <td>Bachelor's degree</td>\n",
       "      <td>Web developer</td>\n",
       "      <td>Full stack Web developer</td>\n",
       "      <td>Male</td>\n",
       "      <td>110000.0</td>\n",
       "    </tr>\n",
       "  </tbody>\n",
       "</table>\n",
       "</div>"
      ],
      "text/plain": [
       "          Country                                    FormalEducation  \\\n",
       "25  United States                                    Master's degree   \n",
       "70  United States  Some college/university study without earning ...   \n",
       "72  United States  Some college/university study without earning ...   \n",
       "76  United States  Some college/university study without earning ...   \n",
       "81  United States                                  Bachelor's degree   \n",
       "\n",
       "    DeveloperType          WebDeveloperType Gender    Salary  \n",
       "25  Web developer    Back-end Web developer   Male  175000.0  \n",
       "70  Web developer  Full stack Web developer   Male   65000.0  \n",
       "72  Web developer  Full stack Web developer   Male  120000.0  \n",
       "76  Web developer  Full stack Web developer   Male   96283.0  \n",
       "81  Web developer  Full stack Web developer   Male  110000.0  "
      ]
     },
     "execution_count": 44,
     "metadata": {},
     "output_type": "execute_result"
    }
   ],
   "source": [
    "#data= pd.read_csv(filepath, index_col=0)\n",
    "filepath = \"./ResourcesFiles/2017survey_results_public.csv\" # Load the dataset.\n",
    "stackdata= pd.read_csv(filepath, usecols=[ 'Gender','Country','FormalEducation','Salary','DeveloperType','WebDeveloperType',])#Read the Data as a Panda Dataframe\n",
    "stack_df = stackdata[(stackdata['Country'] == 'United States')].dropna()#take only values with US & drop null values\n",
    "#header =  ['Age','Gender','Country','Formal Education','Year Coding', 'Salary',] #Reindex/Rename Columns \n",
    "stack_df.head()\n",
    "#stackdata= pd.read_csv(filepath, usecols=[ 'Age','Gender','Country','FormalEducation','YearsCoding','Salary','JobProfile',])#Read the Data as a Panda Dataframe"
   ]
  },
  {
   "cell_type": "code",
   "execution_count": 41,
   "id": "9bf58e31",
   "metadata": {},
   "outputs": [
    {
     "data": {
      "text/plain": [
       "Index(['Country', 'FormalEducation', 'DeveloperType', 'WebDeveloperType',\n",
       "       'Gender', 'Salary'],\n",
       "      dtype='object')"
      ]
     },
     "execution_count": 41,
     "metadata": {},
     "output_type": "execute_result"
    }
   ],
   "source": [
    "stack_df.columns # Print Column Name "
   ]
  },
  {
   "cell_type": "code",
   "execution_count": 42,
   "id": "291867fc",
   "metadata": {},
   "outputs": [
    {
     "data": {
      "text/plain": [
       "Country              object\n",
       "FormalEducation      object\n",
       "DeveloperType        object\n",
       "WebDeveloperType     object\n",
       "Gender               object\n",
       "Salary              float64\n",
       "dtype: object"
      ]
     },
     "execution_count": 42,
     "metadata": {},
     "output_type": "execute_result"
    }
   ],
   "source": [
    "stack_df.dtypes # Print DataTypes "
   ]
  },
  {
   "cell_type": "code",
   "execution_count": 43,
   "id": "aff24807",
   "metadata": {},
   "outputs": [
    {
     "name": "stdout",
     "output_type": "stream",
     "text": [
      "Column Country has 0 null values\n",
      "Column FormalEducation has 0 null values\n",
      "Column DeveloperType has 0 null values\n",
      "Column WebDeveloperType has 0 null values\n",
      "Column Gender has 0 null values\n",
      "Column Salary has 0 null values\n"
     ]
    }
   ],
   "source": [
    "#Check for Null Values\n",
    "for column in stack_df.columns:\n",
    "    print(f\"Column {column} has {stack_df[column].isnull().sum()} null values\")"
   ]
  },
  {
   "cell_type": "markdown",
   "id": "5b3ebe2c",
   "metadata": {},
   "source": [
    "#### Job Satisfaction Data Set"
   ]
  },
  {
   "cell_type": "code",
   "execution_count": 35,
   "id": "b7e39140",
   "metadata": {},
   "outputs": [],
   "source": [
    "#alldata.columns.tolist()"
   ]
  },
  {
   "cell_type": "code",
   "execution_count": 30,
   "id": "17ecaa44",
   "metadata": {},
   "outputs": [
    {
     "data": {
      "text/html": [
       "<div>\n",
       "<style scoped>\n",
       "    .dataframe tbody tr th:only-of-type {\n",
       "        vertical-align: middle;\n",
       "    }\n",
       "\n",
       "    .dataframe tbody tr th {\n",
       "        vertical-align: top;\n",
       "    }\n",
       "\n",
       "    .dataframe thead th {\n",
       "        text-align: right;\n",
       "    }\n",
       "</style>\n",
       "<table border=\"1\" class=\"dataframe\">\n",
       "  <thead>\n",
       "    <tr style=\"text-align: right;\">\n",
       "      <th></th>\n",
       "      <th>Country</th>\n",
       "      <th>MajorUndergrad</th>\n",
       "      <th>JobSatisfaction</th>\n",
       "      <th>Gender</th>\n",
       "    </tr>\n",
       "  </thead>\n",
       "  <tbody>\n",
       "    <tr>\n",
       "      <th>3</th>\n",
       "      <td>United States</td>\n",
       "      <td>A non-computer-focused engineering discipline</td>\n",
       "      <td>3.0</td>\n",
       "      <td>Male</td>\n",
       "    </tr>\n",
       "  </tbody>\n",
       "</table>\n",
       "</div>"
      ],
      "text/plain": [
       "         Country                                 MajorUndergrad  \\\n",
       "3  United States  A non-computer-focused engineering discipline   \n",
       "\n",
       "   JobSatisfaction Gender  \n",
       "3              3.0   Male  "
      ]
     },
     "execution_count": 30,
     "metadata": {},
     "output_type": "execute_result"
    }
   ],
   "source": [
    "#Load the data set \n",
    "filepath = \"./ResourcesFiles/2017survey_results_public.csv\" # Load the dataset.\n",
    "JobSatData= pd.read_csv(filepath, usecols=[ 'Gender','Country','JobSatisfaction','MajorUndergrad',])\n",
    "Job_sat_df = JobSatData[(JobSatData['Country'] == 'United States')].dropna()#take only values with US & drop null values\n",
    "Job_sat_df.head(1)"
   ]
  },
  {
   "cell_type": "markdown",
   "id": "79aac2e0",
   "metadata": {},
   "source": [
    "### Women only DataFrame "
   ]
  },
  {
   "cell_type": "code",
   "execution_count": 33,
   "id": "a0c7f9de",
   "metadata": {},
   "outputs": [
    {
     "data": {
      "text/html": [
       "<div>\n",
       "<style scoped>\n",
       "    .dataframe tbody tr th:only-of-type {\n",
       "        vertical-align: middle;\n",
       "    }\n",
       "\n",
       "    .dataframe tbody tr th {\n",
       "        vertical-align: top;\n",
       "    }\n",
       "\n",
       "    .dataframe thead th {\n",
       "        text-align: right;\n",
       "    }\n",
       "</style>\n",
       "<table border=\"1\" class=\"dataframe\">\n",
       "  <thead>\n",
       "    <tr style=\"text-align: right;\">\n",
       "      <th></th>\n",
       "      <th>Country</th>\n",
       "      <th>FormalEducation</th>\n",
       "      <th>DeveloperType</th>\n",
       "      <th>WebDeveloperType</th>\n",
       "      <th>Gender</th>\n",
       "      <th>Salary</th>\n",
       "    </tr>\n",
       "  </thead>\n",
       "  <tbody>\n",
       "    <tr>\n",
       "      <th>103</th>\n",
       "      <td>United States</td>\n",
       "      <td>Bachelor's degree</td>\n",
       "      <td>Web developer</td>\n",
       "      <td>Front-end Web developer</td>\n",
       "      <td>Female</td>\n",
       "      <td>51000.0</td>\n",
       "    </tr>\n",
       "    <tr>\n",
       "      <th>1209</th>\n",
       "      <td>United States</td>\n",
       "      <td>Bachelor's degree</td>\n",
       "      <td>Web developer</td>\n",
       "      <td>Front-end Web developer</td>\n",
       "      <td>Female</td>\n",
       "      <td>55000.0</td>\n",
       "    </tr>\n",
       "    <tr>\n",
       "      <th>1639</th>\n",
       "      <td>United States</td>\n",
       "      <td>Professional degree</td>\n",
       "      <td>Web developer</td>\n",
       "      <td>Full stack Web developer</td>\n",
       "      <td>Female</td>\n",
       "      <td>60000.0</td>\n",
       "    </tr>\n",
       "    <tr>\n",
       "      <th>1816</th>\n",
       "      <td>United States</td>\n",
       "      <td>Bachelor's degree</td>\n",
       "      <td>Web developer</td>\n",
       "      <td>Full stack Web developer</td>\n",
       "      <td>Female</td>\n",
       "      <td>89000.0</td>\n",
       "    </tr>\n",
       "    <tr>\n",
       "      <th>1832</th>\n",
       "      <td>United States</td>\n",
       "      <td>Master's degree</td>\n",
       "      <td>Web developer</td>\n",
       "      <td>Full stack Web developer</td>\n",
       "      <td>Female</td>\n",
       "      <td>136000.0</td>\n",
       "    </tr>\n",
       "  </tbody>\n",
       "</table>\n",
       "</div>"
      ],
      "text/plain": [
       "            Country      FormalEducation  DeveloperType  \\\n",
       "103   United States    Bachelor's degree  Web developer   \n",
       "1209  United States    Bachelor's degree  Web developer   \n",
       "1639  United States  Professional degree  Web developer   \n",
       "1816  United States    Bachelor's degree  Web developer   \n",
       "1832  United States      Master's degree  Web developer   \n",
       "\n",
       "              WebDeveloperType  Gender    Salary  \n",
       "103    Front-end Web developer  Female   51000.0  \n",
       "1209   Front-end Web developer  Female   55000.0  \n",
       "1639  Full stack Web developer  Female   60000.0  \n",
       "1816  Full stack Web developer  Female   89000.0  \n",
       "1832  Full stack Web developer  Female  136000.0  "
      ]
     },
     "execution_count": 33,
     "metadata": {},
     "output_type": "execute_result"
    }
   ],
   "source": [
    "### Select gender equal to women Column \n",
    "stack_women_df= stack_df[(stack_df ['Gender'] == 'Female')]\n",
    "stack_women_df.head()"
   ]
  },
  {
   "cell_type": "markdown",
   "id": "7fe863ee",
   "metadata": {},
   "source": [
    "### Man Only DataFrame "
   ]
  },
  {
   "cell_type": "code",
   "execution_count": 34,
   "id": "ec277916",
   "metadata": {},
   "outputs": [
    {
     "data": {
      "text/html": [
       "<div>\n",
       "<style scoped>\n",
       "    .dataframe tbody tr th:only-of-type {\n",
       "        vertical-align: middle;\n",
       "    }\n",
       "\n",
       "    .dataframe tbody tr th {\n",
       "        vertical-align: top;\n",
       "    }\n",
       "\n",
       "    .dataframe thead th {\n",
       "        text-align: right;\n",
       "    }\n",
       "</style>\n",
       "<table border=\"1\" class=\"dataframe\">\n",
       "  <thead>\n",
       "    <tr style=\"text-align: right;\">\n",
       "      <th></th>\n",
       "      <th>Country</th>\n",
       "      <th>FormalEducation</th>\n",
       "      <th>DeveloperType</th>\n",
       "      <th>WebDeveloperType</th>\n",
       "      <th>Gender</th>\n",
       "      <th>Salary</th>\n",
       "    </tr>\n",
       "  </thead>\n",
       "  <tbody>\n",
       "    <tr>\n",
       "      <th>25</th>\n",
       "      <td>United States</td>\n",
       "      <td>Master's degree</td>\n",
       "      <td>Web developer</td>\n",
       "      <td>Back-end Web developer</td>\n",
       "      <td>Male</td>\n",
       "      <td>175000.0</td>\n",
       "    </tr>\n",
       "    <tr>\n",
       "      <th>70</th>\n",
       "      <td>United States</td>\n",
       "      <td>Some college/university study without earning ...</td>\n",
       "      <td>Web developer</td>\n",
       "      <td>Full stack Web developer</td>\n",
       "      <td>Male</td>\n",
       "      <td>65000.0</td>\n",
       "    </tr>\n",
       "    <tr>\n",
       "      <th>72</th>\n",
       "      <td>United States</td>\n",
       "      <td>Some college/university study without earning ...</td>\n",
       "      <td>Web developer</td>\n",
       "      <td>Full stack Web developer</td>\n",
       "      <td>Male</td>\n",
       "      <td>120000.0</td>\n",
       "    </tr>\n",
       "    <tr>\n",
       "      <th>76</th>\n",
       "      <td>United States</td>\n",
       "      <td>Some college/university study without earning ...</td>\n",
       "      <td>Web developer</td>\n",
       "      <td>Full stack Web developer</td>\n",
       "      <td>Male</td>\n",
       "      <td>96283.0</td>\n",
       "    </tr>\n",
       "    <tr>\n",
       "      <th>81</th>\n",
       "      <td>United States</td>\n",
       "      <td>Bachelor's degree</td>\n",
       "      <td>Web developer</td>\n",
       "      <td>Full stack Web developer</td>\n",
       "      <td>Male</td>\n",
       "      <td>110000.0</td>\n",
       "    </tr>\n",
       "  </tbody>\n",
       "</table>\n",
       "</div>"
      ],
      "text/plain": [
       "          Country                                    FormalEducation  \\\n",
       "25  United States                                    Master's degree   \n",
       "70  United States  Some college/university study without earning ...   \n",
       "72  United States  Some college/university study without earning ...   \n",
       "76  United States  Some college/university study without earning ...   \n",
       "81  United States                                  Bachelor's degree   \n",
       "\n",
       "    DeveloperType          WebDeveloperType Gender    Salary  \n",
       "25  Web developer    Back-end Web developer   Male  175000.0  \n",
       "70  Web developer  Full stack Web developer   Male   65000.0  \n",
       "72  Web developer  Full stack Web developer   Male  120000.0  \n",
       "76  Web developer  Full stack Web developer   Male   96283.0  \n",
       "81  Web developer  Full stack Web developer   Male  110000.0  "
      ]
     },
     "execution_count": 34,
     "metadata": {},
     "output_type": "execute_result"
    }
   ],
   "source": [
    "# Select only the data with the gender equal to \"Man\"\n",
    "stack_men_df= stack_df[(stack_df ['Gender'] == 'Male')]\n",
    "stack_men_df.head()"
   ]
  },
  {
   "cell_type": "code",
   "execution_count": null,
   "id": "a18fe566",
   "metadata": {},
   "outputs": [],
   "source": [
    "# Save New cleaned File \n",
    "#output_file_path = \"../Resources/2020StackOverFlow_DevSurvey/clean_survey_results_public.csv\"\"]\n",
    "#us_df.to_csv(output_file_path, index=False)"
   ]
  },
  {
   "cell_type": "code",
   "execution_count": null,
   "id": "e2a26fa8",
   "metadata": {},
   "outputs": [],
   "source": []
  }
 ],
 "metadata": {
  "kernelspec": {
   "display_name": "Python 3",
   "language": "python",
   "name": "python3"
  },
  "language_info": {
   "codemirror_mode": {
    "name": "ipython",
    "version": 3
   },
   "file_extension": ".py",
   "mimetype": "text/x-python",
   "name": "python",
   "nbconvert_exporter": "python",
   "pygments_lexer": "ipython3",
   "version": "3.8.8"
  }
 },
 "nbformat": 4,
 "nbformat_minor": 5
}
