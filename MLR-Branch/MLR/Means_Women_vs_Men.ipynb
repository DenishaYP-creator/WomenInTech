{
 "cells": [
  {
   "cell_type": "code",
   "execution_count": 19,
   "metadata": {},
   "outputs": [],
   "source": [
    "import warnings\n",
    "warnings.filterwarnings('ignore')\n",
    "import pandas as pd\n",
    "import numpy as np\n",
    "import seaborn as sns \n",
    "import matplotlib.pyplot as plt"
   ]
  },
  {
   "cell_type": "code",
   "execution_count": 20,
   "metadata": {},
   "outputs": [
    {
     "data": {
      "text/html": [
       "<div>\n",
       "<style scoped>\n",
       "    .dataframe tbody tr th:only-of-type {\n",
       "        vertical-align: middle;\n",
       "    }\n",
       "\n",
       "    .dataframe tbody tr th {\n",
       "        vertical-align: top;\n",
       "    }\n",
       "\n",
       "    .dataframe thead th {\n",
       "        text-align: right;\n",
       "    }\n",
       "</style>\n",
       "<table border=\"1\" class=\"dataframe\">\n",
       "  <thead>\n",
       "    <tr style=\"text-align: right;\">\n",
       "      <th></th>\n",
       "      <th>Formal_Education</th>\n",
       "      <th>Position</th>\n",
       "      <th>Years_Coding</th>\n",
       "      <th>Salary</th>\n",
       "      <th>Age</th>\n",
       "    </tr>\n",
       "  </thead>\n",
       "  <tbody>\n",
       "    <tr>\n",
       "      <th>0</th>\n",
       "      <td>3.839506</td>\n",
       "      <td>3.814815</td>\n",
       "      <td>3.197531</td>\n",
       "      <td>22663.080247</td>\n",
       "      <td>19.5</td>\n",
       "    </tr>\n",
       "    <tr>\n",
       "      <th>1</th>\n",
       "      <td>4.387805</td>\n",
       "      <td>3.407317</td>\n",
       "      <td>3.409756</td>\n",
       "      <td>21676.941463</td>\n",
       "      <td>23.0</td>\n",
       "    </tr>\n",
       "    <tr>\n",
       "      <th>2</th>\n",
       "      <td>4.751055</td>\n",
       "      <td>2.976793</td>\n",
       "      <td>4.496835</td>\n",
       "      <td>41599.448312</td>\n",
       "      <td>27.0</td>\n",
       "    </tr>\n",
       "    <tr>\n",
       "      <th>3</th>\n",
       "      <td>4.998721</td>\n",
       "      <td>2.561381</td>\n",
       "      <td>6.695652</td>\n",
       "      <td>53419.576726</td>\n",
       "      <td>32.0</td>\n",
       "    </tr>\n",
       "    <tr>\n",
       "      <th>4</th>\n",
       "      <td>5.038697</td>\n",
       "      <td>3.028513</td>\n",
       "      <td>8.930754</td>\n",
       "      <td>62256.127291</td>\n",
       "      <td>37.0</td>\n",
       "    </tr>\n",
       "    <tr>\n",
       "      <th>5</th>\n",
       "      <td>5.054131</td>\n",
       "      <td>2.954416</td>\n",
       "      <td>9.760684</td>\n",
       "      <td>64228.849003</td>\n",
       "      <td>42.0</td>\n",
       "    </tr>\n",
       "    <tr>\n",
       "      <th>6</th>\n",
       "      <td>4.497585</td>\n",
       "      <td>3.072464</td>\n",
       "      <td>10.748792</td>\n",
       "      <td>69869.065217</td>\n",
       "      <td>47.0</td>\n",
       "    </tr>\n",
       "    <tr>\n",
       "      <th>7</th>\n",
       "      <td>5.088235</td>\n",
       "      <td>3.227941</td>\n",
       "      <td>10.970588</td>\n",
       "      <td>62942.514706</td>\n",
       "      <td>52.0</td>\n",
       "    </tr>\n",
       "    <tr>\n",
       "      <th>8</th>\n",
       "      <td>4.875000</td>\n",
       "      <td>2.812500</td>\n",
       "      <td>10.781250</td>\n",
       "      <td>99460.437500</td>\n",
       "      <td>57.0</td>\n",
       "    </tr>\n",
       "    <tr>\n",
       "      <th>9</th>\n",
       "      <td>5.186047</td>\n",
       "      <td>3.418605</td>\n",
       "      <td>12.255814</td>\n",
       "      <td>101720.453488</td>\n",
       "      <td>64.5</td>\n",
       "    </tr>\n",
       "  </tbody>\n",
       "</table>\n",
       "</div>"
      ],
      "text/plain": [
       "   Formal_Education  Position  Years_Coding         Salary   Age\n",
       "0          3.839506  3.814815      3.197531   22663.080247  19.5\n",
       "1          4.387805  3.407317      3.409756   21676.941463  23.0\n",
       "2          4.751055  2.976793      4.496835   41599.448312  27.0\n",
       "3          4.998721  2.561381      6.695652   53419.576726  32.0\n",
       "4          5.038697  3.028513      8.930754   62256.127291  37.0\n",
       "5          5.054131  2.954416      9.760684   64228.849003  42.0\n",
       "6          4.497585  3.072464     10.748792   69869.065217  47.0\n",
       "7          5.088235  3.227941     10.970588   62942.514706  52.0\n",
       "8          4.875000  2.812500     10.781250   99460.437500  57.0\n",
       "9          5.186047  3.418605     12.255814  101720.453488  64.5"
      ]
     },
     "execution_count": 20,
     "metadata": {},
     "output_type": "execute_result"
    }
   ],
   "source": [
    "#Import Women Means Data\n",
    "Women_df = pd.read_csv('Women_Means_Dataset.csv')\n",
    "Women_df"
   ]
  },
  {
   "cell_type": "code",
   "execution_count": 21,
   "metadata": {},
   "outputs": [
    {
     "data": {
      "text/html": [
       "<div>\n",
       "<style scoped>\n",
       "    .dataframe tbody tr th:only-of-type {\n",
       "        vertical-align: middle;\n",
       "    }\n",
       "\n",
       "    .dataframe tbody tr th {\n",
       "        vertical-align: top;\n",
       "    }\n",
       "\n",
       "    .dataframe thead th {\n",
       "        text-align: right;\n",
       "    }\n",
       "</style>\n",
       "<table border=\"1\" class=\"dataframe\">\n",
       "  <thead>\n",
       "    <tr style=\"text-align: right;\">\n",
       "      <th></th>\n",
       "      <th>Formal_Education</th>\n",
       "      <th>Position</th>\n",
       "      <th>Years_Coding</th>\n",
       "      <th>Salary</th>\n",
       "      <th>Age</th>\n",
       "    </tr>\n",
       "  </thead>\n",
       "  <tbody>\n",
       "    <tr>\n",
       "      <th>0</th>\n",
       "      <td>3.950119</td>\n",
       "      <td>3.505938</td>\n",
       "      <td>3.356295</td>\n",
       "      <td>26373.016627</td>\n",
       "      <td>19.5</td>\n",
       "    </tr>\n",
       "    <tr>\n",
       "      <th>1</th>\n",
       "      <td>4.358566</td>\n",
       "      <td>3.530323</td>\n",
       "      <td>3.474989</td>\n",
       "      <td>24580.509739</td>\n",
       "      <td>23.0</td>\n",
       "    </tr>\n",
       "    <tr>\n",
       "      <th>2</th>\n",
       "      <td>4.624508</td>\n",
       "      <td>3.170928</td>\n",
       "      <td>4.844807</td>\n",
       "      <td>38902.087628</td>\n",
       "      <td>27.0</td>\n",
       "    </tr>\n",
       "    <tr>\n",
       "      <th>3</th>\n",
       "      <td>4.754254</td>\n",
       "      <td>3.093474</td>\n",
       "      <td>7.292053</td>\n",
       "      <td>57561.585397</td>\n",
       "      <td>32.0</td>\n",
       "    </tr>\n",
       "    <tr>\n",
       "      <th>4</th>\n",
       "      <td>4.811253</td>\n",
       "      <td>3.076213</td>\n",
       "      <td>9.466806</td>\n",
       "      <td>67868.586186</td>\n",
       "      <td>37.0</td>\n",
       "    </tr>\n",
       "    <tr>\n",
       "      <th>5</th>\n",
       "      <td>4.754266</td>\n",
       "      <td>3.336177</td>\n",
       "      <td>10.841297</td>\n",
       "      <td>76011.878200</td>\n",
       "      <td>42.0</td>\n",
       "    </tr>\n",
       "    <tr>\n",
       "      <th>6</th>\n",
       "      <td>4.586930</td>\n",
       "      <td>3.593711</td>\n",
       "      <td>11.158446</td>\n",
       "      <td>78144.234279</td>\n",
       "      <td>47.0</td>\n",
       "    </tr>\n",
       "    <tr>\n",
       "      <th>7</th>\n",
       "      <td>4.728092</td>\n",
       "      <td>3.459459</td>\n",
       "      <td>12.529894</td>\n",
       "      <td>87293.935708</td>\n",
       "      <td>52.0</td>\n",
       "    </tr>\n",
       "    <tr>\n",
       "      <th>8</th>\n",
       "      <td>4.751445</td>\n",
       "      <td>3.527457</td>\n",
       "      <td>13.036127</td>\n",
       "      <td>97674.731936</td>\n",
       "      <td>57.0</td>\n",
       "    </tr>\n",
       "    <tr>\n",
       "      <th>9</th>\n",
       "      <td>4.756933</td>\n",
       "      <td>3.812398</td>\n",
       "      <td>13.765090</td>\n",
       "      <td>95371.452692</td>\n",
       "      <td>64.5</td>\n",
       "    </tr>\n",
       "  </tbody>\n",
       "</table>\n",
       "</div>"
      ],
      "text/plain": [
       "   Formal_Education  Position  Years_Coding        Salary   Age\n",
       "0          3.950119  3.505938      3.356295  26373.016627  19.5\n",
       "1          4.358566  3.530323      3.474989  24580.509739  23.0\n",
       "2          4.624508  3.170928      4.844807  38902.087628  27.0\n",
       "3          4.754254  3.093474      7.292053  57561.585397  32.0\n",
       "4          4.811253  3.076213      9.466806  67868.586186  37.0\n",
       "5          4.754266  3.336177     10.841297  76011.878200  42.0\n",
       "6          4.586930  3.593711     11.158446  78144.234279  47.0\n",
       "7          4.728092  3.459459     12.529894  87293.935708  52.0\n",
       "8          4.751445  3.527457     13.036127  97674.731936  57.0\n",
       "9          4.756933  3.812398     13.765090  95371.452692  64.5"
      ]
     },
     "execution_count": 21,
     "metadata": {},
     "output_type": "execute_result"
    }
   ],
   "source": [
    "#Import Men Means Data\n",
    "Men_df = pd.read_csv('Men_Means_Dataset.csv')\n",
    "Men_df"
   ]
  },
  {
   "cell_type": "code",
   "execution_count": 22,
   "metadata": {},
   "outputs": [
    {
     "data": {
      "text/html": [
       "<div>\n",
       "<style scoped>\n",
       "    .dataframe tbody tr th:only-of-type {\n",
       "        vertical-align: middle;\n",
       "    }\n",
       "\n",
       "    .dataframe tbody tr th {\n",
       "        vertical-align: top;\n",
       "    }\n",
       "\n",
       "    .dataframe thead th {\n",
       "        text-align: right;\n",
       "    }\n",
       "</style>\n",
       "<table border=\"1\" class=\"dataframe\">\n",
       "  <thead>\n",
       "    <tr style=\"text-align: right;\">\n",
       "      <th></th>\n",
       "      <th>Age</th>\n",
       "      <th>Years_Coding</th>\n",
       "      <th>Formal_Education</th>\n",
       "    </tr>\n",
       "  </thead>\n",
       "  <tbody>\n",
       "    <tr>\n",
       "      <th>0</th>\n",
       "      <td>19.5</td>\n",
       "      <td>3.197531</td>\n",
       "      <td>3.839506</td>\n",
       "    </tr>\n",
       "    <tr>\n",
       "      <th>1</th>\n",
       "      <td>23.0</td>\n",
       "      <td>3.409756</td>\n",
       "      <td>4.387805</td>\n",
       "    </tr>\n",
       "    <tr>\n",
       "      <th>2</th>\n",
       "      <td>27.0</td>\n",
       "      <td>4.496835</td>\n",
       "      <td>4.751055</td>\n",
       "    </tr>\n",
       "    <tr>\n",
       "      <th>3</th>\n",
       "      <td>32.0</td>\n",
       "      <td>6.695652</td>\n",
       "      <td>4.998721</td>\n",
       "    </tr>\n",
       "    <tr>\n",
       "      <th>4</th>\n",
       "      <td>37.0</td>\n",
       "      <td>8.930754</td>\n",
       "      <td>5.038697</td>\n",
       "    </tr>\n",
       "    <tr>\n",
       "      <th>5</th>\n",
       "      <td>42.0</td>\n",
       "      <td>9.760684</td>\n",
       "      <td>5.054131</td>\n",
       "    </tr>\n",
       "    <tr>\n",
       "      <th>6</th>\n",
       "      <td>47.0</td>\n",
       "      <td>10.748792</td>\n",
       "      <td>4.497585</td>\n",
       "    </tr>\n",
       "    <tr>\n",
       "      <th>7</th>\n",
       "      <td>52.0</td>\n",
       "      <td>10.970588</td>\n",
       "      <td>5.088235</td>\n",
       "    </tr>\n",
       "    <tr>\n",
       "      <th>8</th>\n",
       "      <td>57.0</td>\n",
       "      <td>10.781250</td>\n",
       "      <td>4.875000</td>\n",
       "    </tr>\n",
       "    <tr>\n",
       "      <th>9</th>\n",
       "      <td>64.5</td>\n",
       "      <td>12.255814</td>\n",
       "      <td>5.186047</td>\n",
       "    </tr>\n",
       "  </tbody>\n",
       "</table>\n",
       "</div>"
      ],
      "text/plain": [
       "    Age  Years_Coding  Formal_Education\n",
       "0  19.5      3.197531          3.839506\n",
       "1  23.0      3.409756          4.387805\n",
       "2  27.0      4.496835          4.751055\n",
       "3  32.0      6.695652          4.998721\n",
       "4  37.0      8.930754          5.038697\n",
       "5  42.0      9.760684          5.054131\n",
       "6  47.0     10.748792          4.497585\n",
       "7  52.0     10.970588          5.088235\n",
       "8  57.0     10.781250          4.875000\n",
       "9  64.5     12.255814          5.186047"
      ]
     },
     "execution_count": 22,
     "metadata": {},
     "output_type": "execute_result"
    }
   ],
   "source": [
    "Women_X = Women_df[['Age','Years_Coding','Formal_Education']]\n",
    "Women_X"
   ]
  },
  {
   "cell_type": "code",
   "execution_count": 23,
   "metadata": {},
   "outputs": [
    {
     "data": {
      "text/html": [
       "<div>\n",
       "<style scoped>\n",
       "    .dataframe tbody tr th:only-of-type {\n",
       "        vertical-align: middle;\n",
       "    }\n",
       "\n",
       "    .dataframe tbody tr th {\n",
       "        vertical-align: top;\n",
       "    }\n",
       "\n",
       "    .dataframe thead th {\n",
       "        text-align: right;\n",
       "    }\n",
       "</style>\n",
       "<table border=\"1\" class=\"dataframe\">\n",
       "  <thead>\n",
       "    <tr style=\"text-align: right;\">\n",
       "      <th></th>\n",
       "      <th>Age</th>\n",
       "      <th>Years_Coding</th>\n",
       "      <th>Formal_Education</th>\n",
       "    </tr>\n",
       "  </thead>\n",
       "  <tbody>\n",
       "    <tr>\n",
       "      <th>0</th>\n",
       "      <td>19.5</td>\n",
       "      <td>3.356295</td>\n",
       "      <td>3.950119</td>\n",
       "    </tr>\n",
       "    <tr>\n",
       "      <th>1</th>\n",
       "      <td>23.0</td>\n",
       "      <td>3.474989</td>\n",
       "      <td>4.358566</td>\n",
       "    </tr>\n",
       "    <tr>\n",
       "      <th>2</th>\n",
       "      <td>27.0</td>\n",
       "      <td>4.844807</td>\n",
       "      <td>4.624508</td>\n",
       "    </tr>\n",
       "    <tr>\n",
       "      <th>3</th>\n",
       "      <td>32.0</td>\n",
       "      <td>7.292053</td>\n",
       "      <td>4.754254</td>\n",
       "    </tr>\n",
       "    <tr>\n",
       "      <th>4</th>\n",
       "      <td>37.0</td>\n",
       "      <td>9.466806</td>\n",
       "      <td>4.811253</td>\n",
       "    </tr>\n",
       "    <tr>\n",
       "      <th>5</th>\n",
       "      <td>42.0</td>\n",
       "      <td>10.841297</td>\n",
       "      <td>4.754266</td>\n",
       "    </tr>\n",
       "    <tr>\n",
       "      <th>6</th>\n",
       "      <td>47.0</td>\n",
       "      <td>11.158446</td>\n",
       "      <td>4.586930</td>\n",
       "    </tr>\n",
       "    <tr>\n",
       "      <th>7</th>\n",
       "      <td>52.0</td>\n",
       "      <td>12.529894</td>\n",
       "      <td>4.728092</td>\n",
       "    </tr>\n",
       "    <tr>\n",
       "      <th>8</th>\n",
       "      <td>57.0</td>\n",
       "      <td>13.036127</td>\n",
       "      <td>4.751445</td>\n",
       "    </tr>\n",
       "    <tr>\n",
       "      <th>9</th>\n",
       "      <td>64.5</td>\n",
       "      <td>13.765090</td>\n",
       "      <td>4.756933</td>\n",
       "    </tr>\n",
       "  </tbody>\n",
       "</table>\n",
       "</div>"
      ],
      "text/plain": [
       "    Age  Years_Coding  Formal_Education\n",
       "0  19.5      3.356295          3.950119\n",
       "1  23.0      3.474989          4.358566\n",
       "2  27.0      4.844807          4.624508\n",
       "3  32.0      7.292053          4.754254\n",
       "4  37.0      9.466806          4.811253\n",
       "5  42.0     10.841297          4.754266\n",
       "6  47.0     11.158446          4.586930\n",
       "7  52.0     12.529894          4.728092\n",
       "8  57.0     13.036127          4.751445\n",
       "9  64.5     13.765090          4.756933"
      ]
     },
     "execution_count": 23,
     "metadata": {},
     "output_type": "execute_result"
    }
   ],
   "source": [
    "Men_X = Men_df[['Age', 'Years_Coding','Formal_Education']]\n",
    "Men_X"
   ]
  },
  {
   "cell_type": "code",
   "execution_count": 24,
   "metadata": {},
   "outputs": [],
   "source": [
    "Women_Y = Women_df['Salary']\n",
    "Men_Y = Men_df['Salary']"
   ]
  },
  {
   "cell_type": "code",
   "execution_count": 25,
   "metadata": {},
   "outputs": [
    {
     "name": "stdout",
     "output_type": "stream",
     "text": [
      "(7, 3)\n",
      "(3, 3)\n",
      "(7,)\n",
      "(3,)\n"
     ]
    }
   ],
   "source": [
    "from sklearn.model_selection import train_test_split\n",
    "Women_X_train, Women_X_test, Women_y_train, Women_y_test = train_test_split(Women_X, Women_Y, test_size=0.25, random_state=101)\n",
    "print(Women_X_train.shape)\n",
    "print(Women_X_test.shape)\n",
    "print(Women_y_train.shape)\n",
    "print(Women_y_test.shape)"
   ]
  },
  {
   "cell_type": "code",
   "execution_count": 26,
   "metadata": {},
   "outputs": [
    {
     "name": "stdout",
     "output_type": "stream",
     "text": [
      "(7, 3)\n",
      "(3, 3)\n",
      "(7,)\n",
      "(3,)\n"
     ]
    }
   ],
   "source": [
    "from sklearn.model_selection import train_test_split\n",
    "Men_X_train, Men_X_test, Men_y_train, Men_y_test = train_test_split(Men_X, Men_Y, test_size=0.25, random_state=101)\n",
    "print(Men_X_train.shape)\n",
    "print(Men_X_test.shape)\n",
    "print(Men_y_train.shape)\n",
    "print(Men_y_test.shape)"
   ]
  },
  {
   "cell_type": "code",
   "execution_count": 27,
   "metadata": {},
   "outputs": [
    {
     "data": {
      "text/plain": [
       "LinearRegression()"
      ]
     },
     "execution_count": 27,
     "metadata": {},
     "output_type": "execute_result"
    }
   ],
   "source": [
    "from sklearn.linear_model import LinearRegression\n",
    "Women_model = LinearRegression()\n",
    "Women_model.fit(Women_X_train,Women_y_train)"
   ]
  },
  {
   "cell_type": "code",
   "execution_count": 28,
   "metadata": {},
   "outputs": [
    {
     "data": {
      "text/plain": [
       "LinearRegression()"
      ]
     },
     "execution_count": 28,
     "metadata": {},
     "output_type": "execute_result"
    }
   ],
   "source": [
    "from sklearn.linear_model import LinearRegression\n",
    "Men_model = LinearRegression()\n",
    "Men_model.fit(Men_X_train,Men_y_train)"
   ]
  },
  {
   "cell_type": "code",
   "execution_count": 29,
   "metadata": {},
   "outputs": [
    {
     "name": "stdout",
     "output_type": "stream",
     "text": [
      "-55356.187023302955\n"
     ]
    }
   ],
   "source": [
    "# print the intercept\n",
    "print(Women_model.intercept_)"
   ]
  },
  {
   "cell_type": "code",
   "execution_count": 30,
   "metadata": {},
   "outputs": [
    {
     "name": "stdout",
     "output_type": "stream",
     "text": [
      "-67770.4963152595\n"
     ]
    }
   ],
   "source": [
    "# print the intercept\n",
    "print(Men_model.intercept_)"
   ]
  },
  {
   "cell_type": "code",
   "execution_count": 31,
   "metadata": {},
   "outputs": [
    {
     "data": {
      "text/plain": [
       "array([80406.80779984, 35030.1070086 , 14406.81703635])"
      ]
     },
     "execution_count": 31,
     "metadata": {},
     "output_type": "execute_result"
    }
   ],
   "source": [
    "Women_predictions = Women_model.predict(Women_X_test)\n",
    "Women_predictions"
   ]
  },
  {
   "cell_type": "code",
   "execution_count": 32,
   "metadata": {},
   "outputs": [
    {
     "data": {
      "text/plain": [
       "array([90970.05265117, 38261.8100628 , 17920.74011272])"
      ]
     },
     "execution_count": 32,
     "metadata": {},
     "output_type": "execute_result"
    }
   ],
   "source": [
    "Men_predictions = Men_model.predict(Men_X_test)\n",
    "Men_predictions"
   ]
  },
  {
   "cell_type": "code",
   "execution_count": 33,
   "metadata": {},
   "outputs": [
    {
     "data": {
      "text/plain": [
       "<AxesSubplot:xlabel='Salary'>"
      ]
     },
     "execution_count": 33,
     "metadata": {},
     "output_type": "execute_result"
    },
    {
     "data": {
      "image/png": "[encoded data removed]",
      "text/plain": [
       "<Figure size 432x288 with 1 Axes>"
      ]
     },
     "metadata": {
      "needs_background": "light"
     },
     "output_type": "display_data"
    }
   ],
   "source": [
    "sns.regplot(Women_y_test,Women_predictions)"
   ]
  },
  {
   "cell_type": "code",
   "execution_count": 34,
   "metadata": {},
   "outputs": [
    {
     "data": {
      "text/plain": [
       "<AxesSubplot:xlabel='Salary'>"
      ]
     },
     "execution_count": 34,
     "metadata": {},
     "output_type": "execute_result"
    },
    {
     "data": {
      "image/png": "[encoded data removed]",
      "text/plain": [
       "<Figure size 432x288 with 1 Axes>"
      ]
     },
     "metadata": {
      "needs_background": "light"
     },
     "output_type": "display_data"
    }
   ],
   "source": [
    "sns.regplot(Men_y_test,Men_predictions)"
   ]
  },
  {
   "cell_type": "code",
   "execution_count": 35,
   "metadata": {},
   "outputs": [
    {
     "name": "stdout",
     "output_type": "stream",
     "text": [
      "                            OLS Regression Results                            \n",
      "==============================================================================\n",
      "Dep. Variable:                 Salary   R-squared:                       0.894\n",
      "Model:                            OLS   Adj. R-squared:                  0.787\n",
      "Method:                 Least Squares   F-statistic:                     8.411\n",
      "Date:                Fri, 16 Jul 2021   Prob (F-statistic):             0.0569\n",
      "Time:                        15:40:16   Log-Likelihood:                -72.032\n",
      "No. Observations:                   7   AIC:                             152.1\n",
      "Df Residuals:                       3   BIC:                             151.8\n",
      "Df Model:                           3                                         \n",
      "Covariance Type:            nonrobust                                         \n",
      "====================================================================================\n",
      "                       coef    std err          t      P>|t|      [0.025      0.975]\n",
      "------------------------------------------------------------------------------------\n",
      "const            -5.536e+04    7.7e+04     -0.719      0.524      -3e+05     1.9e+05\n",
      "Age                961.2796    933.764      1.029      0.379   -2010.373    3932.932\n",
      "Years_Coding      2409.1417   4317.261      0.558      0.616   -1.13e+04    1.61e+04\n",
      "Formal_Education  1.128e+04   1.74e+04      0.647      0.564   -4.42e+04    6.68e+04\n",
      "==============================================================================\n",
      "Omnibus:                          nan   Durbin-Watson:                   1.853\n",
      "Prob(Omnibus):                    nan   Jarque-Bera (JB):                1.866\n",
      "Skew:                          -1.247   Prob(JB):                        0.393\n",
      "Kurtosis:                       3.424   Cond. No.                         874.\n",
      "==============================================================================\n",
      "\n",
      "Notes:\n",
      "[1] Standard Errors assume that the covariance matrix of the errors is correctly specified.\n"
     ]
    }
   ],
   "source": [
    "import statsmodels.api as sm\n",
    "Woemn_X_train_Sm= sm.add_constant(Women_X_train)\n",
    "Women_X_train_Sm= sm.add_constant(Women_X_train)\n",
    "ls=sm.OLS(Women_y_train,Women_X_train_Sm).fit()\n",
    "print(ls.summary())"
   ]
  },
  {
   "cell_type": "code",
   "execution_count": 36,
   "metadata": {},
   "outputs": [
    {
     "name": "stdout",
     "output_type": "stream",
     "text": [
      "                            OLS Regression Results                            \n",
      "==============================================================================\n",
      "Dep. Variable:                 Salary   R-squared:                       0.996\n",
      "Model:                            OLS   Adj. R-squared:                  0.992\n",
      "Method:                 Least Squares   F-statistic:                     256.5\n",
      "Date:                Fri, 16 Jul 2021   Prob (F-statistic):           0.000410\n",
      "Time:                        15:40:16   Log-Likelihood:                -60.367\n",
      "No. Observations:                   7   AIC:                             128.7\n",
      "Df Residuals:                       3   BIC:                             128.5\n",
      "Df Model:                           3                                         \n",
      "Covariance Type:            nonrobust                                         \n",
      "====================================================================================\n",
      "                       coef    std err          t      P>|t|      [0.025      0.975]\n",
      "------------------------------------------------------------------------------------\n",
      "const            -6.777e+04   3.92e+04     -1.729      0.182   -1.92e+05    5.69e+04\n",
      "Age                 63.5443    240.822      0.264      0.809    -702.858     829.947\n",
      "Years_Coding      5948.9397   1097.221      5.422      0.012    2457.092    9440.788\n",
      "Formal_Education  1.633e+04   8730.687      1.870      0.158   -1.15e+04    4.41e+04\n",
      "==============================================================================\n",
      "Omnibus:                          nan   Durbin-Watson:                   2.397\n",
      "Prob(Omnibus):                    nan   Jarque-Bera (JB):                0.835\n",
      "Skew:                           0.647   Prob(JB):                        0.659\n",
      "Kurtosis:                       1.910   Cond. No.                     2.36e+03\n",
      "==============================================================================\n",
      "\n",
      "Notes:\n",
      "[1] Standard Errors assume that the covariance matrix of the errors is correctly specified.\n",
      "[2] The condition number is large, 2.36e+03. This might indicate that there are\n",
      "strong multicollinearity or other numerical problems.\n"
     ]
    }
   ],
   "source": [
    "import statsmodels.api as sm\n",
    "Men_X_train_Sm= sm.add_constant(Men_X_train)\n",
    "Men_X_train_Sm= sm.add_constant(Men_X_train)\n",
    "ls=sm.OLS(Men_y_train,Men_X_train_Sm).fit()\n",
    "print(ls.summary())"
   ]
  },
  {
   "cell_type": "code",
   "execution_count": null,
   "metadata": {},
   "outputs": [],
   "source": []
  }
 ],
 "metadata": {
  "kernelspec": {
   "display_name": "Python 3",
   "language": "python",
   "name": "python3"
  },
  "language_info": {
   "codemirror_mode": {
    "name": "ipython",
    "version": 3
   },
   "file_extension": ".py",
   "mimetype": "text/x-python",
   "name": "python",
   "nbconvert_exporter": "python",
   "pygments_lexer": "ipython3",
   "version": "3.7.9"
  }
 },
 "nbformat": 4,
 "nbformat_minor": 4
}
