{
 "cells": [
  {
   "cell_type": "code",
   "execution_count": 61,
   "metadata": {},
   "outputs": [],
   "source": [
    "import warnings\n",
    "warnings.filterwarnings('ignore')\n",
    "import pandas as pd\n",
    "import numpy as np\n",
    "import seaborn as sns \n",
    "import matplotlib.pyplot as plt"
   ]
  },
  {
   "cell_type": "code",
   "execution_count": 62,
   "metadata": {},
   "outputs": [
    {
     "data": {
      "text/html": [
       "<div>\n",
       "<style scoped>\n",
       "    .dataframe tbody tr th:only-of-type {\n",
       "        vertical-align: middle;\n",
       "    }\n",
       "\n",
       "    .dataframe tbody tr th {\n",
       "        vertical-align: top;\n",
       "    }\n",
       "\n",
       "    .dataframe thead th {\n",
       "        text-align: right;\n",
       "    }\n",
       "</style>\n",
       "<table border=\"1\" class=\"dataframe\">\n",
       "  <thead>\n",
       "    <tr style=\"text-align: right;\">\n",
       "      <th></th>\n",
       "      <th>Age</th>\n",
       "      <th>Gender</th>\n",
       "      <th>Country</th>\n",
       "      <th>Formal_Education</th>\n",
       "      <th>Position</th>\n",
       "      <th>Years_Coding</th>\n",
       "      <th>Salary</th>\n",
       "    </tr>\n",
       "  </thead>\n",
       "  <tbody>\n",
       "    <tr>\n",
       "      <th>0</th>\n",
       "      <td>23.0</td>\n",
       "      <td>Male</td>\n",
       "      <td>France</td>\n",
       "      <td>Master’s degree</td>\n",
       "      <td>Software Engineer</td>\n",
       "      <td>2.0</td>\n",
       "      <td>34999.5</td>\n",
       "    </tr>\n",
       "    <tr>\n",
       "      <th>1</th>\n",
       "      <td>42.0</td>\n",
       "      <td>Male</td>\n",
       "      <td>India</td>\n",
       "      <td>Professional degree</td>\n",
       "      <td>Software Engineer</td>\n",
       "      <td>0.0</td>\n",
       "      <td>6249.5</td>\n",
       "    </tr>\n",
       "    <tr>\n",
       "      <th>2</th>\n",
       "      <td>42.0</td>\n",
       "      <td>Male</td>\n",
       "      <td>Australia</td>\n",
       "      <td>Master’s degree</td>\n",
       "      <td>Other</td>\n",
       "      <td>2.0</td>\n",
       "      <td>274999.5</td>\n",
       "    </tr>\n",
       "    <tr>\n",
       "      <th>3</th>\n",
       "      <td>52.0</td>\n",
       "      <td>Male</td>\n",
       "      <td>France</td>\n",
       "      <td>Master’s degree</td>\n",
       "      <td>Data Scientist</td>\n",
       "      <td>20.0</td>\n",
       "      <td>64999.5</td>\n",
       "    </tr>\n",
       "    <tr>\n",
       "      <th>4</th>\n",
       "      <td>23.0</td>\n",
       "      <td>Male</td>\n",
       "      <td>India</td>\n",
       "      <td>Master’s degree</td>\n",
       "      <td>Data Scientist</td>\n",
       "      <td>5.0</td>\n",
       "      <td>12499.5</td>\n",
       "    </tr>\n",
       "  </tbody>\n",
       "</table>\n",
       "</div>"
      ],
      "text/plain": [
       "    Age Gender    Country     Formal_Education           Position  \\\n",
       "0  23.0   Male     France      Master’s degree  Software Engineer   \n",
       "1  42.0   Male      India  Professional degree  Software Engineer   \n",
       "2  42.0   Male  Australia      Master’s degree              Other   \n",
       "3  52.0   Male     France      Master’s degree     Data Scientist   \n",
       "4  23.0   Male      India      Master’s degree     Data Scientist   \n",
       "\n",
       "   Years_Coding    Salary  \n",
       "0           2.0   34999.5  \n",
       "1           0.0    6249.5  \n",
       "2           2.0  274999.5  \n",
       "3          20.0   64999.5  \n",
       "4           5.0   12499.5  "
      ]
     },
     "execution_count": 62,
     "metadata": {},
     "output_type": "execute_result"
    }
   ],
   "source": [
    "#Import Combined Cleaned Kaggle Data\n",
    "df = pd.read_csv('Cleaned_Combined_Kaggle_Data.csv')\n",
    "df.head()"
   ]
  },
  {
   "cell_type": "code",
   "execution_count": 63,
   "metadata": {},
   "outputs": [
    {
     "data": {
      "text/html": [
       "<div>\n",
       "<style scoped>\n",
       "    .dataframe tbody tr th:only-of-type {\n",
       "        vertical-align: middle;\n",
       "    }\n",
       "\n",
       "    .dataframe tbody tr th {\n",
       "        vertical-align: top;\n",
       "    }\n",
       "\n",
       "    .dataframe thead th {\n",
       "        text-align: right;\n",
       "    }\n",
       "</style>\n",
       "<table border=\"1\" class=\"dataframe\">\n",
       "  <thead>\n",
       "    <tr style=\"text-align: right;\">\n",
       "      <th></th>\n",
       "      <th>Age</th>\n",
       "      <th>Gender</th>\n",
       "      <th>Country</th>\n",
       "      <th>Formal_Education</th>\n",
       "      <th>Position</th>\n",
       "      <th>Years_Coding</th>\n",
       "      <th>Salary</th>\n",
       "    </tr>\n",
       "  </thead>\n",
       "  <tbody>\n",
       "    <tr>\n",
       "      <th>5</th>\n",
       "      <td>23.0</td>\n",
       "      <td>Female</td>\n",
       "      <td>United States of America</td>\n",
       "      <td>Bachelor’s degree</td>\n",
       "      <td>Data Scientist</td>\n",
       "      <td>5.0</td>\n",
       "      <td>84999.5</td>\n",
       "    </tr>\n",
       "    <tr>\n",
       "      <th>8</th>\n",
       "      <td>32.0</td>\n",
       "      <td>Male</td>\n",
       "      <td>United States of America</td>\n",
       "      <td>Master’s degree</td>\n",
       "      <td>Product/Project Manager</td>\n",
       "      <td>5.0</td>\n",
       "      <td>94999.5</td>\n",
       "    </tr>\n",
       "    <tr>\n",
       "      <th>9</th>\n",
       "      <td>52.0</td>\n",
       "      <td>Female</td>\n",
       "      <td>United States of America</td>\n",
       "      <td>Master’s degree</td>\n",
       "      <td>Data Analyst</td>\n",
       "      <td>20.0</td>\n",
       "      <td>137499.5</td>\n",
       "    </tr>\n",
       "    <tr>\n",
       "      <th>12</th>\n",
       "      <td>37.0</td>\n",
       "      <td>Male</td>\n",
       "      <td>United States of America</td>\n",
       "      <td>Bachelor’s degree</td>\n",
       "      <td>Other</td>\n",
       "      <td>10.0</td>\n",
       "      <td>137499.5</td>\n",
       "    </tr>\n",
       "    <tr>\n",
       "      <th>19</th>\n",
       "      <td>32.0</td>\n",
       "      <td>Female</td>\n",
       "      <td>United States of America</td>\n",
       "      <td>Master’s degree</td>\n",
       "      <td>Research Scientist</td>\n",
       "      <td>10.0</td>\n",
       "      <td>174999.5</td>\n",
       "    </tr>\n",
       "    <tr>\n",
       "      <th>...</th>\n",
       "      <td>...</td>\n",
       "      <td>...</td>\n",
       "      <td>...</td>\n",
       "      <td>...</td>\n",
       "      <td>...</td>\n",
       "      <td>...</td>\n",
       "      <td>...</td>\n",
       "    </tr>\n",
       "    <tr>\n",
       "      <th>26115</th>\n",
       "      <td>32.0</td>\n",
       "      <td>Male</td>\n",
       "      <td>United States of America</td>\n",
       "      <td>Some college/university study without earning ...</td>\n",
       "      <td>Other</td>\n",
       "      <td>5.0</td>\n",
       "      <td>137499.5</td>\n",
       "    </tr>\n",
       "    <tr>\n",
       "      <th>26127</th>\n",
       "      <td>37.0</td>\n",
       "      <td>Female</td>\n",
       "      <td>United States of America</td>\n",
       "      <td>Master’s degree</td>\n",
       "      <td>Data Analyst</td>\n",
       "      <td>2.0</td>\n",
       "      <td>84999.5</td>\n",
       "    </tr>\n",
       "    <tr>\n",
       "      <th>26131</th>\n",
       "      <td>57.0</td>\n",
       "      <td>Male</td>\n",
       "      <td>United States of America</td>\n",
       "      <td>Doctoral degree</td>\n",
       "      <td>Data Scientist</td>\n",
       "      <td>5.0</td>\n",
       "      <td>400000.0</td>\n",
       "    </tr>\n",
       "    <tr>\n",
       "      <th>26135</th>\n",
       "      <td>52.0</td>\n",
       "      <td>Female</td>\n",
       "      <td>United States of America</td>\n",
       "      <td>Master’s degree</td>\n",
       "      <td>Software Engineer</td>\n",
       "      <td>20.0</td>\n",
       "      <td>174999.5</td>\n",
       "    </tr>\n",
       "    <tr>\n",
       "      <th>26155</th>\n",
       "      <td>47.0</td>\n",
       "      <td>Male</td>\n",
       "      <td>United States of America</td>\n",
       "      <td>Bachelor’s degree</td>\n",
       "      <td>Software Engineer</td>\n",
       "      <td>20.0</td>\n",
       "      <td>174999.5</td>\n",
       "    </tr>\n",
       "  </tbody>\n",
       "</table>\n",
       "<p>4887 rows × 7 columns</p>\n",
       "</div>"
      ],
      "text/plain": [
       "        Age  Gender                   Country  \\\n",
       "5      23.0  Female  United States of America   \n",
       "8      32.0    Male  United States of America   \n",
       "9      52.0  Female  United States of America   \n",
       "12     37.0    Male  United States of America   \n",
       "19     32.0  Female  United States of America   \n",
       "...     ...     ...                       ...   \n",
       "26115  32.0    Male  United States of America   \n",
       "26127  37.0  Female  United States of America   \n",
       "26131  57.0    Male  United States of America   \n",
       "26135  52.0  Female  United States of America   \n",
       "26155  47.0    Male  United States of America   \n",
       "\n",
       "                                        Formal_Education  \\\n",
       "5                                      Bachelor’s degree   \n",
       "8                                        Master’s degree   \n",
       "9                                        Master’s degree   \n",
       "12                                     Bachelor’s degree   \n",
       "19                                       Master’s degree   \n",
       "...                                                  ...   \n",
       "26115  Some college/university study without earning ...   \n",
       "26127                                    Master’s degree   \n",
       "26131                                    Doctoral degree   \n",
       "26135                                    Master’s degree   \n",
       "26155                                  Bachelor’s degree   \n",
       "\n",
       "                      Position  Years_Coding    Salary  \n",
       "5               Data Scientist           5.0   84999.5  \n",
       "8      Product/Project Manager           5.0   94999.5  \n",
       "9                 Data Analyst          20.0  137499.5  \n",
       "12                       Other          10.0  137499.5  \n",
       "19          Research Scientist          10.0  174999.5  \n",
       "...                        ...           ...       ...  \n",
       "26115                    Other           5.0  137499.5  \n",
       "26127             Data Analyst           2.0   84999.5  \n",
       "26131           Data Scientist           5.0  400000.0  \n",
       "26135        Software Engineer          20.0  174999.5  \n",
       "26155        Software Engineer          20.0  174999.5  \n",
       "\n",
       "[4887 rows x 7 columns]"
      ]
     },
     "execution_count": 63,
     "metadata": {},
     "output_type": "execute_result"
    }
   ],
   "source": [
    "# Using on US data \n",
    "US_df = df[df['Country'] == 'United States of America']\n",
    "US_df"
   ]
  },
  {
   "cell_type": "code",
   "execution_count": 64,
   "metadata": {},
   "outputs": [
    {
     "data": {
      "text/plain": [
       "array(['Bachelor’s degree', 'Master’s degree', 'Doctoral degree',\n",
       "       'I prefer not to answer', 'Professional degree',\n",
       "       'Some college/university study without earning a bachelor’s degree',\n",
       "       'No formal education past high school'], dtype=object)"
      ]
     },
     "execution_count": 64,
     "metadata": {},
     "output_type": "execute_result"
    }
   ],
   "source": [
    "US_df['Formal_Education'].unique()"
   ]
  },
  {
   "cell_type": "code",
   "execution_count": 65,
   "metadata": {},
   "outputs": [],
   "source": [
    "comma = []\n",
    "for x in US_df['Formal_Education']:\n",
    "    comma.append(x.replace('’',''))\n",
    "US_df['Formal_Education'] = comma\n",
    "\n",
    "idk = []\n",
    "for x in US_df['Formal_Education']:\n",
    "    idk.append(x.replace('I prefer not to answer','0'))\n",
    "US_df['Formal_Education'] = idk\n",
    "\n",
    "no_education = []\n",
    "for x in US_df['Formal_Education']:\n",
    "    no_education.append(x.replace('No formal education past high school','1'))\n",
    "US_df['Formal_Education'] = no_education\n",
    "\n",
    "some = []\n",
    "for x in US_df['Formal_Education']:\n",
    "    some.append(x.replace('Some college/university study without earning a bachelors degree','2'))\n",
    "US_df['Formal_Education'] = some\n",
    "\n",
    "PD = []\n",
    "for x in US_df['Formal_Education']:\n",
    "    PD.append(x.replace('Professional degree','3'))\n",
    "US_df['Formal_Education'] = PD\n",
    "\n",
    "BD = []\n",
    "for x in US_df['Formal_Education']:\n",
    "    BD.append(x.replace('Bachelors degree','4'))\n",
    "US_df['Formal_Education'] = BD\n",
    "\n",
    "MD = []\n",
    "for x in US_df['Formal_Education']:\n",
    "    MD.append(x.replace('Masters degree','5'))\n",
    "US_df['Formal_Education'] = MD\n",
    "\n",
    "DD = []\n",
    "for x in US_df['Formal_Education']:\n",
    "    DD.append(x.replace('Doctoral degree','6'))\n",
    "US_df['Formal_Education'] = DD"
   ]
  },
  {
   "cell_type": "code",
   "execution_count": 66,
   "metadata": {},
   "outputs": [
    {
     "data": {
      "text/plain": [
       "5        4\n",
       "8        5\n",
       "9        5\n",
       "12       4\n",
       "19       5\n",
       "        ..\n",
       "26115    2\n",
       "26127    5\n",
       "26131    6\n",
       "26135    5\n",
       "26155    4\n",
       "Name: Formal_Education, Length: 4887, dtype: object"
      ]
     },
     "execution_count": 66,
     "metadata": {},
     "output_type": "execute_result"
    }
   ],
   "source": [
    "US_df['Formal_Education']"
   ]
  },
  {
   "cell_type": "code",
   "execution_count": 67,
   "metadata": {},
   "outputs": [],
   "source": [
    "US_df['Formal_Education'] = pd.to_numeric(US_df['Formal_Education'], errors = 'coerce')"
   ]
  },
  {
   "cell_type": "code",
   "execution_count": 68,
   "metadata": {},
   "outputs": [
    {
     "data": {
      "text/plain": [
       "dtype('int64')"
      ]
     },
     "execution_count": 68,
     "metadata": {},
     "output_type": "execute_result"
    }
   ],
   "source": [
    "US_df['Formal_Education'].dtypes"
   ]
  },
  {
   "cell_type": "code",
   "execution_count": 69,
   "metadata": {},
   "outputs": [],
   "source": [
    "# Women data of US\n",
    "Women_df = US_df[US_df['Gender'] == 'Female']"
   ]
  },
  {
   "cell_type": "code",
   "execution_count": 70,
   "metadata": {},
   "outputs": [],
   "source": [
    "# Men data of US\n",
    "Men_df = US_df[US_df['Gender'] == 'Male']"
   ]
  },
  {
   "cell_type": "code",
   "execution_count": 71,
   "metadata": {},
   "outputs": [
    {
     "data": {
      "image/png": "[encoded data removed]",
      "text/plain": [
       "<Figure size 432x288 with 1 Axes>"
      ]
     },
     "metadata": {
      "needs_background": "light"
     },
     "output_type": "display_data"
    }
   ],
   "source": [
    "plt.scatter(Women_df.Formal_Education, Women_df.Salary)\n",
    "plt.xlabel('Education')\n",
    "plt.ylabel('Salary in USD')\n",
    "plt.title('Women: Salary vs Education')\n",
    "plt.show()"
   ]
  },
  {
   "cell_type": "markdown",
   "metadata": {},
   "source": [
    "0 = I prefer not to answer, 1 = No formal education past high school, 2 = Some college/university study without earning a bachelor’s degree, 3 = Professional degree, 4 = Bachelor’s degree, 5 = Master’s degree, 6 = Doctoral degree"
   ]
  },
  {
   "cell_type": "code",
   "execution_count": 72,
   "metadata": {},
   "outputs": [
    {
     "data": {
      "image/png": "[encoded data removed]",
      "text/plain": [
       "<Figure size 432x288 with 1 Axes>"
      ]
     },
     "metadata": {
      "needs_background": "light"
     },
     "output_type": "display_data"
    }
   ],
   "source": [
    "plt.scatter(Men_df.Formal_Education, Men_df.Salary)\n",
    "plt.xlabel('Education')\n",
    "plt.ylabel('Salary in USD')\n",
    "plt.title('Men: Salary vs Education')\n",
    "plt.show()"
   ]
  },
  {
   "cell_type": "code",
   "execution_count": 73,
   "metadata": {},
   "outputs": [],
   "source": [
    "Women_X = Women_df['Formal_Education']\n",
    "Men_X = Men_df['Formal_Education']"
   ]
  },
  {
   "cell_type": "code",
   "execution_count": 74,
   "metadata": {},
   "outputs": [],
   "source": [
    "Women_X = Women_df.Formal_Education.values.reshape(-1, 1)\n",
    "Men_X = Men_df.Formal_Education.values.reshape(-1, 1)"
   ]
  },
  {
   "cell_type": "code",
   "execution_count": 75,
   "metadata": {},
   "outputs": [],
   "source": [
    "Women_y = Women_df.Salary\n",
    "Men_y = Men_df.Salary"
   ]
  },
  {
   "cell_type": "code",
   "execution_count": 76,
   "metadata": {},
   "outputs": [],
   "source": [
    "from sklearn.linear_model import LinearRegression\n",
    "Women_model = LinearRegression()\n",
    "Men_model = LinearRegression()"
   ]
  },
  {
   "cell_type": "code",
   "execution_count": 77,
   "metadata": {},
   "outputs": [
    {
     "data": {
      "text/plain": [
       "LinearRegression()"
      ]
     },
     "execution_count": 77,
     "metadata": {},
     "output_type": "execute_result"
    }
   ],
   "source": [
    "Women_model.fit(Women_X, Women_y)"
   ]
  },
  {
   "cell_type": "code",
   "execution_count": 78,
   "metadata": {},
   "outputs": [
    {
     "data": {
      "text/plain": [
       "LinearRegression()"
      ]
     },
     "execution_count": 78,
     "metadata": {},
     "output_type": "execute_result"
    }
   ],
   "source": [
    "Men_model.fit(Men_X, Men_y)"
   ]
  },
  {
   "cell_type": "code",
   "execution_count": 79,
   "metadata": {},
   "outputs": [
    {
     "name": "stdout",
     "output_type": "stream",
     "text": [
      "(885,)\n"
     ]
    }
   ],
   "source": [
    "Women_y_pred = Women_model.predict(Women_X)\n",
    "print(Women_y_pred.shape)"
   ]
  },
  {
   "cell_type": "code",
   "execution_count": 80,
   "metadata": {},
   "outputs": [
    {
     "name": "stdout",
     "output_type": "stream",
     "text": [
      "(3903,)\n"
     ]
    }
   ],
   "source": [
    "Men_y_pred = Men_model.predict(Men_X)\n",
    "print(Men_y_pred.shape)"
   ]
  },
  {
   "cell_type": "code",
   "execution_count": 81,
   "metadata": {},
   "outputs": [
    {
     "data": {
      "image/png": "[encoded data removed]",
      "text/plain": [
       "<Figure size 432x288 with 1 Axes>"
      ]
     },
     "metadata": {
      "needs_background": "light"
     },
     "output_type": "display_data"
    }
   ],
   "source": [
    "plt.scatter(Women_X, Women_y)\n",
    "plt.plot(Women_X, Women_y_pred, color='red')\n",
    "plt.xlabel('Education')\n",
    "plt.ylabel('Salary in USD')\n",
    "plt.title('Women: Salary vs Education')\n",
    "plt.show()"
   ]
  },
  {
   "cell_type": "code",
   "execution_count": 82,
   "metadata": {},
   "outputs": [
    {
     "data": {
      "image/png": "[encoded data removed]",
      "text/plain": [
       "<Figure size 432x288 with 1 Axes>"
      ]
     },
     "metadata": {
      "needs_background": "light"
     },
     "output_type": "display_data"
    }
   ],
   "source": [
    "plt.scatter(Men_X, Men_y)\n",
    "plt.plot(Men_X, Men_y_pred, color='red')\n",
    "plt.xlabel('Education')\n",
    "plt.ylabel('Salary in USD')\n",
    "plt.title('Men: Salary vs Education')\n",
    "plt.show()"
   ]
  },
  {
   "cell_type": "code",
   "execution_count": 83,
   "metadata": {},
   "outputs": [
    {
     "name": "stdout",
     "output_type": "stream",
     "text": [
      "[14895.62758145]\n",
      "35160.81416349055\n"
     ]
    }
   ],
   "source": [
    "print(Women_model.coef_)\n",
    "print(Women_model.intercept_)"
   ]
  },
  {
   "cell_type": "code",
   "execution_count": 84,
   "metadata": {},
   "outputs": [
    {
     "name": "stdout",
     "output_type": "stream",
     "text": [
      "[6749.67429451]\n",
      "99772.47478803113\n"
     ]
    }
   ],
   "source": [
    "print(Men_model.coef_)\n",
    "print(Men_model.intercept_)"
   ]
  },
  {
   "cell_type": "code",
   "execution_count": 85,
   "metadata": {},
   "outputs": [
    {
     "name": "stdout",
     "output_type": "stream",
     "text": [
      "0.03930021772367798 0.038212222500262016\n"
     ]
    }
   ],
   "source": [
    "# compute with statsmodels, by adding intercept manually\n",
    "import statsmodels.api as sm\n",
    "Women_X1 = sm.add_constant(Women_X)\n",
    "result = sm.OLS(Women_y, Women_X1).fit()\n",
    "#print dir(result)\n",
    "print(result.rsquared, result.rsquared_adj)"
   ]
  },
  {
   "cell_type": "code",
   "execution_count": 86,
   "metadata": {},
   "outputs": [
    {
     "name": "stdout",
     "output_type": "stream",
     "text": [
      "0.008440846472858587 0.008186665710611218\n"
     ]
    }
   ],
   "source": [
    "# compute with statsmodels, by adding intercept manually\n",
    "import statsmodels.api as sm\n",
    "Men_X1 = sm.add_constant(Men_X)\n",
    "result = sm.OLS(Men_y, Men_X1).fit()\n",
    "#print dir(result)\n",
    "print(result.rsquared, result.rsquared_adj)"
   ]
  },
  {
   "cell_type": "code",
   "execution_count": null,
   "metadata": {},
   "outputs": [],
   "source": []
  }
 ],
 "metadata": {
  "kernelspec": {
   "display_name": "Python 3",
   "language": "python",
   "name": "python3"
  },
  "language_info": {
   "codemirror_mode": {
    "name": "ipython",
    "version": 3
   },
   "file_extension": ".py",
   "mimetype": "text/x-python",
   "name": "python",
   "nbconvert_exporter": "python",
   "pygments_lexer": "ipython3",
   "version": "3.7.9"
  }
 },
 "nbformat": 4,
 "nbformat_minor": 4
}
