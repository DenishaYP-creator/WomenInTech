{
 "cells": [
  {
   "cell_type": "code",
   "execution_count": 1,
   "metadata": {},
   "outputs": [],
   "source": [
    "import warnings\n",
    "warnings.filterwarnings('ignore')\n",
    "import pandas as pd\n",
    "import numpy as np\n",
    "import seaborn as sns \n",
    "import matplotlib.pyplot as plt"
   ]
  },
  {
   "cell_type": "code",
   "execution_count": 4,
   "metadata": {},
   "outputs": [
    {
     "data": {
      "text/html": [
       "<div>\n",
       "<style scoped>\n",
       "    .dataframe tbody tr th:only-of-type {\n",
       "        vertical-align: middle;\n",
       "    }\n",
       "\n",
       "    .dataframe tbody tr th {\n",
       "        vertical-align: top;\n",
       "    }\n",
       "\n",
       "    .dataframe thead th {\n",
       "        text-align: right;\n",
       "    }\n",
       "</style>\n",
       "<table border=\"1\" class=\"dataframe\">\n",
       "  <thead>\n",
       "    <tr style=\"text-align: right;\">\n",
       "      <th></th>\n",
       "      <th>Formal_Education</th>\n",
       "      <th>Position</th>\n",
       "      <th>Years_Coding</th>\n",
       "      <th>Salary</th>\n",
       "      <th>Age</th>\n",
       "    </tr>\n",
       "  </thead>\n",
       "  <tbody>\n",
       "    <tr>\n",
       "      <th>0</th>\n",
       "      <td>3.839506</td>\n",
       "      <td>3.814815</td>\n",
       "      <td>3.197531</td>\n",
       "      <td>22663.080247</td>\n",
       "      <td>19.5</td>\n",
       "    </tr>\n",
       "    <tr>\n",
       "      <th>1</th>\n",
       "      <td>4.387805</td>\n",
       "      <td>3.407317</td>\n",
       "      <td>3.409756</td>\n",
       "      <td>21676.941463</td>\n",
       "      <td>23.0</td>\n",
       "    </tr>\n",
       "    <tr>\n",
       "      <th>2</th>\n",
       "      <td>4.751055</td>\n",
       "      <td>2.976793</td>\n",
       "      <td>4.496835</td>\n",
       "      <td>41599.448312</td>\n",
       "      <td>27.0</td>\n",
       "    </tr>\n",
       "    <tr>\n",
       "      <th>3</th>\n",
       "      <td>4.998721</td>\n",
       "      <td>2.561381</td>\n",
       "      <td>6.695652</td>\n",
       "      <td>53419.576726</td>\n",
       "      <td>32.0</td>\n",
       "    </tr>\n",
       "    <tr>\n",
       "      <th>4</th>\n",
       "      <td>5.038697</td>\n",
       "      <td>3.028513</td>\n",
       "      <td>8.930754</td>\n",
       "      <td>62256.127291</td>\n",
       "      <td>37.0</td>\n",
       "    </tr>\n",
       "    <tr>\n",
       "      <th>5</th>\n",
       "      <td>5.054131</td>\n",
       "      <td>2.954416</td>\n",
       "      <td>9.760684</td>\n",
       "      <td>64228.849003</td>\n",
       "      <td>42.0</td>\n",
       "    </tr>\n",
       "    <tr>\n",
       "      <th>6</th>\n",
       "      <td>4.497585</td>\n",
       "      <td>3.072464</td>\n",
       "      <td>10.748792</td>\n",
       "      <td>69869.065217</td>\n",
       "      <td>47.0</td>\n",
       "    </tr>\n",
       "    <tr>\n",
       "      <th>7</th>\n",
       "      <td>5.088235</td>\n",
       "      <td>3.227941</td>\n",
       "      <td>10.970588</td>\n",
       "      <td>62942.514706</td>\n",
       "      <td>52.0</td>\n",
       "    </tr>\n",
       "    <tr>\n",
       "      <th>8</th>\n",
       "      <td>4.875000</td>\n",
       "      <td>2.812500</td>\n",
       "      <td>10.781250</td>\n",
       "      <td>99460.437500</td>\n",
       "      <td>57.0</td>\n",
       "    </tr>\n",
       "    <tr>\n",
       "      <th>9</th>\n",
       "      <td>5.186047</td>\n",
       "      <td>3.418605</td>\n",
       "      <td>12.255814</td>\n",
       "      <td>101720.453488</td>\n",
       "      <td>64.5</td>\n",
       "    </tr>\n",
       "  </tbody>\n",
       "</table>\n",
       "</div>"
      ],
      "text/plain": [
       "   Formal_Education  Position  Years_Coding         Salary   Age\n",
       "0          3.839506  3.814815      3.197531   22663.080247  19.5\n",
       "1          4.387805  3.407317      3.409756   21676.941463  23.0\n",
       "2          4.751055  2.976793      4.496835   41599.448312  27.0\n",
       "3          4.998721  2.561381      6.695652   53419.576726  32.0\n",
       "4          5.038697  3.028513      8.930754   62256.127291  37.0\n",
       "5          5.054131  2.954416      9.760684   64228.849003  42.0\n",
       "6          4.497585  3.072464     10.748792   69869.065217  47.0\n",
       "7          5.088235  3.227941     10.970588   62942.514706  52.0\n",
       "8          4.875000  2.812500     10.781250   99460.437500  57.0\n",
       "9          5.186047  3.418605     12.255814  101720.453488  64.5"
      ]
     },
     "execution_count": 4,
     "metadata": {},
     "output_type": "execute_result"
    }
   ],
   "source": [
    "#Import Women Means Data\n",
    "Women_df = pd.read_csv('Women_Means_Dataset.csv')\n",
    "Women_df"
   ]
  },
  {
   "cell_type": "code",
   "execution_count": 5,
   "metadata": {},
   "outputs": [
    {
     "data": {
      "text/html": [
       "<div>\n",
       "<style scoped>\n",
       "    .dataframe tbody tr th:only-of-type {\n",
       "        vertical-align: middle;\n",
       "    }\n",
       "\n",
       "    .dataframe tbody tr th {\n",
       "        vertical-align: top;\n",
       "    }\n",
       "\n",
       "    .dataframe thead th {\n",
       "        text-align: right;\n",
       "    }\n",
       "</style>\n",
       "<table border=\"1\" class=\"dataframe\">\n",
       "  <thead>\n",
       "    <tr style=\"text-align: right;\">\n",
       "      <th></th>\n",
       "      <th>Formal_Education</th>\n",
       "      <th>Position</th>\n",
       "      <th>Years_Coding</th>\n",
       "      <th>Salary</th>\n",
       "      <th>Age</th>\n",
       "    </tr>\n",
       "  </thead>\n",
       "  <tbody>\n",
       "    <tr>\n",
       "      <th>0</th>\n",
       "      <td>3.950119</td>\n",
       "      <td>3.505938</td>\n",
       "      <td>3.356295</td>\n",
       "      <td>26373.016627</td>\n",
       "      <td>19.5</td>\n",
       "    </tr>\n",
       "    <tr>\n",
       "      <th>1</th>\n",
       "      <td>4.358566</td>\n",
       "      <td>3.530323</td>\n",
       "      <td>3.474989</td>\n",
       "      <td>24580.509739</td>\n",
       "      <td>23.0</td>\n",
       "    </tr>\n",
       "    <tr>\n",
       "      <th>2</th>\n",
       "      <td>4.624508</td>\n",
       "      <td>3.170928</td>\n",
       "      <td>4.844807</td>\n",
       "      <td>38902.087628</td>\n",
       "      <td>27.0</td>\n",
       "    </tr>\n",
       "    <tr>\n",
       "      <th>3</th>\n",
       "      <td>4.754254</td>\n",
       "      <td>3.093474</td>\n",
       "      <td>7.292053</td>\n",
       "      <td>57561.585397</td>\n",
       "      <td>32.0</td>\n",
       "    </tr>\n",
       "    <tr>\n",
       "      <th>4</th>\n",
       "      <td>4.811253</td>\n",
       "      <td>3.076213</td>\n",
       "      <td>9.466806</td>\n",
       "      <td>67868.586186</td>\n",
       "      <td>37.0</td>\n",
       "    </tr>\n",
       "    <tr>\n",
       "      <th>5</th>\n",
       "      <td>4.754266</td>\n",
       "      <td>3.336177</td>\n",
       "      <td>10.841297</td>\n",
       "      <td>76011.878200</td>\n",
       "      <td>42.0</td>\n",
       "    </tr>\n",
       "    <tr>\n",
       "      <th>6</th>\n",
       "      <td>4.586930</td>\n",
       "      <td>3.593711</td>\n",
       "      <td>11.158446</td>\n",
       "      <td>78144.234279</td>\n",
       "      <td>47.0</td>\n",
       "    </tr>\n",
       "    <tr>\n",
       "      <th>7</th>\n",
       "      <td>4.728092</td>\n",
       "      <td>3.459459</td>\n",
       "      <td>12.529894</td>\n",
       "      <td>87293.935708</td>\n",
       "      <td>52.0</td>\n",
       "    </tr>\n",
       "    <tr>\n",
       "      <th>8</th>\n",
       "      <td>4.751445</td>\n",
       "      <td>3.527457</td>\n",
       "      <td>13.036127</td>\n",
       "      <td>97674.731936</td>\n",
       "      <td>57.0</td>\n",
       "    </tr>\n",
       "    <tr>\n",
       "      <th>9</th>\n",
       "      <td>4.756933</td>\n",
       "      <td>3.812398</td>\n",
       "      <td>13.765090</td>\n",
       "      <td>95371.452692</td>\n",
       "      <td>64.5</td>\n",
       "    </tr>\n",
       "  </tbody>\n",
       "</table>\n",
       "</div>"
      ],
      "text/plain": [
       "   Formal_Education  Position  Years_Coding        Salary   Age\n",
       "0          3.950119  3.505938      3.356295  26373.016627  19.5\n",
       "1          4.358566  3.530323      3.474989  24580.509739  23.0\n",
       "2          4.624508  3.170928      4.844807  38902.087628  27.0\n",
       "3          4.754254  3.093474      7.292053  57561.585397  32.0\n",
       "4          4.811253  3.076213      9.466806  67868.586186  37.0\n",
       "5          4.754266  3.336177     10.841297  76011.878200  42.0\n",
       "6          4.586930  3.593711     11.158446  78144.234279  47.0\n",
       "7          4.728092  3.459459     12.529894  87293.935708  52.0\n",
       "8          4.751445  3.527457     13.036127  97674.731936  57.0\n",
       "9          4.756933  3.812398     13.765090  95371.452692  64.5"
      ]
     },
     "execution_count": 5,
     "metadata": {},
     "output_type": "execute_result"
    }
   ],
   "source": [
    "#Import Men Means Data\n",
    "Men_df = pd.read_csv('Men_Means_Dataset.csv')\n",
    "Men_df"
   ]
  },
  {
   "cell_type": "code",
   "execution_count": 6,
   "metadata": {},
   "outputs": [
    {
     "data": {
      "image/png": "[encoded data removed]",
      "text/plain": [
       "<Figure size 432x288 with 1 Axes>"
      ]
     },
     "metadata": {
      "needs_background": "light"
     },
     "output_type": "display_data"
    }
   ],
   "source": [
    "plt.scatter(Women_df.Formal_Education, Women_df.Salary)\n",
    "plt.xlabel('Education')\n",
    "plt.ylabel('Salary in USD')\n",
    "plt.title('Women: Salary vs Education')\n",
    "plt.show()"
   ]
  },
  {
   "cell_type": "code",
   "execution_count": 7,
   "metadata": {},
   "outputs": [
    {
     "data": {
      "image/png": "[encoded data removed]",
      "text/plain": [
       "<Figure size 432x288 with 1 Axes>"
      ]
     },
     "metadata": {
      "needs_background": "light"
     },
     "output_type": "display_data"
    }
   ],
   "source": [
    "plt.scatter(Men_df.Formal_Education, Men_df.Salary)\n",
    "plt.xlabel('Education')\n",
    "plt.ylabel('Salary in USD')\n",
    "plt.title('Men: Salary vs Education')\n",
    "plt.show()"
   ]
  },
  {
   "cell_type": "code",
   "execution_count": 8,
   "metadata": {},
   "outputs": [],
   "source": [
    "Women_X = Women_df['Formal_Education']\n",
    "Men_X = Men_df['Formal_Education']"
   ]
  },
  {
   "cell_type": "code",
   "execution_count": 10,
   "metadata": {},
   "outputs": [],
   "source": [
    "Women_X = Women_df.Formal_Education.values.reshape(-1, 1)\n",
    "Men_X = Men_df.Formal_Education.values.reshape(-1, 1)"
   ]
  },
  {
   "cell_type": "code",
   "execution_count": 11,
   "metadata": {},
   "outputs": [],
   "source": [
    "Women_y = Women_df.Salary\n",
    "Men_y = Men_df.Salary"
   ]
  },
  {
   "cell_type": "code",
   "execution_count": 12,
   "metadata": {},
   "outputs": [],
   "source": [
    "from sklearn.linear_model import LinearRegression\n",
    "Women_model = LinearRegression()\n",
    "Men_model = LinearRegression()"
   ]
  },
  {
   "cell_type": "code",
   "execution_count": 13,
   "metadata": {},
   "outputs": [
    {
     "data": {
      "text/plain": [
       "LinearRegression()"
      ]
     },
     "execution_count": 13,
     "metadata": {},
     "output_type": "execute_result"
    }
   ],
   "source": [
    "Women_model.fit(Women_X, Women_y)"
   ]
  },
  {
   "cell_type": "code",
   "execution_count": 14,
   "metadata": {},
   "outputs": [
    {
     "data": {
      "text/plain": [
       "LinearRegression()"
      ]
     },
     "execution_count": 14,
     "metadata": {},
     "output_type": "execute_result"
    }
   ],
   "source": [
    "Men_model.fit(Men_X, Men_y)"
   ]
  },
  {
   "cell_type": "code",
   "execution_count": 15,
   "metadata": {},
   "outputs": [
    {
     "name": "stdout",
     "output_type": "stream",
     "text": [
      "(10,)\n"
     ]
    }
   ],
   "source": [
    "Women_y_pred = Women_model.predict(Women_X)\n",
    "print(Women_y_pred.shape)"
   ]
  },
  {
   "cell_type": "code",
   "execution_count": 16,
   "metadata": {},
   "outputs": [
    {
     "name": "stdout",
     "output_type": "stream",
     "text": [
      "(10,)\n"
     ]
    }
   ],
   "source": [
    "Men_y_pred = Men_model.predict(Men_X)\n",
    "print(Men_y_pred.shape)"
   ]
  },
  {
   "cell_type": "code",
   "execution_count": 17,
   "metadata": {},
   "outputs": [
    {
     "data": {
      "image/png": "[encoded data removed]",
      "text/plain": [
       "<Figure size 432x288 with 1 Axes>"
      ]
     },
     "metadata": {
      "needs_background": "light"
     },
     "output_type": "display_data"
    }
   ],
   "source": [
    "plt.scatter(Women_X, Women_y)\n",
    "plt.plot(Women_X, Women_y_pred, color='red')\n",
    "plt.xlabel('Education')\n",
    "plt.ylabel('Salary in USD')\n",
    "plt.title('Women: Salary vs Education')\n",
    "plt.show()"
   ]
  },
  {
   "cell_type": "code",
   "execution_count": 18,
   "metadata": {},
   "outputs": [
    {
     "data": {
      "image/png": "[encoded data removed]",
      "text/plain": [
       "<Figure size 432x288 with 1 Axes>"
      ]
     },
     "metadata": {
      "needs_background": "light"
     },
     "output_type": "display_data"
    }
   ],
   "source": [
    "plt.scatter(Men_X, Men_y)\n",
    "plt.plot(Men_X, Men_y_pred, color='red')\n",
    "plt.xlabel('Education')\n",
    "plt.ylabel('Salary in USD')\n",
    "plt.title('Men: Salary vs Education')\n",
    "plt.show()"
   ]
  },
  {
   "cell_type": "code",
   "execution_count": 19,
   "metadata": {},
   "outputs": [
    {
     "name": "stdout",
     "output_type": "stream",
     "text": [
      "[44252.46019535]\n",
      "-151174.8460971468\n"
     ]
    }
   ],
   "source": [
    "print(Women_model.coef_)\n",
    "print(Women_model.intercept_)"
   ]
  },
  {
   "cell_type": "code",
   "execution_count": 20,
   "metadata": {},
   "outputs": [
    {
     "name": "stdout",
     "output_type": "stream",
     "text": [
      "[75005.34870266]\n",
      "-280619.1856853553\n"
     ]
    }
   ],
   "source": [
    "print(Men_model.coef_)\n",
    "print(Men_model.intercept_)"
   ]
  },
  {
   "cell_type": "code",
   "execution_count": 21,
   "metadata": {},
   "outputs": [
    {
     "name": "stdout",
     "output_type": "stream",
     "text": [
      "0.4629270066397063 0.3957928824696696\n"
     ]
    }
   ],
   "source": [
    "# compute with statsmodels, by adding intercept manually\n",
    "import statsmodels.api as sm\n",
    "Women_X1 = sm.add_constant(Women_X)\n",
    "result = sm.OLS(Women_y, Women_X1).fit()\n",
    "#print dir(result)\n",
    "print(result.rsquared, result.rsquared_adj)"
   ]
  },
  {
   "cell_type": "code",
   "execution_count": 22,
   "metadata": {},
   "outputs": [
    {
     "name": "stdout",
     "output_type": "stream",
     "text": [
      "0.5387804858555982 0.48112804658754804\n"
     ]
    }
   ],
   "source": [
    "# compute with statsmodels, by adding intercept manually\n",
    "import statsmodels.api as sm\n",
    "Men_X1 = sm.add_constant(Men_X)\n",
    "result = sm.OLS(Men_y, Men_X1).fit()\n",
    "#print dir(result)\n",
    "print(result.rsquared, result.rsquared_adj)"
   ]
  },
  {
   "cell_type": "code",
   "execution_count": null,
   "metadata": {},
   "outputs": [],
   "source": []
  }
 ],
 "metadata": {
  "kernelspec": {
   "display_name": "Python 3",
   "language": "python",
   "name": "python3"
  },
  "language_info": {
   "codemirror_mode": {
    "name": "ipython",
    "version": 3
   },
   "file_extension": ".py",
   "mimetype": "text/x-python",
   "name": "python",
   "nbconvert_exporter": "python",
   "pygments_lexer": "ipython3",
   "version": "3.7.9"
  }
 },
 "nbformat": 4,
 "nbformat_minor": 4
}
