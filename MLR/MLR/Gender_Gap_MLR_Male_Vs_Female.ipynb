{
 "cells": [
  {
   "cell_type": "code",
   "execution_count": 15,
   "metadata": {},
   "outputs": [],
   "source": [
    "import warnings\n",
    "warnings.filterwarnings('ignore')\n",
    "import pandas as pd\n",
    "import numpy as np\n",
    "import seaborn as sns \n",
    "import matplotlib.pyplot as plt"
   ]
  },
  {
   "cell_type": "code",
   "execution_count": 16,
   "metadata": {},
   "outputs": [
    {
     "data": {
      "text/html": [
       "<div>\n",
       "<style scoped>\n",
       "    .dataframe tbody tr th:only-of-type {\n",
       "        vertical-align: middle;\n",
       "    }\n",
       "\n",
       "    .dataframe tbody tr th {\n",
       "        vertical-align: top;\n",
       "    }\n",
       "\n",
       "    .dataframe thead th {\n",
       "        text-align: right;\n",
       "    }\n",
       "</style>\n",
       "<table border=\"1\" class=\"dataframe\">\n",
       "  <thead>\n",
       "    <tr style=\"text-align: right;\">\n",
       "      <th></th>\n",
       "      <th>Age</th>\n",
       "      <th>Gender</th>\n",
       "      <th>Country</th>\n",
       "      <th>Formal_Education</th>\n",
       "      <th>Position</th>\n",
       "      <th>Years_Coding</th>\n",
       "      <th>Salary</th>\n",
       "    </tr>\n",
       "  </thead>\n",
       "  <tbody>\n",
       "    <tr>\n",
       "      <th>0</th>\n",
       "      <td>23.0</td>\n",
       "      <td>Male</td>\n",
       "      <td>France</td>\n",
       "      <td>Master’s degree</td>\n",
       "      <td>Software Engineer</td>\n",
       "      <td>2.0</td>\n",
       "      <td>34999.5</td>\n",
       "    </tr>\n",
       "    <tr>\n",
       "      <th>1</th>\n",
       "      <td>42.0</td>\n",
       "      <td>Male</td>\n",
       "      <td>India</td>\n",
       "      <td>Professional degree</td>\n",
       "      <td>Software Engineer</td>\n",
       "      <td>0.0</td>\n",
       "      <td>6249.5</td>\n",
       "    </tr>\n",
       "    <tr>\n",
       "      <th>2</th>\n",
       "      <td>42.0</td>\n",
       "      <td>Male</td>\n",
       "      <td>Australia</td>\n",
       "      <td>Master’s degree</td>\n",
       "      <td>Other</td>\n",
       "      <td>2.0</td>\n",
       "      <td>274999.5</td>\n",
       "    </tr>\n",
       "    <tr>\n",
       "      <th>3</th>\n",
       "      <td>52.0</td>\n",
       "      <td>Male</td>\n",
       "      <td>France</td>\n",
       "      <td>Master’s degree</td>\n",
       "      <td>Data Scientist</td>\n",
       "      <td>20.0</td>\n",
       "      <td>64999.5</td>\n",
       "    </tr>\n",
       "    <tr>\n",
       "      <th>4</th>\n",
       "      <td>23.0</td>\n",
       "      <td>Male</td>\n",
       "      <td>India</td>\n",
       "      <td>Master’s degree</td>\n",
       "      <td>Data Scientist</td>\n",
       "      <td>5.0</td>\n",
       "      <td>12499.5</td>\n",
       "    </tr>\n",
       "  </tbody>\n",
       "</table>\n",
       "</div>"
      ],
      "text/plain": [
       "    Age Gender    Country     Formal_Education           Position  \\\n",
       "0  23.0   Male     France      Master’s degree  Software Engineer   \n",
       "1  42.0   Male      India  Professional degree  Software Engineer   \n",
       "2  42.0   Male  Australia      Master’s degree              Other   \n",
       "3  52.0   Male     France      Master’s degree     Data Scientist   \n",
       "4  23.0   Male      India      Master’s degree     Data Scientist   \n",
       "\n",
       "   Years_Coding    Salary  \n",
       "0           2.0   34999.5  \n",
       "1           0.0    6249.5  \n",
       "2           2.0  274999.5  \n",
       "3          20.0   64999.5  \n",
       "4           5.0   12499.5  "
      ]
     },
     "execution_count": 16,
     "metadata": {},
     "output_type": "execute_result"
    }
   ],
   "source": [
    "#Import Combined Cleaned Kaggle Data\n",
    "df = pd.read_csv('Cleaned_Combined_Kaggle_Data.csv')\n",
    "df.head()"
   ]
  },
  {
   "cell_type": "code",
   "execution_count": 17,
   "metadata": {},
   "outputs": [],
   "source": [
    "male = []\n",
    "for x in df['Gender']:\n",
    "    male.append(x.replace('Man','Male'))\n",
    "df['Gender'] = male"
   ]
  },
  {
   "cell_type": "code",
   "execution_count": 18,
   "metadata": {},
   "outputs": [],
   "source": [
    "female = []\n",
    "for x in df['Gender']:\n",
    "    female.append(x.replace('Woman','Female'))\n",
    "df['Gender'] = female"
   ]
  },
  {
   "cell_type": "code",
   "execution_count": 19,
   "metadata": {},
   "outputs": [],
   "source": [
    "Women_df = df[df['Gender'] == 'Female']"
   ]
  },
  {
   "cell_type": "code",
   "execution_count": 20,
   "metadata": {},
   "outputs": [],
   "source": [
    "Men_df = df[df['Gender'] == 'Male']"
   ]
  },
  {
   "cell_type": "code",
   "execution_count": 21,
   "metadata": {},
   "outputs": [],
   "source": [
    "count_women = len(Women_df)"
   ]
  },
  {
   "cell_type": "code",
   "execution_count": 22,
   "metadata": {},
   "outputs": [],
   "source": [
    "count_men = len(Men_df)"
   ]
  },
  {
   "cell_type": "code",
   "execution_count": 23,
   "metadata": {},
   "outputs": [
    {
     "data": {
      "text/plain": [
       "13.63160141244034"
      ]
     },
     "execution_count": 23,
     "metadata": {},
     "output_type": "execute_result"
    }
   ],
   "source": [
    "women_percentage = 100*(count_women/(count_women + count_men))\n",
    "women_percentage"
   ]
  },
  {
   "cell_type": "code",
   "execution_count": 24,
   "metadata": {},
   "outputs": [
    {
     "data": {
      "text/plain": [
       "86.36839858755965"
      ]
     },
     "execution_count": 24,
     "metadata": {},
     "output_type": "execute_result"
    }
   ],
   "source": [
    "men_percentage = 100 * (count_men/(count_men + count_women))\n",
    "men_percentage"
   ]
  },
  {
   "cell_type": "code",
   "execution_count": 25,
   "metadata": {},
   "outputs": [
    {
     "data": {
      "text/html": [
       "<div>\n",
       "<style scoped>\n",
       "    .dataframe tbody tr th:only-of-type {\n",
       "        vertical-align: middle;\n",
       "    }\n",
       "\n",
       "    .dataframe tbody tr th {\n",
       "        vertical-align: top;\n",
       "    }\n",
       "\n",
       "    .dataframe thead th {\n",
       "        text-align: right;\n",
       "    }\n",
       "</style>\n",
       "<table border=\"1\" class=\"dataframe\">\n",
       "  <thead>\n",
       "    <tr style=\"text-align: right;\">\n",
       "      <th></th>\n",
       "      <th>Age</th>\n",
       "      <th>Years_Coding</th>\n",
       "      <th>Salary</th>\n",
       "    </tr>\n",
       "  </thead>\n",
       "  <tbody>\n",
       "    <tr>\n",
       "      <th>count</th>\n",
       "      <td>3513.000000</td>\n",
       "      <td>3513.000000</td>\n",
       "      <td>3513.000000</td>\n",
       "    </tr>\n",
       "    <tr>\n",
       "      <th>mean</th>\n",
       "      <td>33.521492</td>\n",
       "      <td>6.803587</td>\n",
       "      <td>50899.018503</td>\n",
       "    </tr>\n",
       "    <tr>\n",
       "      <th>std</th>\n",
       "      <td>9.168174</td>\n",
       "      <td>6.370098</td>\n",
       "      <td>55966.193587</td>\n",
       "    </tr>\n",
       "    <tr>\n",
       "      <th>min</th>\n",
       "      <td>19.500000</td>\n",
       "      <td>0.000000</td>\n",
       "      <td>1499.500000</td>\n",
       "    </tr>\n",
       "    <tr>\n",
       "      <th>25%</th>\n",
       "      <td>27.000000</td>\n",
       "      <td>2.000000</td>\n",
       "      <td>8749.500000</td>\n",
       "    </tr>\n",
       "    <tr>\n",
       "      <th>50%</th>\n",
       "      <td>32.000000</td>\n",
       "      <td>5.000000</td>\n",
       "      <td>34999.500000</td>\n",
       "    </tr>\n",
       "    <tr>\n",
       "      <th>75%</th>\n",
       "      <td>37.000000</td>\n",
       "      <td>10.000000</td>\n",
       "      <td>74999.500000</td>\n",
       "    </tr>\n",
       "    <tr>\n",
       "      <th>max</th>\n",
       "      <td>64.500000</td>\n",
       "      <td>20.000000</td>\n",
       "      <td>400000.000000</td>\n",
       "    </tr>\n",
       "  </tbody>\n",
       "</table>\n",
       "</div>"
      ],
      "text/plain": [
       "               Age  Years_Coding         Salary\n",
       "count  3513.000000   3513.000000    3513.000000\n",
       "mean     33.521492      6.803587   50899.018503\n",
       "std       9.168174      6.370098   55966.193587\n",
       "min      19.500000      0.000000    1499.500000\n",
       "25%      27.000000      2.000000    8749.500000\n",
       "50%      32.000000      5.000000   34999.500000\n",
       "75%      37.000000     10.000000   74999.500000\n",
       "max      64.500000     20.000000  400000.000000"
      ]
     },
     "execution_count": 25,
     "metadata": {},
     "output_type": "execute_result"
    }
   ],
   "source": [
    "Women_df.shape\n",
    "Women_df.describe()"
   ]
  },
  {
   "cell_type": "code",
   "execution_count": 26,
   "metadata": {},
   "outputs": [
    {
     "data": {
      "text/html": [
       "<div>\n",
       "<style scoped>\n",
       "    .dataframe tbody tr th:only-of-type {\n",
       "        vertical-align: middle;\n",
       "    }\n",
       "\n",
       "    .dataframe tbody tr th {\n",
       "        vertical-align: top;\n",
       "    }\n",
       "\n",
       "    .dataframe thead th {\n",
       "        text-align: right;\n",
       "    }\n",
       "</style>\n",
       "<table border=\"1\" class=\"dataframe\">\n",
       "  <thead>\n",
       "    <tr style=\"text-align: right;\">\n",
       "      <th></th>\n",
       "      <th>Age</th>\n",
       "      <th>Years_Coding</th>\n",
       "      <th>Salary</th>\n",
       "    </tr>\n",
       "  </thead>\n",
       "  <tbody>\n",
       "    <tr>\n",
       "      <th>count</th>\n",
       "      <td>22258.000000</td>\n",
       "      <td>22258.000000</td>\n",
       "      <td>22258.000000</td>\n",
       "    </tr>\n",
       "    <tr>\n",
       "      <th>mean</th>\n",
       "      <td>35.378291</td>\n",
       "      <td>7.899137</td>\n",
       "      <td>58280.121664</td>\n",
       "    </tr>\n",
       "    <tr>\n",
       "      <th>std</th>\n",
       "      <td>10.326779</td>\n",
       "      <td>6.819394</td>\n",
       "      <td>61340.124287</td>\n",
       "    </tr>\n",
       "    <tr>\n",
       "      <th>min</th>\n",
       "      <td>19.500000</td>\n",
       "      <td>0.000000</td>\n",
       "      <td>1499.500000</td>\n",
       "    </tr>\n",
       "    <tr>\n",
       "      <th>25%</th>\n",
       "      <td>27.000000</td>\n",
       "      <td>2.000000</td>\n",
       "      <td>12499.500000</td>\n",
       "    </tr>\n",
       "    <tr>\n",
       "      <th>50%</th>\n",
       "      <td>32.000000</td>\n",
       "      <td>5.000000</td>\n",
       "      <td>44999.500000</td>\n",
       "    </tr>\n",
       "    <tr>\n",
       "      <th>75%</th>\n",
       "      <td>42.000000</td>\n",
       "      <td>10.000000</td>\n",
       "      <td>84999.500000</td>\n",
       "    </tr>\n",
       "    <tr>\n",
       "      <th>max</th>\n",
       "      <td>64.500000</td>\n",
       "      <td>20.000000</td>\n",
       "      <td>400000.000000</td>\n",
       "    </tr>\n",
       "  </tbody>\n",
       "</table>\n",
       "</div>"
      ],
      "text/plain": [
       "                Age  Years_Coding         Salary\n",
       "count  22258.000000  22258.000000   22258.000000\n",
       "mean      35.378291      7.899137   58280.121664\n",
       "std       10.326779      6.819394   61340.124287\n",
       "min       19.500000      0.000000    1499.500000\n",
       "25%       27.000000      2.000000   12499.500000\n",
       "50%       32.000000      5.000000   44999.500000\n",
       "75%       42.000000     10.000000   84999.500000\n",
       "max       64.500000     20.000000  400000.000000"
      ]
     },
     "execution_count": 26,
     "metadata": {},
     "output_type": "execute_result"
    }
   ],
   "source": [
    "Men_df.shape\n",
    "Men_df.describe()"
   ]
  },
  {
   "cell_type": "code",
   "execution_count": 27,
   "metadata": {},
   "outputs": [
    {
     "data": {
      "text/plain": [
       "<seaborn.axisgrid.PairGrid at 0x206fb5ab708>"
      ]
     },
     "execution_count": 27,
     "metadata": {},
     "output_type": "execute_result"
    },
    {
     "data": {
      "image/png": "[encoded data removed]",
      "text/plain": [
       "<Figure size 685.5x540 with 12 Axes>"
      ]
     },
     "metadata": {
      "needs_background": "light"
     },
     "output_type": "display_data"
    }
   ],
   "source": [
    "sns.pairplot(df,hue='Gender')"
   ]
  },
  {
   "cell_type": "markdown",
   "metadata": {},
   "source": [
    "From the graphs above, obviously more males than females. With more years of coding and age, comes a higher salary."
   ]
  },
  {
   "cell_type": "code",
   "execution_count": 28,
   "metadata": {},
   "outputs": [
    {
     "data": {
      "text/html": [
       "<div>\n",
       "<style scoped>\n",
       "    .dataframe tbody tr th:only-of-type {\n",
       "        vertical-align: middle;\n",
       "    }\n",
       "\n",
       "    .dataframe tbody tr th {\n",
       "        vertical-align: top;\n",
       "    }\n",
       "\n",
       "    .dataframe thead th {\n",
       "        text-align: right;\n",
       "    }\n",
       "</style>\n",
       "<table border=\"1\" class=\"dataframe\">\n",
       "  <thead>\n",
       "    <tr style=\"text-align: right;\">\n",
       "      <th></th>\n",
       "      <th>Age</th>\n",
       "      <th>Years_Coding</th>\n",
       "      <th>Salary</th>\n",
       "    </tr>\n",
       "  </thead>\n",
       "  <tbody>\n",
       "    <tr>\n",
       "      <th>Age</th>\n",
       "      <td>1.000000</td>\n",
       "      <td>0.391392</td>\n",
       "      <td>0.274994</td>\n",
       "    </tr>\n",
       "    <tr>\n",
       "      <th>Years_Coding</th>\n",
       "      <td>0.391392</td>\n",
       "      <td>1.000000</td>\n",
       "      <td>0.360625</td>\n",
       "    </tr>\n",
       "    <tr>\n",
       "      <th>Salary</th>\n",
       "      <td>0.274994</td>\n",
       "      <td>0.360625</td>\n",
       "      <td>1.000000</td>\n",
       "    </tr>\n",
       "  </tbody>\n",
       "</table>\n",
       "</div>"
      ],
      "text/plain": [
       "                   Age  Years_Coding    Salary\n",
       "Age           1.000000      0.391392  0.274994\n",
       "Years_Coding  0.391392      1.000000  0.360625\n",
       "Salary        0.274994      0.360625  1.000000"
      ]
     },
     "execution_count": 28,
     "metadata": {},
     "output_type": "execute_result"
    }
   ],
   "source": [
    "Women_df.corr()"
   ]
  },
  {
   "cell_type": "markdown",
   "metadata": {},
   "source": [
    "For women, Years cooding has a higher correlation in relation to salary vs Age"
   ]
  },
  {
   "cell_type": "code",
   "execution_count": 29,
   "metadata": {},
   "outputs": [
    {
     "data": {
      "text/html": [
       "<div>\n",
       "<style scoped>\n",
       "    .dataframe tbody tr th:only-of-type {\n",
       "        vertical-align: middle;\n",
       "    }\n",
       "\n",
       "    .dataframe tbody tr th {\n",
       "        vertical-align: top;\n",
       "    }\n",
       "\n",
       "    .dataframe thead th {\n",
       "        text-align: right;\n",
       "    }\n",
       "</style>\n",
       "<table border=\"1\" class=\"dataframe\">\n",
       "  <thead>\n",
       "    <tr style=\"text-align: right;\">\n",
       "      <th></th>\n",
       "      <th>Age</th>\n",
       "      <th>Years_Coding</th>\n",
       "      <th>Salary</th>\n",
       "    </tr>\n",
       "  </thead>\n",
       "  <tbody>\n",
       "    <tr>\n",
       "      <th>Age</th>\n",
       "      <td>1.000000</td>\n",
       "      <td>0.436971</td>\n",
       "      <td>0.321635</td>\n",
       "    </tr>\n",
       "    <tr>\n",
       "      <th>Years_Coding</th>\n",
       "      <td>0.436971</td>\n",
       "      <td>1.000000</td>\n",
       "      <td>0.358184</td>\n",
       "    </tr>\n",
       "    <tr>\n",
       "      <th>Salary</th>\n",
       "      <td>0.321635</td>\n",
       "      <td>0.358184</td>\n",
       "      <td>1.000000</td>\n",
       "    </tr>\n",
       "  </tbody>\n",
       "</table>\n",
       "</div>"
      ],
      "text/plain": [
       "                   Age  Years_Coding    Salary\n",
       "Age           1.000000      0.436971  0.321635\n",
       "Years_Coding  0.436971      1.000000  0.358184\n",
       "Salary        0.321635      0.358184  1.000000"
      ]
     },
     "execution_count": 29,
     "metadata": {},
     "output_type": "execute_result"
    }
   ],
   "source": [
    "Men_df.corr()"
   ]
  },
  {
   "cell_type": "markdown",
   "metadata": {},
   "source": [
    "For men, Years coding also has a higher correlation in relation to salary vs age"
   ]
  },
  {
   "cell_type": "code",
   "execution_count": 30,
   "metadata": {},
   "outputs": [
    {
     "data": {
      "text/plain": [
       "<AxesSubplot:xlabel='Years_Coding', ylabel='Age'>"
      ]
     },
     "execution_count": 30,
     "metadata": {},
     "output_type": "execute_result"
    },
    {
     "data": {
      "image/png": "[encoded data removed]",
      "text/plain": [
       "<Figure size 432x288 with 1 Axes>"
      ]
     },
     "metadata": {
      "needs_background": "light"
     },
     "output_type": "display_data"
    }
   ],
   "source": [
    "sns.boxplot(y='Age',x='Years_Coding',data=Women_df)"
   ]
  },
  {
   "cell_type": "code",
   "execution_count": 31,
   "metadata": {},
   "outputs": [
    {
     "data": {
      "text/plain": [
       "<AxesSubplot:xlabel='Years_Coding', ylabel='Age'>"
      ]
     },
     "execution_count": 31,
     "metadata": {},
     "output_type": "execute_result"
    },
    {
     "data": {
      "image/png": "[encoded data removed]",
      "text/plain": [
       "<Figure size 432x288 with 1 Axes>"
      ]
     },
     "metadata": {
      "needs_background": "light"
     },
     "output_type": "display_data"
    }
   ],
   "source": [
    "sns.boxplot(y='Age',x='Years_Coding',data=Men_df)"
   ]
  },
  {
   "cell_type": "code",
   "execution_count": 32,
   "metadata": {},
   "outputs": [
    {
     "data": {
      "text/plain": [
       "<AxesSubplot:xlabel='Years_Coding', ylabel='Salary'>"
      ]
     },
     "execution_count": 32,
     "metadata": {},
     "output_type": "execute_result"
    },
    {
     "data": {
      "image/png": "[encoded data removed]",
      "text/plain": [
       "<Figure size 432x288 with 1 Axes>"
      ]
     },
     "metadata": {
      "needs_background": "light"
     },
     "output_type": "display_data"
    }
   ],
   "source": [
    "sns.boxplot(y='Salary',x='Years_Coding',data=Women_df)"
   ]
  },
  {
   "cell_type": "code",
   "execution_count": 33,
   "metadata": {},
   "outputs": [
    {
     "data": {
      "text/plain": [
       "<AxesSubplot:xlabel='Years_Coding', ylabel='Salary'>"
      ]
     },
     "execution_count": 33,
     "metadata": {},
     "output_type": "execute_result"
    },
    {
     "data": {
      "image/png": "[encoded data removed]",
      "text/plain": [
       "<Figure size 432x288 with 1 Axes>"
      ]
     },
     "metadata": {
      "needs_background": "light"
     },
     "output_type": "display_data"
    }
   ],
   "source": [
    "sns.boxplot(y='Salary',x='Years_Coding',data=Men_df)"
   ]
  },
  {
   "cell_type": "code",
   "execution_count": 34,
   "metadata": {},
   "outputs": [],
   "source": [
    "Women_X = Women_df[['Age', 'Years_Coding', 'Gender', 'Country','Formal_Education','Position']]"
   ]
  },
  {
   "cell_type": "code",
   "execution_count": 35,
   "metadata": {},
   "outputs": [],
   "source": [
    "Men_X = Men_df[['Age', 'Years_Coding', 'Gender', 'Country','Formal_Education','Position']]"
   ]
  },
  {
   "cell_type": "code",
   "execution_count": 36,
   "metadata": {},
   "outputs": [
    {
     "data": {
      "text/html": [
       "<div>\n",
       "<style scoped>\n",
       "    .dataframe tbody tr th:only-of-type {\n",
       "        vertical-align: middle;\n",
       "    }\n",
       "\n",
       "    .dataframe tbody tr th {\n",
       "        vertical-align: top;\n",
       "    }\n",
       "\n",
       "    .dataframe thead th {\n",
       "        text-align: right;\n",
       "    }\n",
       "</style>\n",
       "<table border=\"1\" class=\"dataframe\">\n",
       "  <thead>\n",
       "    <tr style=\"text-align: right;\">\n",
       "      <th></th>\n",
       "      <th>Age</th>\n",
       "      <th>Years_Coding</th>\n",
       "      <th>Country_Argentina</th>\n",
       "      <th>Country_Australia</th>\n",
       "      <th>Country_Austria</th>\n",
       "      <th>Country_Bangladesh</th>\n",
       "      <th>Country_Belarus</th>\n",
       "      <th>Country_Belgium</th>\n",
       "      <th>Country_Brazil</th>\n",
       "      <th>Country_Canada</th>\n",
       "      <th>...</th>\n",
       "      <th>Position_DBA/Database Engineer</th>\n",
       "      <th>Position_Data Analyst</th>\n",
       "      <th>Position_Data Engineer</th>\n",
       "      <th>Position_Data Scientist</th>\n",
       "      <th>Position_Machine Learning Engineer</th>\n",
       "      <th>Position_Other</th>\n",
       "      <th>Position_Product/Project Manager</th>\n",
       "      <th>Position_Research Scientist</th>\n",
       "      <th>Position_Software Engineer</th>\n",
       "      <th>Position_Statistician</th>\n",
       "    </tr>\n",
       "  </thead>\n",
       "  <tbody>\n",
       "    <tr>\n",
       "      <th>5</th>\n",
       "      <td>23.0</td>\n",
       "      <td>5.0</td>\n",
       "      <td>0</td>\n",
       "      <td>0</td>\n",
       "      <td>0</td>\n",
       "      <td>0</td>\n",
       "      <td>0</td>\n",
       "      <td>0</td>\n",
       "      <td>0</td>\n",
       "      <td>0</td>\n",
       "      <td>...</td>\n",
       "      <td>0</td>\n",
       "      <td>0</td>\n",
       "      <td>0</td>\n",
       "      <td>1</td>\n",
       "      <td>0</td>\n",
       "      <td>0</td>\n",
       "      <td>0</td>\n",
       "      <td>0</td>\n",
       "      <td>0</td>\n",
       "      <td>0</td>\n",
       "    </tr>\n",
       "    <tr>\n",
       "      <th>9</th>\n",
       "      <td>52.0</td>\n",
       "      <td>20.0</td>\n",
       "      <td>0</td>\n",
       "      <td>0</td>\n",
       "      <td>0</td>\n",
       "      <td>0</td>\n",
       "      <td>0</td>\n",
       "      <td>0</td>\n",
       "      <td>0</td>\n",
       "      <td>0</td>\n",
       "      <td>...</td>\n",
       "      <td>0</td>\n",
       "      <td>1</td>\n",
       "      <td>0</td>\n",
       "      <td>0</td>\n",
       "      <td>0</td>\n",
       "      <td>0</td>\n",
       "      <td>0</td>\n",
       "      <td>0</td>\n",
       "      <td>0</td>\n",
       "      <td>0</td>\n",
       "    </tr>\n",
       "    <tr>\n",
       "      <th>11</th>\n",
       "      <td>23.0</td>\n",
       "      <td>2.0</td>\n",
       "      <td>0</td>\n",
       "      <td>0</td>\n",
       "      <td>0</td>\n",
       "      <td>0</td>\n",
       "      <td>0</td>\n",
       "      <td>0</td>\n",
       "      <td>0</td>\n",
       "      <td>0</td>\n",
       "      <td>...</td>\n",
       "      <td>0</td>\n",
       "      <td>1</td>\n",
       "      <td>0</td>\n",
       "      <td>0</td>\n",
       "      <td>0</td>\n",
       "      <td>0</td>\n",
       "      <td>0</td>\n",
       "      <td>0</td>\n",
       "      <td>0</td>\n",
       "      <td>0</td>\n",
       "    </tr>\n",
       "    <tr>\n",
       "      <th>19</th>\n",
       "      <td>32.0</td>\n",
       "      <td>10.0</td>\n",
       "      <td>0</td>\n",
       "      <td>0</td>\n",
       "      <td>0</td>\n",
       "      <td>0</td>\n",
       "      <td>0</td>\n",
       "      <td>0</td>\n",
       "      <td>0</td>\n",
       "      <td>0</td>\n",
       "      <td>...</td>\n",
       "      <td>0</td>\n",
       "      <td>0</td>\n",
       "      <td>0</td>\n",
       "      <td>0</td>\n",
       "      <td>0</td>\n",
       "      <td>0</td>\n",
       "      <td>0</td>\n",
       "      <td>1</td>\n",
       "      <td>0</td>\n",
       "      <td>0</td>\n",
       "    </tr>\n",
       "    <tr>\n",
       "      <th>24</th>\n",
       "      <td>32.0</td>\n",
       "      <td>20.0</td>\n",
       "      <td>0</td>\n",
       "      <td>0</td>\n",
       "      <td>0</td>\n",
       "      <td>0</td>\n",
       "      <td>0</td>\n",
       "      <td>0</td>\n",
       "      <td>0</td>\n",
       "      <td>0</td>\n",
       "      <td>...</td>\n",
       "      <td>0</td>\n",
       "      <td>0</td>\n",
       "      <td>0</td>\n",
       "      <td>0</td>\n",
       "      <td>0</td>\n",
       "      <td>0</td>\n",
       "      <td>1</td>\n",
       "      <td>0</td>\n",
       "      <td>0</td>\n",
       "      <td>0</td>\n",
       "    </tr>\n",
       "  </tbody>\n",
       "</table>\n",
       "<p>5 rows × 78 columns</p>\n",
       "</div>"
      ],
      "text/plain": [
       "     Age  Years_Coding  Country_Argentina  Country_Australia  Country_Austria  \\\n",
       "5   23.0           5.0                  0                  0                0   \n",
       "9   52.0          20.0                  0                  0                0   \n",
       "11  23.0           2.0                  0                  0                0   \n",
       "19  32.0          10.0                  0                  0                0   \n",
       "24  32.0          20.0                  0                  0                0   \n",
       "\n",
       "    Country_Bangladesh  Country_Belarus  Country_Belgium  Country_Brazil  \\\n",
       "5                    0                0                0               0   \n",
       "9                    0                0                0               0   \n",
       "11                   0                0                0               0   \n",
       "19                   0                0                0               0   \n",
       "24                   0                0                0               0   \n",
       "\n",
       "    Country_Canada  ...  Position_DBA/Database Engineer  \\\n",
       "5                0  ...                               0   \n",
       "9                0  ...                               0   \n",
       "11               0  ...                               0   \n",
       "19               0  ...                               0   \n",
       "24               0  ...                               0   \n",
       "\n",
       "    Position_Data Analyst  Position_Data Engineer  Position_Data Scientist  \\\n",
       "5                       0                       0                        1   \n",
       "9                       1                       0                        0   \n",
       "11                      1                       0                        0   \n",
       "19                      0                       0                        0   \n",
       "24                      0                       0                        0   \n",
       "\n",
       "    Position_Machine Learning Engineer  Position_Other  \\\n",
       "5                                    0               0   \n",
       "9                                    0               0   \n",
       "11                                   0               0   \n",
       "19                                   0               0   \n",
       "24                                   0               0   \n",
       "\n",
       "    Position_Product/Project Manager  Position_Research Scientist  \\\n",
       "5                                  0                            0   \n",
       "9                                  0                            0   \n",
       "11                                 0                            0   \n",
       "19                                 0                            1   \n",
       "24                                 1                            0   \n",
       "\n",
       "    Position_Software Engineer  Position_Statistician  \n",
       "5                            0                      0  \n",
       "9                            0                      0  \n",
       "11                           0                      0  \n",
       "19                           0                      0  \n",
       "24                           0                      0  \n",
       "\n",
       "[5 rows x 78 columns]"
      ]
     },
     "execution_count": 36,
     "metadata": {},
     "output_type": "execute_result"
    }
   ],
   "source": [
    "# Create dummy variables for categorical data (Gender, Country, Position, Education)\n",
    "Women_X = pd.get_dummies(data=Women_X, drop_first=True)\n",
    "Women_X.head()"
   ]
  },
  {
   "cell_type": "code",
   "execution_count": 37,
   "metadata": {},
   "outputs": [
    {
     "data": {
      "text/html": [
       "<div>\n",
       "<style scoped>\n",
       "    .dataframe tbody tr th:only-of-type {\n",
       "        vertical-align: middle;\n",
       "    }\n",
       "\n",
       "    .dataframe tbody tr th {\n",
       "        vertical-align: top;\n",
       "    }\n",
       "\n",
       "    .dataframe thead th {\n",
       "        text-align: right;\n",
       "    }\n",
       "</style>\n",
       "<table border=\"1\" class=\"dataframe\">\n",
       "  <thead>\n",
       "    <tr style=\"text-align: right;\">\n",
       "      <th></th>\n",
       "      <th>Age</th>\n",
       "      <th>Years_Coding</th>\n",
       "      <th>Country_Argentina</th>\n",
       "      <th>Country_Australia</th>\n",
       "      <th>Country_Austria</th>\n",
       "      <th>Country_Bangladesh</th>\n",
       "      <th>Country_Belarus</th>\n",
       "      <th>Country_Belgium</th>\n",
       "      <th>Country_Brazil</th>\n",
       "      <th>Country_Canada</th>\n",
       "      <th>...</th>\n",
       "      <th>Position_DBA/Database Engineer</th>\n",
       "      <th>Position_Data Analyst</th>\n",
       "      <th>Position_Data Engineer</th>\n",
       "      <th>Position_Data Scientist</th>\n",
       "      <th>Position_Machine Learning Engineer</th>\n",
       "      <th>Position_Other</th>\n",
       "      <th>Position_Product/Project Manager</th>\n",
       "      <th>Position_Research Scientist</th>\n",
       "      <th>Position_Software Engineer</th>\n",
       "      <th>Position_Statistician</th>\n",
       "    </tr>\n",
       "  </thead>\n",
       "  <tbody>\n",
       "    <tr>\n",
       "      <th>0</th>\n",
       "      <td>23.0</td>\n",
       "      <td>2.0</td>\n",
       "      <td>0</td>\n",
       "      <td>0</td>\n",
       "      <td>0</td>\n",
       "      <td>0</td>\n",
       "      <td>0</td>\n",
       "      <td>0</td>\n",
       "      <td>0</td>\n",
       "      <td>0</td>\n",
       "      <td>...</td>\n",
       "      <td>0</td>\n",
       "      <td>0</td>\n",
       "      <td>0</td>\n",
       "      <td>0</td>\n",
       "      <td>0</td>\n",
       "      <td>0</td>\n",
       "      <td>0</td>\n",
       "      <td>0</td>\n",
       "      <td>1</td>\n",
       "      <td>0</td>\n",
       "    </tr>\n",
       "    <tr>\n",
       "      <th>1</th>\n",
       "      <td>42.0</td>\n",
       "      <td>0.0</td>\n",
       "      <td>0</td>\n",
       "      <td>0</td>\n",
       "      <td>0</td>\n",
       "      <td>0</td>\n",
       "      <td>0</td>\n",
       "      <td>0</td>\n",
       "      <td>0</td>\n",
       "      <td>0</td>\n",
       "      <td>...</td>\n",
       "      <td>0</td>\n",
       "      <td>0</td>\n",
       "      <td>0</td>\n",
       "      <td>0</td>\n",
       "      <td>0</td>\n",
       "      <td>0</td>\n",
       "      <td>0</td>\n",
       "      <td>0</td>\n",
       "      <td>1</td>\n",
       "      <td>0</td>\n",
       "    </tr>\n",
       "    <tr>\n",
       "      <th>2</th>\n",
       "      <td>42.0</td>\n",
       "      <td>2.0</td>\n",
       "      <td>0</td>\n",
       "      <td>1</td>\n",
       "      <td>0</td>\n",
       "      <td>0</td>\n",
       "      <td>0</td>\n",
       "      <td>0</td>\n",
       "      <td>0</td>\n",
       "      <td>0</td>\n",
       "      <td>...</td>\n",
       "      <td>0</td>\n",
       "      <td>0</td>\n",
       "      <td>0</td>\n",
       "      <td>0</td>\n",
       "      <td>0</td>\n",
       "      <td>1</td>\n",
       "      <td>0</td>\n",
       "      <td>0</td>\n",
       "      <td>0</td>\n",
       "      <td>0</td>\n",
       "    </tr>\n",
       "    <tr>\n",
       "      <th>3</th>\n",
       "      <td>52.0</td>\n",
       "      <td>20.0</td>\n",
       "      <td>0</td>\n",
       "      <td>0</td>\n",
       "      <td>0</td>\n",
       "      <td>0</td>\n",
       "      <td>0</td>\n",
       "      <td>0</td>\n",
       "      <td>0</td>\n",
       "      <td>0</td>\n",
       "      <td>...</td>\n",
       "      <td>0</td>\n",
       "      <td>0</td>\n",
       "      <td>0</td>\n",
       "      <td>1</td>\n",
       "      <td>0</td>\n",
       "      <td>0</td>\n",
       "      <td>0</td>\n",
       "      <td>0</td>\n",
       "      <td>0</td>\n",
       "      <td>0</td>\n",
       "    </tr>\n",
       "    <tr>\n",
       "      <th>4</th>\n",
       "      <td>23.0</td>\n",
       "      <td>5.0</td>\n",
       "      <td>0</td>\n",
       "      <td>0</td>\n",
       "      <td>0</td>\n",
       "      <td>0</td>\n",
       "      <td>0</td>\n",
       "      <td>0</td>\n",
       "      <td>0</td>\n",
       "      <td>0</td>\n",
       "      <td>...</td>\n",
       "      <td>0</td>\n",
       "      <td>0</td>\n",
       "      <td>0</td>\n",
       "      <td>1</td>\n",
       "      <td>0</td>\n",
       "      <td>0</td>\n",
       "      <td>0</td>\n",
       "      <td>0</td>\n",
       "      <td>0</td>\n",
       "      <td>0</td>\n",
       "    </tr>\n",
       "  </tbody>\n",
       "</table>\n",
       "<p>5 rows × 80 columns</p>\n",
       "</div>"
      ],
      "text/plain": [
       "    Age  Years_Coding  Country_Argentina  Country_Australia  Country_Austria  \\\n",
       "0  23.0           2.0                  0                  0                0   \n",
       "1  42.0           0.0                  0                  0                0   \n",
       "2  42.0           2.0                  0                  1                0   \n",
       "3  52.0          20.0                  0                  0                0   \n",
       "4  23.0           5.0                  0                  0                0   \n",
       "\n",
       "   Country_Bangladesh  Country_Belarus  Country_Belgium  Country_Brazil  \\\n",
       "0                   0                0                0               0   \n",
       "1                   0                0                0               0   \n",
       "2                   0                0                0               0   \n",
       "3                   0                0                0               0   \n",
       "4                   0                0                0               0   \n",
       "\n",
       "   Country_Canada  ...  Position_DBA/Database Engineer  Position_Data Analyst  \\\n",
       "0               0  ...                               0                      0   \n",
       "1               0  ...                               0                      0   \n",
       "2               0  ...                               0                      0   \n",
       "3               0  ...                               0                      0   \n",
       "4               0  ...                               0                      0   \n",
       "\n",
       "   Position_Data Engineer  Position_Data Scientist  \\\n",
       "0                       0                        0   \n",
       "1                       0                        0   \n",
       "2                       0                        0   \n",
       "3                       0                        1   \n",
       "4                       0                        1   \n",
       "\n",
       "   Position_Machine Learning Engineer  Position_Other  \\\n",
       "0                                   0               0   \n",
       "1                                   0               0   \n",
       "2                                   0               1   \n",
       "3                                   0               0   \n",
       "4                                   0               0   \n",
       "\n",
       "   Position_Product/Project Manager  Position_Research Scientist  \\\n",
       "0                                 0                            0   \n",
       "1                                 0                            0   \n",
       "2                                 0                            0   \n",
       "3                                 0                            0   \n",
       "4                                 0                            0   \n",
       "\n",
       "   Position_Software Engineer  Position_Statistician  \n",
       "0                           1                      0  \n",
       "1                           1                      0  \n",
       "2                           0                      0  \n",
       "3                           0                      0  \n",
       "4                           0                      0  \n",
       "\n",
       "[5 rows x 80 columns]"
      ]
     },
     "execution_count": 37,
     "metadata": {},
     "output_type": "execute_result"
    }
   ],
   "source": [
    "# Create dummy variables for categorical data (Gender, Country, Position, Education)\n",
    "Men_X = pd.get_dummies(data=Men_X, drop_first=True)\n",
    "Men_X.head()"
   ]
  },
  {
   "cell_type": "code",
   "execution_count": 38,
   "metadata": {},
   "outputs": [],
   "source": [
    "Women_Y = Women_df['Salary']\n",
    "Men_Y = Men_df['Salary']"
   ]
  },
  {
   "cell_type": "code",
   "execution_count": 39,
   "metadata": {},
   "outputs": [
    {
     "name": "stdout",
     "output_type": "stream",
     "text": [
      "(2634, 78)\n",
      "(879, 78)\n",
      "(2634,)\n",
      "(879,)\n"
     ]
    }
   ],
   "source": [
    "from sklearn.model_selection import train_test_split\n",
    "Women_X_train, Women_X_test, Women_y_train, Women_y_test = train_test_split(Women_X, Women_Y, test_size=0.25, random_state=101)\n",
    "print(Women_X_train.shape)\n",
    "print(Women_X_test.shape)\n",
    "print(Women_y_train.shape)\n",
    "print(Women_y_test.shape)"
   ]
  },
  {
   "cell_type": "code",
   "execution_count": 40,
   "metadata": {},
   "outputs": [
    {
     "name": "stdout",
     "output_type": "stream",
     "text": [
      "(16693, 80)\n",
      "(5565, 80)\n",
      "(16693,)\n",
      "(5565,)\n"
     ]
    }
   ],
   "source": [
    "from sklearn.model_selection import train_test_split\n",
    "Men_X_train, Men_X_test, Men_y_train, Men_y_test = train_test_split(Men_X, Men_Y, test_size=0.25, random_state=101)\n",
    "print(Men_X_train.shape)\n",
    "print(Men_X_test.shape)\n",
    "print(Men_y_train.shape)\n",
    "print(Men_y_test.shape)"
   ]
  },
  {
   "cell_type": "code",
   "execution_count": 41,
   "metadata": {},
   "outputs": [
    {
     "data": {
      "text/plain": [
       "LinearRegression()"
      ]
     },
     "execution_count": 41,
     "metadata": {},
     "output_type": "execute_result"
    }
   ],
   "source": [
    "from sklearn.linear_model import LinearRegression\n",
    "Women_model = LinearRegression()\n",
    "Women_model.fit(Women_X_train,Women_y_train)"
   ]
  },
  {
   "cell_type": "code",
   "execution_count": 42,
   "metadata": {},
   "outputs": [
    {
     "data": {
      "text/plain": [
       "LinearRegression()"
      ]
     },
     "execution_count": 42,
     "metadata": {},
     "output_type": "execute_result"
    }
   ],
   "source": [
    "from sklearn.linear_model import LinearRegression\n",
    "Men_model = LinearRegression()\n",
    "Men_model.fit(Men_X_train,Men_y_train)"
   ]
  },
  {
   "cell_type": "code",
   "execution_count": 43,
   "metadata": {},
   "outputs": [
    {
     "name": "stdout",
     "output_type": "stream",
     "text": [
      "-12809.189593519208\n"
     ]
    }
   ],
   "source": [
    "# print the intercept\n",
    "print(Women_model.intercept_)"
   ]
  },
  {
   "cell_type": "code",
   "execution_count": 44,
   "metadata": {},
   "outputs": [
    {
     "name": "stdout",
     "output_type": "stream",
     "text": [
      "-28690.829670698346\n"
     ]
    }
   ],
   "source": [
    "# print the intercept\n",
    "print(Men_model.intercept_)"
   ]
  },
  {
   "cell_type": "code",
   "execution_count": 45,
   "metadata": {},
   "outputs": [
    {
     "data": {
      "text/html": [
       "<div>\n",
       "<style scoped>\n",
       "    .dataframe tbody tr th:only-of-type {\n",
       "        vertical-align: middle;\n",
       "    }\n",
       "\n",
       "    .dataframe tbody tr th {\n",
       "        vertical-align: top;\n",
       "    }\n",
       "\n",
       "    .dataframe thead th {\n",
       "        text-align: right;\n",
       "    }\n",
       "</style>\n",
       "<table border=\"1\" class=\"dataframe\">\n",
       "  <thead>\n",
       "    <tr style=\"text-align: right;\">\n",
       "      <th></th>\n",
       "      <th>Coefficient</th>\n",
       "    </tr>\n",
       "  </thead>\n",
       "  <tbody>\n",
       "    <tr>\n",
       "      <th>Age</th>\n",
       "      <td>517.076115</td>\n",
       "    </tr>\n",
       "    <tr>\n",
       "      <th>Years_Coding</th>\n",
       "      <td>1694.142689</td>\n",
       "    </tr>\n",
       "    <tr>\n",
       "      <th>Country_Argentina</th>\n",
       "      <td>-6127.318856</td>\n",
       "    </tr>\n",
       "    <tr>\n",
       "      <th>Country_Australia</th>\n",
       "      <td>56865.964920</td>\n",
       "    </tr>\n",
       "    <tr>\n",
       "      <th>Country_Austria</th>\n",
       "      <td>44280.599326</td>\n",
       "    </tr>\n",
       "    <tr>\n",
       "      <th>...</th>\n",
       "      <td>...</td>\n",
       "    </tr>\n",
       "    <tr>\n",
       "      <th>Position_Other</th>\n",
       "      <td>-6983.319019</td>\n",
       "    </tr>\n",
       "    <tr>\n",
       "      <th>Position_Product/Project Manager</th>\n",
       "      <td>3985.967790</td>\n",
       "    </tr>\n",
       "    <tr>\n",
       "      <th>Position_Research Scientist</th>\n",
       "      <td>-10098.305561</td>\n",
       "    </tr>\n",
       "    <tr>\n",
       "      <th>Position_Software Engineer</th>\n",
       "      <td>-1252.027969</td>\n",
       "    </tr>\n",
       "    <tr>\n",
       "      <th>Position_Statistician</th>\n",
       "      <td>-1365.322231</td>\n",
       "    </tr>\n",
       "  </tbody>\n",
       "</table>\n",
       "<p>78 rows × 1 columns</p>\n",
       "</div>"
      ],
      "text/plain": [
       "                                   Coefficient\n",
       "Age                                 517.076115\n",
       "Years_Coding                       1694.142689\n",
       "Country_Argentina                 -6127.318856\n",
       "Country_Australia                 56865.964920\n",
       "Country_Austria                   44280.599326\n",
       "...                                        ...\n",
       "Position_Other                    -6983.319019\n",
       "Position_Product/Project Manager   3985.967790\n",
       "Position_Research Scientist      -10098.305561\n",
       "Position_Software Engineer        -1252.027969\n",
       "Position_Statistician             -1365.322231\n",
       "\n",
       "[78 rows x 1 columns]"
      ]
     },
     "execution_count": 45,
     "metadata": {},
     "output_type": "execute_result"
    }
   ],
   "source": [
    "Women_coeff_parameter = pd.DataFrame(Women_model.coef_,Women_X.columns,columns=['Coefficient'])\n",
    "Women_coeff_parameter"
   ]
  },
  {
   "cell_type": "code",
   "execution_count": 46,
   "metadata": {},
   "outputs": [
    {
     "data": {
      "text/html": [
       "<div>\n",
       "<style scoped>\n",
       "    .dataframe tbody tr th:only-of-type {\n",
       "        vertical-align: middle;\n",
       "    }\n",
       "\n",
       "    .dataframe tbody tr th {\n",
       "        vertical-align: top;\n",
       "    }\n",
       "\n",
       "    .dataframe thead th {\n",
       "        text-align: right;\n",
       "    }\n",
       "</style>\n",
       "<table border=\"1\" class=\"dataframe\">\n",
       "  <thead>\n",
       "    <tr style=\"text-align: right;\">\n",
       "      <th></th>\n",
       "      <th>Coefficient</th>\n",
       "    </tr>\n",
       "  </thead>\n",
       "  <tbody>\n",
       "    <tr>\n",
       "      <th>Age</th>\n",
       "      <td>803.231460</td>\n",
       "    </tr>\n",
       "    <tr>\n",
       "      <th>Years_Coding</th>\n",
       "      <td>1439.454207</td>\n",
       "    </tr>\n",
       "    <tr>\n",
       "      <th>Country_Argentina</th>\n",
       "      <td>-1665.711438</td>\n",
       "    </tr>\n",
       "    <tr>\n",
       "      <th>Country_Australia</th>\n",
       "      <td>81607.245825</td>\n",
       "    </tr>\n",
       "    <tr>\n",
       "      <th>Country_Austria</th>\n",
       "      <td>48599.410503</td>\n",
       "    </tr>\n",
       "    <tr>\n",
       "      <th>...</th>\n",
       "      <td>...</td>\n",
       "    </tr>\n",
       "    <tr>\n",
       "      <th>Position_Other</th>\n",
       "      <td>7839.725774</td>\n",
       "    </tr>\n",
       "    <tr>\n",
       "      <th>Position_Product/Project Manager</th>\n",
       "      <td>13214.812442</td>\n",
       "    </tr>\n",
       "    <tr>\n",
       "      <th>Position_Research Scientist</th>\n",
       "      <td>-4436.891486</td>\n",
       "    </tr>\n",
       "    <tr>\n",
       "      <th>Position_Software Engineer</th>\n",
       "      <td>4211.039993</td>\n",
       "    </tr>\n",
       "    <tr>\n",
       "      <th>Position_Statistician</th>\n",
       "      <td>-5281.250266</td>\n",
       "    </tr>\n",
       "  </tbody>\n",
       "</table>\n",
       "<p>80 rows × 1 columns</p>\n",
       "</div>"
      ],
      "text/plain": [
       "                                   Coefficient\n",
       "Age                                 803.231460\n",
       "Years_Coding                       1439.454207\n",
       "Country_Argentina                 -1665.711438\n",
       "Country_Australia                 81607.245825\n",
       "Country_Austria                   48599.410503\n",
       "...                                        ...\n",
       "Position_Other                     7839.725774\n",
       "Position_Product/Project Manager  13214.812442\n",
       "Position_Research Scientist       -4436.891486\n",
       "Position_Software Engineer         4211.039993\n",
       "Position_Statistician             -5281.250266\n",
       "\n",
       "[80 rows x 1 columns]"
      ]
     },
     "execution_count": 46,
     "metadata": {},
     "output_type": "execute_result"
    }
   ],
   "source": [
    "Men_coeff_parameter = pd.DataFrame(Men_model.coef_,Men_X.columns,columns=['Coefficient'])\n",
    "Men_coeff_parameter"
   ]
  },
  {
   "cell_type": "code",
   "execution_count": 47,
   "metadata": {},
   "outputs": [
    {
     "data": {
      "text/plain": [
       "array([ 1.93953009e+04,  5.62853981e+04,  1.09034763e+05,  9.12052687e+04,\n",
       "        9.50387769e+04,  5.68453766e+03,  3.44171253e+04,  1.63595588e+04,\n",
       "        1.61769557e+04,  1.42263301e+05,  1.56831953e+03,  2.47274776e+04,\n",
       "        8.44096289e+04,  9.01032481e+03,  3.53790431e+04,  1.93004349e+04,\n",
       "        7.35251326e+03,  1.47416159e+04,  3.35065860e+04,  1.40288988e+04,\n",
       "        1.25507142e+04,  6.72887279e+04,  1.06509638e+05,  1.07178159e+04,\n",
       "        1.23982603e+05,  5.47567228e+04,  1.35556124e+05,  1.03109629e+05,\n",
       "        9.30150351e+04,  2.50747279e+02,  9.38172597e+03,  1.12133220e+04,\n",
       "        1.11566524e+04,  1.69973740e+04,  3.92373375e+03,  4.39166063e+04,\n",
       "        1.38141505e+05,  2.74972890e+04,  1.09095019e+05,  3.24981603e+04,\n",
       "        1.00821450e+05,  4.88736371e+04,  3.25399531e+04,  5.23453130e+04,\n",
       "        5.14752335e+03,  5.58300019e+04,  3.14179389e+04,  8.79641746e+04,\n",
       "        1.02954529e+05,  1.37092540e+05,  5.35085952e+04,  6.04249166e+04,\n",
       "        1.04455795e+05,  2.55176688e+04,  2.77844910e+04,  1.17160319e+04,\n",
       "        9.24533963e+04,  3.28624394e+04,  1.79946930e+04,  1.37092540e+05,\n",
       "       -2.73431981e+01,  7.11790663e+04,  1.00913040e+05,  2.88891221e+04,\n",
       "        1.15698705e+04,  5.52584856e+04,  4.85403885e+04,  1.75571927e+04,\n",
       "        9.73958159e+04,  6.13089392e+03,  1.26030557e+04,  2.47079252e+04,\n",
       "        8.46934644e+03,  6.33626843e+04,  1.31146951e+05,  6.67969623e+04,\n",
       "        6.01300951e+04,  7.06043402e+04,  1.39584743e+04,  4.73123334e+03,\n",
       "        3.74780873e+04,  1.96450495e+04,  2.58687926e+04,  8.46829277e+04,\n",
       "        5.57093757e+04,  1.52041107e+04,  5.47737050e+04,  3.22357253e+04,\n",
       "        1.92638743e+04,  1.48013079e+04,  4.84009948e+04,  5.49930125e+04,\n",
       "        2.08639838e+04,  6.03623781e+04,  3.39736017e+04,  2.42791366e+04,\n",
       "        1.03509490e+05,  4.65352879e+04,  4.09552939e+04,  8.58158179e+03,\n",
       "        4.32112752e+03,  1.41769230e+04,  5.27051271e+04,  9.40355558e+03,\n",
       "        1.30792440e+05,  1.87027922e+04,  6.88129648e+04,  1.14130316e+04,\n",
       "        1.00636484e+05,  6.90085322e+04,  1.07143836e+05,  1.07082347e+05,\n",
       "        6.17317346e+04,  1.84081672e+04,  4.34277993e+04,  1.37092540e+05,\n",
       "        1.11452058e+05,  1.07041176e+05,  5.99666537e+04,  2.95853884e+04,\n",
       "        6.69921750e+04,  1.85478455e+04,  1.06965764e+05,  9.19715480e+03,\n",
       "        1.33804766e+05,  1.20877863e+05,  4.12226636e+04,  1.17565732e+05,\n",
       "        8.12855160e+04,  5.09074272e+04,  1.37385431e+04,  8.85753254e+04,\n",
       "        9.01032481e+03,  3.95955092e+04,  2.17169812e+04,  1.10783302e+05,\n",
       "        6.18246504e+04,  1.40726885e+05,  2.98519126e+04,  1.99735381e+04,\n",
       "        9.89207481e+04,  1.30689780e+05,  2.69231010e+04,  4.02349674e+01,\n",
       "       -4.46041359e+03,  3.37747816e+04,  4.73452050e+04,  8.39368384e+04,\n",
       "        4.32161094e+03,  4.04782353e+04,  1.11004646e+04,  7.11352451e+04,\n",
       "        5.31296415e+04,  4.30055706e+04,  1.32896115e+05,  1.33727597e+05,\n",
       "        2.32327094e+04,  6.38901692e+04,  1.96254971e+04,  2.13405222e+04,\n",
       "        1.96254971e+04,  8.39368384e+04,  7.47821143e+04,  1.06509638e+05,\n",
       "        5.24119752e+04,  3.68129842e+04,  1.29501383e+04,  2.63846418e+04,\n",
       "        3.22357253e+04,  7.86119407e+04,  1.89833318e+04,  1.31921779e+05,\n",
       "        5.48203094e+03,  9.50387769e+04,  3.70527711e+04,  3.30367755e+04,\n",
       "        2.43949955e+04,  5.74245064e+04,  7.51308343e+04,  1.04848948e+05,\n",
       "        1.18540069e+05,  2.27268570e+04,  5.62853981e+04,  2.26024593e+04,\n",
       "        8.64280549e+04,  2.21362492e+04,  4.81253476e+04,  1.17565732e+05,\n",
       "        1.11680399e+05,  1.12665299e+02,  1.43414128e+05, -1.23934661e+04,\n",
       "        5.56925514e+03,  3.22357253e+04,  5.38352607e+04,  1.09335376e+04,\n",
       "        1.57272214e+04,  2.33900792e+04,  2.78077359e+04,  5.37143166e+03,\n",
       "        3.46082575e+04,  1.58347985e+04,  1.37092540e+05,  9.50387769e+04,\n",
       "        1.00333496e+04,  1.10205184e+05,  1.98194296e+04,  7.92603739e+04,\n",
       "        1.67687494e+04,  7.85689328e+04,  4.40372692e+04,  3.92373375e+03,\n",
       "        1.30492635e+05,  1.37682837e+05,  4.42469113e+04,  1.26187301e+04,\n",
       "        2.69231010e+04,  6.36515670e+04,  2.89645203e+04,  1.12139814e+05,\n",
       "        5.49792928e+03,  8.17743699e+04,  2.43377205e+04,  1.14905723e+05,\n",
       "        4.25689988e+03,  1.63425494e+02, -1.44628998e+03,  1.01870415e+05,\n",
       "        3.87511245e+03,  2.84641098e+04,  5.78758883e+04,  1.23785458e+05,\n",
       "        8.68550010e+04,  3.93017961e+03,  9.40355558e+03,  7.15042322e+04,\n",
       "        6.38108472e+03,  2.90566953e+04,  4.86644995e+04,  2.05561683e+04,\n",
       "        4.30205852e+03,  8.38533428e+03,  1.06509638e+05,  4.01940460e+04,\n",
       "       -3.23965797e+03,  1.03509490e+05,  1.31550315e+04,  2.83137286e+04,\n",
       "        7.74857285e+03,  4.32234088e+04,  4.84353409e+04,  4.56861283e+04,\n",
       "        2.42931578e+04,  1.71151091e+04,  5.83315970e+04,  2.20421705e+04,\n",
       "        4.40910343e+04,  6.89433306e+04,  2.99684885e+04,  2.04096126e+03,\n",
       "        4.71098353e+04,  6.13089392e+03,  1.79946930e+04,  9.28803424e+04,\n",
       "        3.25399531e+04,  4.16615308e+04,  2.86713312e+03,  4.11824950e+04,\n",
       "        6.62833734e+02,  1.12024685e+04,  8.26907291e+04,  1.06509638e+05,\n",
       "        1.35617324e+05,  1.54326858e+04,  2.20414933e+03,  8.50588178e+03,\n",
       "        7.63906533e+04,  1.72636370e+04,  7.86996961e+04,  6.88129648e+04,\n",
       "        1.76527577e+04,  1.01870415e+05,  1.33727597e+05,  1.99834597e+04,\n",
       "        1.17825497e+05,  1.50673771e+04,  1.00106878e+05,  5.80127153e+03,\n",
       "        2.49227693e+04,  3.80516101e+04,  1.37092540e+05,  6.88129648e+04,\n",
       "        5.87758256e+04,  2.55860226e+04,  2.02198297e+04,  1.12133220e+04,\n",
       "        9.80957403e+04,  4.32112752e+03,  1.11680399e+05,  9.90090812e+04,\n",
       "        8.77189087e+04,  9.65146879e+04,  1.91113268e+04,  3.37278760e+04,\n",
       "        2.47079252e+04,  1.09095019e+05,  1.37682837e+05,  1.09095019e+05,\n",
       "        1.06509638e+05,  5.17816716e+04,  3.93259224e+04,  8.68550010e+04,\n",
       "        9.39293073e+04,  1.06509638e+05,  5.84899453e+03,  1.18811842e+05,\n",
       "       -1.83047034e+03,  8.41687575e+04,  5.47567228e+04,  1.38141505e+05,\n",
       "        2.97170360e+04, -2.27258506e+03,  5.56925514e+03,  5.79655538e+04,\n",
       "        1.14130316e+04,  3.57640192e+04,  1.03030212e+05,  4.99979137e+04,\n",
       "        1.01427210e+05, -1.98327099e+03,  2.22108777e+04,  9.45122635e+03,\n",
       "        1.97904829e+04,  6.58334885e+04, -4.10394679e+03,  9.85704625e+04,\n",
       "        7.66574396e+04,  7.83038900e+04,  1.86788731e+04,  1.01351056e+05,\n",
       "        8.00802272e+04,  9.79786688e+04,  1.06969053e+05,  9.65918780e+03,\n",
       "        8.99563488e+04,  1.10718710e+05,  1.24658576e+04,  3.88665081e+04,\n",
       "        6.58128169e+04,  4.91206684e+04,  3.77341093e+04,  4.33437145e+04,\n",
       "        9.01032481e+03,  5.59727387e+04,  9.86116334e+04,  1.31071652e+04,\n",
       "        2.14977751e+04,  1.19341448e+05,  5.64689235e+04,  1.08152106e+05,\n",
       "        8.40354671e+04,  1.39171282e+03,  5.24119752e+04,  9.10144936e+03,\n",
       "        8.08718864e+04,  6.42446805e+04, -1.98327099e+03,  3.32870916e+04,\n",
       "        1.45060553e+04,  3.82747713e+04,  8.66231306e+04,  1.03406830e+05,\n",
       "        7.61989018e+04,  6.94678341e+04,  1.23982603e+05,  2.47201039e+04,\n",
       "        3.59416717e+04,  1.35556124e+05,  5.06996129e+04,  5.07137315e+04,\n",
       "        8.77189087e+04,  1.22661865e+05,  5.84153825e+04,  1.12585342e+05,\n",
       "        4.51259569e+04,  1.09095019e+05,  5.99720467e+04,  1.45336544e+04,\n",
       "        1.57474263e+04,  4.94231935e+04,  4.17277176e+03,  9.32842139e+02,\n",
       "        3.78928547e+04,  1.15979883e+04,  2.35910501e+03,  2.69457867e+04,\n",
       "        4.32112752e+03,  1.39978397e+04,  1.43128728e+04,  2.39178992e+04,\n",
       "        5.99620121e+03,  3.71936381e+04,  7.96504511e+03,  4.69289329e+04,\n",
       "        5.17892983e+04,  1.09034763e+05,  1.02794919e+05,  3.06884300e+04,\n",
       "        2.41537341e+02,  9.81394366e+04,  1.41793402e+04,  1.23080860e+05,\n",
       "        3.57640192e+04,  4.29136757e+04,  1.39677920e+05,  2.29457840e+04,\n",
       "        1.09034763e+05,  9.38082379e+04,  5.38352607e+04,  2.92357257e+04,\n",
       "        2.14977751e+04,  9.66030210e+04,  2.34387259e+04,  2.09935477e+04,\n",
       "        1.51230563e+04,  8.69003474e+03,  4.10344431e+04,  1.37999642e+05,\n",
       "        7.15803866e+04,  1.85751958e+04,  4.51362056e+04,  1.16942023e+04,\n",
       "        1.07082347e+05,  2.74260854e+03,  5.56925514e+03,  5.87000312e+03,\n",
       "        5.37469276e+04, -4.43221494e+02,  6.60897744e+04,  6.85072022e+04,\n",
       "        1.94836340e+04,  1.10786293e+04,  1.26342893e+04,  4.98819368e+04,\n",
       "        2.38099688e+04,  1.03799983e+05,  8.11543134e+04,  9.79786688e+04,\n",
       "        4.81091300e+03,  1.40726885e+05,  4.23643993e+04,  2.60791583e+03,\n",
       "        5.37469276e+04,  1.23347561e+04,  2.11796313e+04,  1.37220825e+05,\n",
       "        1.04777525e+05,  1.28561570e+05,  4.21808897e+04,  1.10919755e+05,\n",
       "        7.95651558e+04,  3.80645744e+04,  3.30541006e+03,  1.72571682e+04,\n",
       "        5.74313991e+04,  6.13089392e+03,  1.06275089e+04,  1.34252002e+05,\n",
       "        7.85142785e+03,  9.12052687e+04,  3.99602871e+02,  2.95422377e+04,\n",
       "        2.60978955e+04,  1.34507159e+05,  1.11310195e+05,  1.79694812e+04,\n",
       "        1.01197014e+05,  5.27275881e+04,  1.06094871e+05,  1.87368383e+04,\n",
       "        6.13814458e+04,  1.02631567e+05,  9.03850918e+04,  1.91044674e+04,\n",
       "        1.43237637e+05,  6.94878764e+04,  5.80694468e+04,  6.46965698e+04,\n",
       "        6.09652143e+04,  2.55176688e+04,  1.09183352e+05,  7.39837260e+04,\n",
       "        1.17274923e+04,  2.22108777e+04,  6.25970813e+04,  3.34096011e+04,\n",
       "       -1.75488375e+04,  9.16788593e+03,  4.63822905e+04,  6.61177422e+03,\n",
       "        1.37999642e+05,  5.61204640e+04,  4.63101229e+04,  8.46829277e+04,\n",
       "        1.36881033e+04,  2.74260854e+03,  4.43675123e+03,  1.43414128e+05,\n",
       "        1.68099203e+04,  1.10156162e+05,  9.15988161e+04,  1.63736139e+04,\n",
       "        9.75197433e+03,  1.11377429e+05,  5.53387418e+04,  8.87604625e+03,\n",
       "        1.34507159e+05,  6.10705276e+04,  6.58128169e+04,  1.46782565e+04,\n",
       "        1.18811842e+05,  3.07667410e+04,  5.83336327e+04, -9.20378045e+02,\n",
       "        9.50387769e+04,  1.51273082e+04,  2.95422377e+04, -1.16918886e+03,\n",
       "        3.40752542e+03,  5.99473628e+03,  5.40421511e+04,  8.58337874e+03,\n",
       "        1.03886287e+05,  3.33875855e+04,  1.91113268e+04,  1.78742690e+04,\n",
       "        4.52611580e+04,  1.42263301e+05,  3.14628559e+04,  4.06448531e+04,\n",
       "        4.85523827e+04,  1.06509638e+05,  8.30296007e+02,  1.40288988e+04,\n",
       "        1.96254971e+04,  2.33804565e+04,  3.30367755e+04,  3.24981603e+04,\n",
       "        6.85072022e+04,  5.76787438e+04,  1.09095019e+05,  2.58249288e+04,\n",
       "        1.09095019e+05,  5.08270257e+04,  2.40273674e+04,  5.38138095e+04,\n",
       "        8.37400144e+04,  5.85658690e+04,  7.10662163e+04,  1.13587669e+04,\n",
       "        3.93017961e+03,  9.13532542e+04,  2.18420144e+04,  4.46565955e+04,\n",
       "        1.02424926e+04, -9.51611647e+02,  1.16942023e+04,  2.53474278e+04,\n",
       "        2.47173242e+04,  5.08879407e+03,  1.14980352e+05,  1.58347985e+04,\n",
       "        6.16582844e+04,  6.01300951e+04,  1.30837002e+05,  3.25538691e+04,\n",
       "        3.89707396e+04,  3.50095068e+03,  4.93531964e+04,  1.26962889e+04,\n",
       "        3.30155082e+04,  1.09465855e+05,  3.36005015e+04,  1.03509490e+05,\n",
       "        8.50398200e+04,  8.11543134e+04,  2.11991837e+04,  1.49197231e+04,\n",
       "        4.39555361e+04,  1.16942023e+04,  5.09863754e+04,  1.72845460e+04,\n",
       "        2.43687472e+04,  1.10143984e+05,  1.20238923e+04,  1.72289614e+04,\n",
       "        2.48712509e+04,  1.01197014e+05,  1.06509638e+05,  1.60601895e+04,\n",
       "        1.47619960e+04,  3.67497086e+03,  1.30792440e+05,  1.35616815e+05,\n",
       "        2.67957821e+04,  1.04441334e+05,  1.35556124e+05,  9.01409200e+04,\n",
       "        2.90109579e+04,  9.29170000e+04,  1.48483027e+05,  1.08152106e+05,\n",
       "        1.02537375e+05,  3.27351150e+04,  2.11991837e+04,  6.25970813e+04,\n",
       "        2.16962938e+04,  1.17565732e+05,  3.06582097e+04,  4.97938188e+04,\n",
       "        6.74260822e+04,  7.85689328e+04,  1.00636484e+05,  9.14412927e+03,\n",
       "        1.08294681e+05,  1.11452058e+05,  4.51259569e+04,  2.32327094e+04,\n",
       "        2.73684907e+04,  1.47665895e+04,  1.02981344e+05,  6.05365804e+04,\n",
       "        1.03109629e+05,  1.37017911e+05,  3.13633011e+04,  9.38172597e+03,\n",
       "        7.86119407e+04,  5.32258793e+04,  3.02770588e+04,  1.45060553e+04,\n",
       "        1.06367775e+05,  4.67598572e+04,  1.36950677e+05,  1.27097589e+05,\n",
       "        5.79511999e+04,  8.57296098e+04, -6.06332978e+03,  9.01032481e+03,\n",
       "        1.03030212e+05, -1.72148589e+03,  2.22108777e+04,  2.89105510e+04,\n",
       "        1.45336544e+04,  2.35910501e+03,  3.29053489e+04,  1.12024685e+04,\n",
       "        6.13089392e+03,  1.18614697e+05,  9.59850819e+04,  1.48043018e+03,\n",
       "        1.93953009e+04,  3.19859753e+04,  4.43675123e+03, -1.22779463e+04,\n",
       "        5.74757332e+04,  6.43955694e+04, -6.79198726e+03,  3.11012080e+04,\n",
       "        1.35556124e+05,  3.08609494e+04,  9.96508260e+04,  1.03406830e+05,\n",
       "        9.01409200e+04,  4.22760662e+04,  3.27492886e+03,  1.55408607e+04,\n",
       "        1.11680399e+05,  3.71936381e+04,  1.80619483e+04,  5.91703245e+04,\n",
       "        1.09183352e+05,  2.36821398e+04,  9.20740116e+03,  2.37147567e+04,\n",
       "        2.34934172e+03,  5.76787438e+04,  1.62085251e+04,  1.07084364e+05,\n",
       "        1.09095019e+05,  5.87758256e+04,  1.45336544e+04,  9.79786688e+04,\n",
       "        7.26836000e+04,  1.61851508e+04,  3.34029081e+03,  1.85674016e+04,\n",
       "        1.00337525e+04,  2.42522925e+04,  4.11319248e+04,  4.62882566e+04,\n",
       "        8.35550013e+04,  1.48483027e+05,  6.59835530e+04,  1.99109830e+04,\n",
       "        9.03850918e+04,  8.46934644e+03,  2.90109579e+04,  1.02883252e+05,\n",
       "        5.73823107e+04,  1.11887976e+04,  5.78057072e+04,  3.28462254e+03,\n",
       "        5.05508487e+03,  9.30150351e+04,  1.11680399e+05,  8.12910205e+02,\n",
       "        7.04516616e+03,  6.68640290e+04,  1.03030212e+05,  3.76205842e+04,\n",
       "        2.93811626e+04,  1.00333496e+04,  6.38901692e+04,  5.30120874e+04,\n",
       "        1.11452058e+05,  8.63835933e+03,  5.72562525e+04,  6.25520343e+04,\n",
       "        8.37005488e+04,  2.21565586e+04,  5.27051271e+04,  4.54346976e+03,\n",
       "        9.03316195e+04,  4.28354685e+04,  2.95034278e+04,  1.16851161e+05,\n",
       "        9.38599133e+04,  3.12082895e+03,  3.85465442e+04,  7.50699154e+04,\n",
       "        1.09095019e+05,  1.09095019e+05,  1.21200078e+05,  2.33206455e+04,\n",
       "        1.01517589e+03,  1.37255891e+05,  6.80237646e+04,  2.14977751e+04,\n",
       "        1.15833619e+05,  4.05595218e+04,  1.94439322e+04,  8.46829277e+04,\n",
       "        1.55408607e+04,  1.00333496e+04,  9.97819039e+04,  1.00564049e+05,\n",
       "        5.47325341e+04,  2.99684885e+04,  1.32896115e+05,  2.66294332e+04,\n",
       "        1.16347018e+03,  5.19329641e+03,  3.31363813e+04,  1.76527577e+04,\n",
       "        4.46371634e+04,  1.14980352e+05,  2.46332967e+04, -1.84284954e+03,\n",
       "        1.40882053e+04,  1.58630500e+04,  2.66381673e+04,  8.72568220e+03,\n",
       "        5.11629751e+04,  5.56925514e+03,  7.04516616e+03,  2.11796313e+04,\n",
       "        1.07558603e+05,  1.33401407e+04,  2.88900062e+04,  1.96840354e+04,\n",
       "        1.71521301e+03,  2.74157323e+04,  3.84640248e+03,  1.34507159e+05,\n",
       "        7.15042322e+04,  7.43229458e+03,  1.09095019e+05,  1.04441334e+05,\n",
       "        1.09335376e+04,  2.98519126e+04,  1.14130225e+04,  4.20756153e+04,\n",
       "        9.65918780e+03,  5.56925514e+03,  1.03936436e+05,  1.09095019e+05,\n",
       "        4.65352879e+04,  1.43128728e+04,  1.39677920e+05,  1.64978294e+04,\n",
       "        6.43353134e+04,  1.26567983e+05,  9.23507364e+04,  1.01427210e+05,\n",
       "        2.22221504e+04,  5.05138572e+04,  1.93004349e+04,  1.43128728e+04,\n",
       "        1.01427210e+05,  4.40067780e+04,  2.71921844e+04,  2.90572354e+04,\n",
       "        8.86916671e+03,  1.41769230e+04,  9.16066540e+02,  9.66812441e+04,\n",
       "        5.13318272e+04,  3.19085998e+04,  2.37650119e+04,  2.78660143e+04,\n",
       "        2.06680162e+04,  1.30792440e+05,  1.75571927e+04,  7.86585251e+04,\n",
       "        5.17448908e+04,  6.33626843e+04,  1.29256024e+05,  1.03149430e+05,\n",
       "        1.22159273e+04,  7.07582481e+03,  1.48483027e+05,  6.30354831e+03,\n",
       "        2.57504443e+04,  1.07646936e+05, -7.02068143e+03,  1.96242858e+04,\n",
       "        6.24226136e+03,  1.16029317e+05,  9.03664246e+04,  8.85726845e+03,\n",
       "        8.53787940e+04,  5.18855183e+04,  4.10156441e+04,  5.60147994e+04,\n",
       "        8.77189087e+04,  2.99536789e+04,  6.70209110e+04,  8.77078658e+04,\n",
       "        5.57315549e+03,  9.01032481e+03,  1.09095019e+05,  8.24612782e+04,\n",
       "        4.94231935e+04,  4.06543778e+04,  1.14980352e+05,  9.60877418e+04,\n",
       "        1.31841404e+05,  4.72592892e+04,  6.70683294e+04, -6.09948911e+03,\n",
       "        5.10349839e+03,  2.84641098e+04,  8.76970514e+04,  1.14037438e+05,\n",
       "        4.94654603e+04,  3.22783834e+04,  1.00209538e+05,  6.74931245e+04,\n",
       "        8.46829277e+04,  6.25520343e+04,  1.43414128e+05, -9.84315175e+03,\n",
       "        2.26396207e+04,  8.42696204e+04,  3.84243924e+04, -3.21093611e+04,\n",
       "        7.61806967e+04,  2.04938068e+04,  4.91206684e+04])"
      ]
     },
     "execution_count": 47,
     "metadata": {},
     "output_type": "execute_result"
    }
   ],
   "source": [
    "Women_predictions = Women_model.predict(Women_X_test)\n",
    "Women_predictions"
   ]
  },
  {
   "cell_type": "code",
   "execution_count": 48,
   "metadata": {},
   "outputs": [
    {
     "data": {
      "text/plain": [
       "array([ 51721.24874632,  28403.29255867, 128911.84306251, ...,\n",
       "        41143.63364548,  46821.13295868,  51394.90947173])"
      ]
     },
     "execution_count": 48,
     "metadata": {},
     "output_type": "execute_result"
    }
   ],
   "source": [
    "Men_predictions = Men_model.predict(Men_X_test)\n",
    "Men_predictions"
   ]
  },
  {
   "cell_type": "code",
   "execution_count": 49,
   "metadata": {},
   "outputs": [
    {
     "data": {
      "text/plain": [
       "<AxesSubplot:xlabel='Salary'>"
      ]
     },
     "execution_count": 49,
     "metadata": {},
     "output_type": "execute_result"
    },
    {
     "data": {
      "image/png": "[encoded data removed]",
      "text/plain": [
       "<Figure size 432x288 with 1 Axes>"
      ]
     },
     "metadata": {
      "needs_background": "light"
     },
     "output_type": "display_data"
    }
   ],
   "source": [
    "sns.regplot(Women_y_test,Women_predictions)"
   ]
  },
  {
   "cell_type": "code",
   "execution_count": 50,
   "metadata": {},
   "outputs": [
    {
     "data": {
      "text/plain": [
       "<AxesSubplot:xlabel='Salary'>"
      ]
     },
     "execution_count": 50,
     "metadata": {},
     "output_type": "execute_result"
    },
    {
     "data": {
      "image/png": "[encoded data removed]",
      "text/plain": [
       "<Figure size 432x288 with 1 Axes>"
      ]
     },
     "metadata": {
      "needs_background": "light"
     },
     "output_type": "display_data"
    }
   ],
   "source": [
    "sns.regplot(Men_y_test,Men_predictions)"
   ]
  },
  {
   "cell_type": "code",
   "execution_count": 51,
   "metadata": {},
   "outputs": [
    {
     "name": "stdout",
     "output_type": "stream",
     "text": [
      "                            OLS Regression Results                            \n",
      "==============================================================================\n",
      "Dep. Variable:                 Salary   R-squared:                       0.531\n",
      "Model:                            OLS   Adj. R-squared:                  0.516\n",
      "Method:                 Least Squares   F-statistic:                     37.01\n",
      "Date:                Tue, 13 Jul 2021   Prob (F-statistic):               0.00\n",
      "Time:                        19:39:37   Log-Likelihood:                -31550.\n",
      "No. Observations:                2634   AIC:                         6.326e+04\n",
      "Df Residuals:                    2555   BIC:                         6.372e+04\n",
      "Df Model:                          78                                         \n",
      "Covariance Type:            nonrobust                                         \n",
      "======================================================================================================================================================\n",
      "                                                                                         coef    std err          t      P>|t|      [0.025      0.975]\n",
      "------------------------------------------------------------------------------------------------------------------------------------------------------\n",
      "const                                                                              -1.281e+04   2.83e+04     -0.452      0.651   -6.84e+04    4.28e+04\n",
      "Age                                                                                  517.0761    103.603      4.991      0.000     313.921     720.231\n",
      "Years_Coding                                                                        1694.1427    144.933     11.689      0.000    1409.945    1978.340\n",
      "Country_Argentina                                                                  -6127.3189   2.92e+04     -0.210      0.834   -6.33e+04    5.11e+04\n",
      "Country_Australia                                                                   5.687e+04   2.86e+04      1.988      0.047     770.201    1.13e+05\n",
      "Country_Austria                                                                     4.428e+04   3.29e+04      1.348      0.178   -2.01e+04    1.09e+05\n",
      "Country_Bangladesh                                                                 -1337.7603   3.93e+04     -0.034      0.973   -7.85e+04    7.58e+04\n",
      "Country_Belarus                                                                      968.1625   3.05e+04      0.032      0.975   -5.88e+04    6.08e+04\n",
      "Country_Belgium                                                                     2.553e+04   3.15e+04      0.810      0.418   -3.63e+04    8.74e+04\n",
      "Country_Brazil                                                                      1700.9253   2.81e+04      0.060      0.952   -5.35e+04    5.69e+04\n",
      "Country_Canada                                                                      4.902e+04   2.81e+04      1.743      0.082   -6139.079    1.04e+05\n",
      "Country_Chile                                                                       5019.5284   2.98e+04      0.169      0.866   -5.33e+04    6.34e+04\n",
      "Country_China                                                                        1.56e+04   2.85e+04      0.547      0.585   -4.04e+04    7.16e+04\n",
      "Country_Colombia                                                                   -7399.3891   2.93e+04     -0.253      0.800   -6.48e+04       5e+04\n",
      "Country_Czech Republic                                                              1.934e+04    3.4e+04      0.568      0.570   -4.74e+04    8.61e+04\n",
      "Country_Denmark                                                                     4.645e+04   3.41e+04      1.364      0.173   -2.04e+04    1.13e+05\n",
      "Country_Egypt                                                                       1129.5232   2.94e+04      0.038      0.969   -5.65e+04    5.87e+04\n",
      "Country_France                                                                      1.802e+04   2.83e+04      0.637      0.524   -3.74e+04    7.35e+04\n",
      "Country_Germany                                                                     4.667e+04   2.82e+04      1.657      0.098   -8556.275    1.02e+05\n",
      "Country_Greece                                                                      3715.6652   2.93e+04      0.127      0.899   -5.38e+04    6.12e+04\n",
      "Country_Hong Kong (S.A.R.)                                                          5.512e+04   3.01e+04      1.833      0.067   -3849.285    1.14e+05\n",
      "Country_Hungary                                                                    -8142.1488   3.41e+04     -0.239      0.811    -7.5e+04    5.87e+04\n",
      "Country_India                                                                       4911.0755   2.79e+04      0.176      0.860   -4.98e+04    5.97e+04\n",
      "Country_Indonesia                                                                   3150.3757   2.91e+04      0.108      0.914   -5.38e+04    6.01e+04\n",
      "Country_Iran, Islamic Republic of...                                               -1.148e+04   2.99e+04     -0.384      0.701   -7.02e+04    4.72e+04\n",
      "Country_Ireland                                                                     3.999e+04   2.95e+04      1.354      0.176   -1.79e+04    9.79e+04\n",
      "Country_Israel                                                                      5.081e+04   3.01e+04      1.688      0.092   -8224.540     1.1e+05\n",
      "Country_Italy                                                                       1.219e+04   2.86e+04      0.426      0.670    -4.4e+04    6.84e+04\n",
      "Country_Japan                                                                       5.235e+04   2.84e+04      1.841      0.066   -3401.668    1.08e+05\n",
      "Country_Kenya                                                                       2626.4429   2.96e+04      0.089      0.929   -5.55e+04    6.08e+04\n",
      "Country_Malaysia                                                                     916.5969   2.93e+04      0.031      0.975   -5.66e+04    5.84e+04\n",
      "Country_Mexico                                                                      -459.8273   2.92e+04     -0.016      0.987   -5.78e+04    5.69e+04\n",
      "Country_Morocco                                                                    -1.174e+04   3.59e+04     -0.327      0.743   -8.21e+04    5.86e+04\n",
      "Country_Netherlands                                                                 4.604e+04   2.88e+04      1.599      0.110   -1.04e+04    1.03e+05\n",
      "Country_New Zealand                                                                 5.224e+04   3.08e+04      1.696      0.090   -8172.161    1.13e+05\n",
      "Country_Nigeria                                                                    -1233.8326   2.88e+04     -0.043      0.966   -5.76e+04    5.51e+04\n",
      "Country_Norway                                                                      5.643e+04    3.6e+04      1.568      0.117   -1.41e+04    1.27e+05\n",
      "Country_Other                                                                       5953.5945   2.81e+04      0.212      0.832   -4.91e+04     6.1e+04\n",
      "Country_Pakistan                                                                   -1979.1126   2.98e+04     -0.066      0.947   -6.04e+04    5.64e+04\n",
      "Country_Peru                                                                        9989.4749   3.04e+04      0.328      0.743   -4.97e+04    6.97e+04\n",
      "Country_Philippines                                                                  -50.7388   2.98e+04     -0.002      0.999   -5.84e+04    5.83e+04\n",
      "Country_Poland                                                                       1.27e+04   2.87e+04      0.443      0.658   -4.35e+04    6.89e+04\n",
      "Country_Portugal                                                                     1.81e+04   2.87e+04      0.631      0.528   -3.82e+04    7.44e+04\n",
      "Country_Republic of Korea                                                          -1.544e+04    3.3e+04     -0.468      0.640   -8.01e+04    4.92e+04\n",
      "Country_Romania                                                                     -532.9754   2.91e+04     -0.018      0.985   -5.76e+04    5.66e+04\n",
      "Country_Russia                                                                      6998.9323   2.83e+04      0.248      0.804   -4.84e+04    6.24e+04\n",
      "Country_Saudi Arabia                                                                1.711e+04   2.99e+04      0.573      0.567   -4.15e+04    7.57e+04\n",
      "Country_Singapore                                                                   2.833e+04   2.91e+04      0.973      0.331   -2.88e+04    8.54e+04\n",
      "Country_South Africa                                                                1726.1372      3e+04      0.058      0.954   -5.71e+04    6.05e+04\n",
      "Country_South Korea                                                                  1.38e+04   2.87e+04      0.480      0.631   -4.25e+04    7.01e+04\n",
      "Country_Spain                                                                       9706.5780   2.82e+04      0.344      0.731   -4.56e+04     6.5e+04\n",
      "Country_Sri Lanka                                                                   -172.8033   4.81e+04     -0.004      0.997   -9.45e+04    9.41e+04\n",
      "Country_Sweden                                                                      3.007e+04    2.9e+04      1.036      0.300   -2.68e+04     8.7e+04\n",
      "Country_Switzerland                                                                 6.056e+04   2.98e+04      2.033      0.042    2134.111    1.19e+05\n",
      "Country_Taiwan                                                                      3.622e+04   2.87e+04      1.263      0.207      -2e+04    9.24e+04\n",
      "Country_Thailand                                                                    1.827e+04   3.03e+04      0.602      0.547   -4.12e+04    7.78e+04\n",
      "Country_Tunisia                                                                    -8956.0384   3.04e+04     -0.294      0.769   -6.87e+04    5.07e+04\n",
      "Country_Turkey                                                                     -5118.5933   2.86e+04     -0.179      0.858   -6.13e+04     5.1e+04\n",
      "Country_Ukraine                                                                     1859.9381   2.91e+04      0.064      0.949   -5.52e+04    5.89e+04\n",
      "Country_United Arab Emirates                                                       -3826.4883   4.81e+04     -0.080      0.937   -9.81e+04    9.04e+04\n",
      "Country_United Kingdom of Great Britain and Northern Ireland                        3.395e+04   2.82e+04      1.205      0.228   -2.13e+04    8.92e+04\n",
      "Country_United States of America                                                    8.671e+04   2.79e+04      3.106      0.002     3.2e+04    1.41e+05\n",
      "Country_Viet Nam                                                                    1.657e+04   3.21e+04      0.516      0.606   -4.64e+04    7.95e+04\n",
      "Formal_Education_Doctoral degree                                                    4577.2588   2734.906      1.674      0.094    -785.598    9940.116\n",
      "Formal_Education_I prefer not to answer                                            -1.018e+04   8770.222     -1.161      0.246   -2.74e+04    7014.997\n",
      "Formal_Education_Master’s degree                                                    3528.2939   2055.045      1.717      0.086    -501.429    7558.017\n",
      "Formal_Education_No formal education past high school                               -131.9268   1.08e+04     -0.012      0.990   -2.14e+04    2.11e+04\n",
      "Formal_Education_Professional degree                                                6835.0850   4355.248      1.569      0.117   -1705.090    1.54e+04\n",
      "Formal_Education_Some college/university study without earning a bachelor’s degree -2.512e+04   7381.568     -3.404      0.001   -3.96e+04   -1.06e+04\n",
      "Position_DBA/Database Engineer                                                      -981.8799   1.02e+04     -0.096      0.924    -2.1e+04    1.91e+04\n",
      "Position_Data Analyst                                                              -7410.2651   3730.781     -1.986      0.047   -1.47e+04     -94.603\n",
      "Position_Data Engineer                                                             -1884.9926   5199.674     -0.363      0.717   -1.21e+04    8311.010\n",
      "Position_Data Scientist                                                             6645.9769   3572.486      1.860      0.063    -359.285    1.37e+04\n",
      "Position_Machine Learning Engineer                                                 -3835.3910   7102.800     -0.540      0.589   -1.78e+04    1.01e+04\n",
      "Position_Other                                                                     -6983.3190   3954.606     -1.766      0.078   -1.47e+04     771.241\n",
      "Position_Product/Project Manager                                                    3985.9678   4862.175      0.820      0.412   -5548.236    1.35e+04\n",
      "Position_Research Scientist                                                         -1.01e+04   4291.034     -2.353      0.019   -1.85e+04   -1684.047\n",
      "Position_Software Engineer                                                         -1252.0280   3909.347     -0.320      0.749   -8917.840    6413.784\n",
      "Position_Statistician                                                              -1365.3222   5756.607     -0.237      0.813   -1.27e+04    9922.767\n",
      "==============================================================================\n",
      "Omnibus:                     1867.241   Durbin-Watson:                   2.040\n",
      "Prob(Omnibus):                  0.000   Jarque-Bera (JB):            57544.728\n",
      "Skew:                           2.962   Prob(JB):                         0.00\n",
      "Kurtosis:                      25.118   Cond. No.                     1.01e+04\n",
      "==============================================================================\n",
      "\n",
      "Notes:\n",
      "[1] Standard Errors assume that the covariance matrix of the errors is correctly specified.\n",
      "[2] The condition number is large, 1.01e+04. This might indicate that there are\n",
      "strong multicollinearity or other numerical problems.\n"
     ]
    }
   ],
   "source": [
    "import statsmodels.api as sm\n",
    "Woemn_X_train_Sm= sm.add_constant(Women_X_train)\n",
    "Women_X_train_Sm= sm.add_constant(Women_X_train)\n",
    "ls=sm.OLS(Women_y_train,Women_X_train_Sm).fit()\n",
    "print(ls.summary())"
   ]
  },
  {
   "cell_type": "markdown",
   "metadata": {},
   "source": [
    "From r-squared value, we have 52% chance of correctly predicting Women's salary based on age, years coding, education, and country"
   ]
  },
  {
   "cell_type": "code",
   "execution_count": 52,
   "metadata": {},
   "outputs": [
    {
     "name": "stdout",
     "output_type": "stream",
     "text": [
      "                            OLS Regression Results                            \n",
      "==============================================================================\n",
      "Dep. Variable:                 Salary   R-squared:                       0.501\n",
      "Model:                            OLS   Adj. R-squared:                  0.498\n",
      "Method:                 Least Squares   F-statistic:                     208.2\n",
      "Date:                Tue, 13 Jul 2021   Prob (F-statistic):               0.00\n",
      "Time:                        19:39:37   Log-Likelihood:            -2.0200e+05\n",
      "No. Observations:               16693   AIC:                         4.042e+05\n",
      "Df Residuals:                   16612   BIC:                         4.048e+05\n",
      "Df Model:                          80                                         \n",
      "Covariance Type:            nonrobust                                         \n",
      "======================================================================================================================================================\n",
      "                                                                                         coef    std err          t      P>|t|      [0.025      0.975]\n",
      "------------------------------------------------------------------------------------------------------------------------------------------------------\n",
      "const                                                                              -2.869e+04   8795.180     -3.262      0.001   -4.59e+04   -1.15e+04\n",
      "Age                                                                                  803.2315     39.318     20.429      0.000     726.164     880.299\n",
      "Years_Coding                                                                        1439.4542     58.154     24.752      0.000    1325.466    1553.442\n",
      "Country_Argentina                                                                  -1665.7114   9379.875     -0.178      0.859   -2.01e+04    1.67e+04\n",
      "Country_Australia                                                                   8.161e+04   8949.860      9.118      0.000    6.41e+04    9.91e+04\n",
      "Country_Austria                                                                      4.86e+04   1.06e+04      4.566      0.000    2.77e+04    6.95e+04\n",
      "Country_Bangladesh                                                                  4624.4485   1.02e+04      0.452      0.652   -1.54e+04    2.47e+04\n",
      "Country_Belarus                                                                     1.226e+04   1.01e+04      1.208      0.227   -7632.880    3.22e+04\n",
      "Country_Belgium                                                                     4.077e+04   9751.311      4.181      0.000    2.17e+04    5.99e+04\n",
      "Country_Brazil                                                                      1.437e+04   8718.436      1.649      0.099   -2714.198    3.15e+04\n",
      "Country_Canada                                                                      6.007e+04   8866.692      6.774      0.000    4.27e+04    7.74e+04\n",
      "Country_Chile                                                                        1.34e+04   9517.628      1.408      0.159   -5257.630    3.21e+04\n",
      "Country_China                                                                       2.359e+04   8943.527      2.638      0.008    6058.968    4.11e+04\n",
      "Country_Colombia                                                                    7994.3124   9134.440      0.875      0.381   -9910.165    2.59e+04\n",
      "Country_Czech Republic                                                              2.223e+04   1.11e+04      1.998      0.046     417.394     4.4e+04\n",
      "Country_Denmark                                                                     6.925e+04   1.09e+04      6.374      0.000     4.8e+04    9.05e+04\n",
      "Country_Egypt                                                                       4943.5279   1.02e+04      0.483      0.629   -1.51e+04     2.5e+04\n",
      "Country_France                                                                      3.818e+04   8857.666      4.311      0.000    2.08e+04    5.55e+04\n",
      "Country_Germany                                                                       5.5e+04   8784.014      6.261      0.000    3.78e+04    7.22e+04\n",
      "Country_Ghana                                                                        443.3674   1.77e+04      0.025      0.980   -3.42e+04    3.51e+04\n",
      "Country_Greece                                                                      2.118e+04   9635.713      2.198      0.028    2294.109    4.01e+04\n",
      "Country_Hong Kong (S.A.R.)                                                          7.179e+04   1.06e+04      6.743      0.000    5.09e+04    9.27e+04\n",
      "Country_Hungary                                                                     3.214e+04   1.06e+04      3.018      0.003    1.13e+04     5.3e+04\n",
      "Country_India                                                                       1.465e+04   8618.252      1.700      0.089   -2241.670    3.15e+04\n",
      "Country_Indonesia                                                                   1.244e+04   9476.760      1.313      0.189   -6137.023     3.1e+04\n",
      "Country_Iran, Islamic Republic of...                                               -7301.9576   1.07e+04     -0.683      0.494   -2.82e+04    1.36e+04\n",
      "Country_Ireland                                                                      4.53e+04   1.01e+04      4.482      0.000    2.55e+04    6.51e+04\n",
      "Country_Israel                                                                      7.439e+04   9472.954      7.852      0.000    5.58e+04     9.3e+04\n",
      "Country_Italy                                                                       2.336e+04   8918.746      2.619      0.009    5877.095    4.08e+04\n",
      "Country_Japan                                                                       3.779e+04   8742.042      4.322      0.000    2.07e+04    5.49e+04\n",
      "Country_Kenya                                                                       8562.8332   1.05e+04      0.818      0.414    -1.2e+04    2.91e+04\n",
      "Country_Malaysia                                                                    1.504e+04   1.04e+04      1.445      0.148   -5358.218    3.54e+04\n",
      "Country_Mexico                                                                      1.191e+04   9158.492      1.300      0.194   -6044.103    2.99e+04\n",
      "Country_Morocco                                                                     6905.8565   1.02e+04      0.676      0.499   -1.31e+04    2.69e+04\n",
      "Country_Nepal                                                                      -4751.5059   1.86e+04     -0.255      0.799   -4.12e+04    3.17e+04\n",
      "Country_Netherlands                                                                 4.212e+04   9122.129      4.617      0.000    2.42e+04       6e+04\n",
      "Country_New Zealand                                                                 5.636e+04   1.05e+04      5.363      0.000    3.58e+04     7.7e+04\n",
      "Country_Nigeria                                                                     6834.4432   9203.155      0.743      0.458   -1.12e+04    2.49e+04\n",
      "Country_Norway                                                                      6.751e+04   1.07e+04      6.314      0.000    4.66e+04    8.85e+04\n",
      "Country_Other                                                                       2.208e+04   8690.792      2.541      0.011    5046.461    3.91e+04\n",
      "Country_Pakistan                                                                    4185.3682   9329.094      0.449      0.654   -1.41e+04    2.25e+04\n",
      "Country_Peru                                                                          59.2836   9856.000      0.006      0.995   -1.93e+04    1.94e+04\n",
      "Country_Philippines                                                                 1.042e+04   1.08e+04      0.967      0.333   -1.07e+04    3.15e+04\n",
      "Country_Poland                                                                      2.222e+04   9068.375      2.450      0.014    4440.524       4e+04\n",
      "Country_Portugal                                                                    1.292e+04   9380.958      1.377      0.169   -5472.171    3.13e+04\n",
      "Country_Republic of Korea                                                           2.654e+04   1.01e+04      2.633      0.008    6780.158    4.63e+04\n",
      "Country_Romania                                                                      1.87e+04   1.05e+04      1.785      0.074   -1831.012    3.92e+04\n",
      "Country_Russia                                                                      1.594e+04   8779.890      1.816      0.069   -1269.251    3.31e+04\n",
      "Country_Saudi Arabia                                                                3.361e+04   1.04e+04      3.239      0.001    1.33e+04    5.39e+04\n",
      "Country_Singapore                                                                   5.935e+04   9268.293      6.404      0.000    4.12e+04    7.75e+04\n",
      "Country_South Africa                                                                3.877e+04   9419.503      4.116      0.000    2.03e+04    5.72e+04\n",
      "Country_South Korea                                                                 3.002e+04   9406.594      3.192      0.001    1.16e+04    4.85e+04\n",
      "Country_Spain                                                                       2.678e+04   8804.052      3.041      0.002    9518.290     4.4e+04\n",
      "Country_Sri Lanka                                                                   1.143e+04   1.48e+04      0.770      0.441   -1.77e+04    4.05e+04\n",
      "Country_Sweden                                                                      3.765e+04   9602.642      3.921      0.000    1.88e+04    5.65e+04\n",
      "Country_Switzerland                                                                 9.594e+04   9561.322     10.034      0.000    7.72e+04    1.15e+05\n",
      "Country_Taiwan                                                                      1.534e+04   9072.455      1.691      0.091   -2438.370    3.31e+04\n",
      "Country_Thailand                                                                    1.304e+04   9915.366      1.315      0.189   -6397.465    3.25e+04\n",
      "Country_Tunisia                                                                     1.954e+04   1.14e+04      1.715      0.086   -2788.253    4.19e+04\n",
      "Country_Turkey                                                                      7225.1643   9083.764      0.795      0.426   -1.06e+04     2.5e+04\n",
      "Country_Ukraine                                                                     1.513e+04   9189.089      1.647      0.100   -2877.830    3.31e+04\n",
      "Country_United Arab Emirates                                                        5.444e+04   1.22e+04      4.446      0.000    3.04e+04    7.84e+04\n",
      "Country_United Kingdom of Great Britain and Northern Ireland                        6.193e+04   8787.414      7.048      0.000    4.47e+04    7.92e+04\n",
      "Country_United States of America                                                    1.089e+05   8619.591     12.640      0.000    9.21e+04    1.26e+05\n",
      "Country_Viet Nam                                                                    6430.3240   9939.273      0.647      0.518   -1.31e+04    2.59e+04\n",
      "Formal_Education_Doctoral degree                                                    1604.3634   1217.690      1.318      0.188    -782.438    3991.165\n",
      "Formal_Education_I prefer not to answer                                            -5455.1493   3311.256     -1.647      0.099   -1.19e+04    1035.266\n",
      "Formal_Education_Master’s degree                                                    1725.6883    868.084      1.988      0.047      24.150    3427.226\n",
      "Formal_Education_No formal education past high school                              -3555.9403   3796.165     -0.937      0.349    -1.1e+04    3884.948\n",
      "Formal_Education_Professional degree                                                7125.7704   1923.989      3.704      0.000    3354.546    1.09e+04\n",
      "Formal_Education_Some college/university study without earning a bachelor’s degree -8427.5019   2075.134     -4.061      0.000   -1.25e+04   -4360.018\n",
      "Position_DBA/Database Engineer                                                       728.8540   3569.846      0.204      0.838   -6268.425    7726.133\n",
      "Position_Data Analyst                                                              -7504.7173   1840.339     -4.078      0.000   -1.11e+04   -3897.456\n",
      "Position_Data Engineer                                                              2352.2900   2211.354      1.064      0.287   -1982.199    6686.779\n",
      "Position_Data Scientist                                                             1.085e+04   1642.322      6.604      0.000    7626.721    1.41e+04\n",
      "Position_Machine Learning Engineer                                                  1.094e+04   2636.412      4.150      0.000    5774.575    1.61e+04\n",
      "Position_Other                                                                      7839.7258   1800.959      4.353      0.000    4309.654    1.14e+04\n",
      "Position_Product/Project Manager                                                    1.321e+04   2051.747      6.441      0.000    9193.169    1.72e+04\n",
      "Position_Research Scientist                                                        -4436.8915   1921.158     -2.309      0.021   -8202.565    -671.218\n",
      "Position_Software Engineer                                                          4211.0400   1706.377      2.468      0.014     866.359    7555.721\n",
      "Position_Statistician                                                              -5281.2503   2960.126     -1.784      0.074   -1.11e+04     520.914\n",
      "==============================================================================\n",
      "Omnibus:                     9847.365   Durbin-Watson:                   2.017\n",
      "Prob(Omnibus):                  0.000   Jarque-Bera (JB):           161384.644\n",
      "Skew:                           2.524   Prob(JB):                         0.00\n",
      "Kurtosis:                      17.372   Cond. No.                     7.66e+03\n",
      "==============================================================================\n",
      "\n",
      "Notes:\n",
      "[1] Standard Errors assume that the covariance matrix of the errors is correctly specified.\n",
      "[2] The condition number is large, 7.66e+03. This might indicate that there are\n",
      "strong multicollinearity or other numerical problems.\n"
     ]
    }
   ],
   "source": [
    "import statsmodels.api as sm\n",
    "Men_X_train_Sm= sm.add_constant(Men_X_train)\n",
    "Men_X_train_Sm= sm.add_constant(Men_X_train)\n",
    "ls=sm.OLS(Men_y_train,Men_X_train_Sm).fit()\n",
    "print(ls.summary())"
   ]
  },
  {
   "cell_type": "markdown",
   "metadata": {},
   "source": [
    "From r-squared value, we have 50% chance of correctly predicting Women's salary based on age, years coding, education, and country"
   ]
  },
  {
   "cell_type": "code",
   "execution_count": null,
   "metadata": {},
   "outputs": [],
   "source": []
  }
 ],
 "metadata": {
  "kernelspec": {
   "display_name": "Python 3",
   "language": "python",
   "name": "python3"
  },
  "language_info": {
   "codemirror_mode": {
    "name": "ipython",
    "version": 3
   },
   "file_extension": ".py",
   "mimetype": "text/x-python",
   "name": "python",
   "nbconvert_exporter": "python",
   "pygments_lexer": "ipython3",
   "version": "3.7.9"
  }
 },
 "nbformat": 4,
 "nbformat_minor": 4
}
